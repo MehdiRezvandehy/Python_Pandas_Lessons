{
 "cells": [
  {
   "cell_type": "markdown",
   "metadata": {
    "toc": true
   },
   "source": [
    "<h1>Table of Contents<span class=\"tocSkip\"></span></h1>\n",
    "<div class=\"toc\"><ul class=\"toc-item\"><li><span><a href=\"#Installing-Python\" data-toc-modified-id=\"Installing-Python-1\"><span class=\"toc-item-num\">1&nbsp;&nbsp;</span>Installing Python</a></span><ul class=\"toc-item\"><li><span><a href=\"#Installing-Jupyter-and-Required-Modules\" data-toc-modified-id=\"Installing-Jupyter-and-Required-Modules-1.1\"><span class=\"toc-item-num\">1.1&nbsp;&nbsp;</span>Installing Jupyter and Required Modules</a></span></li><li><span><a href=\"#Launch-Jupyter-Notebook\" data-toc-modified-id=\"Launch-Jupyter-Notebook-1.2\"><span class=\"toc-item-num\">1.2&nbsp;&nbsp;</span>Launch Jupyter Notebook</a></span></li><li><span><a href=\"#Launch-Jupyter-Notebook-in-a-Specific-Folder\" data-toc-modified-id=\"Launch-Jupyter-Notebook-in-a-Specific-Folder-1.3\"><span class=\"toc-item-num\">1.3&nbsp;&nbsp;</span>Launch Jupyter Notebook in a Specific Folder</a></span></li></ul></li><li><span><a href=\"#Introduction-to-Python\" data-toc-modified-id=\"Introduction-to-Python-2\"><span class=\"toc-item-num\">2&nbsp;&nbsp;</span>Introduction to Python</a></span><ul class=\"toc-item\"><li><span><a href=\"#Print-Function,-Srings-and-Variables\" data-toc-modified-id=\"Print-Function,-Srings-and-Variables-2.1\"><span class=\"toc-item-num\">2.1&nbsp;&nbsp;</span>Print Function, Srings and Variables</a></span></li><li><span><a href=\"#Lists-and-Tuples,-Dictionaries\" data-toc-modified-id=\"Lists-and-Tuples,-Dictionaries-2.2\"><span class=\"toc-item-num\">2.2&nbsp;&nbsp;</span>Lists and Tuples, Dictionaries</a></span><ul class=\"toc-item\"><li><span><a href=\"#Lists-and-Tuples\" data-toc-modified-id=\"Lists-and-Tuples-2.2.1\"><span class=\"toc-item-num\">2.2.1&nbsp;&nbsp;</span>Lists and Tuples</a></span></li><li><span><a href=\"#Dictionaries\" data-toc-modified-id=\"Dictionaries-2.2.2\"><span class=\"toc-item-num\">2.2.2&nbsp;&nbsp;</span>Dictionaries</a></span></li></ul></li><li><span><a href=\"#Arrays\" data-toc-modified-id=\"Arrays-2.3\"><span class=\"toc-item-num\">2.3&nbsp;&nbsp;</span>Arrays</a></span><ul class=\"toc-item\"><li><span><a href=\"#Dimensions\" data-toc-modified-id=\"Dimensions-2.3.1\"><span class=\"toc-item-num\">2.3.1&nbsp;&nbsp;</span>Dimensions</a></span></li></ul></li><li><span><a href=\"#Generate-Random-Number\" data-toc-modified-id=\"Generate-Random-Number-2.4\"><span class=\"toc-item-num\">2.4&nbsp;&nbsp;</span>Generate Random Number</a></span></li><li><span><a href=\"#If-Statements-and-Loops\" data-toc-modified-id=\"If-Statements-and-Loops-2.5\"><span class=\"toc-item-num\">2.5&nbsp;&nbsp;</span>If Statements and Loops</a></span></li><li><span><a href=\"#Zip-and-Enumerate\" data-toc-modified-id=\"Zip-and-Enumerate-2.6\"><span class=\"toc-item-num\">2.6&nbsp;&nbsp;</span>Zip and Enumerate</a></span></li><li><span><a href=\"#Reading-and-Writing-a-File\" data-toc-modified-id=\"Reading-and-Writing-a-File-2.7\"><span class=\"toc-item-num\">2.7&nbsp;&nbsp;</span>Reading and Writing a File</a></span></li><li><span><a href=\"#Functions-and-Lambdas\" data-toc-modified-id=\"Functions-and-Lambdas-2.8\"><span class=\"toc-item-num\">2.8&nbsp;&nbsp;</span>Functions and Lambdas</a></span><ul class=\"toc-item\"><li><span><a href=\"#Functions\" data-toc-modified-id=\"Functions-2.8.1\"><span class=\"toc-item-num\">2.8.1&nbsp;&nbsp;</span>Functions</a></span></li><li><span><a href=\"#Filter\" data-toc-modified-id=\"Filter-2.8.2\"><span class=\"toc-item-num\">2.8.2&nbsp;&nbsp;</span>Filter</a></span></li><li><span><a href=\"#Lambda\" data-toc-modified-id=\"Lambda-2.8.3\"><span class=\"toc-item-num\">2.8.3&nbsp;&nbsp;</span>Lambda</a></span></li></ul></li><li><span><a href=\"#Data-visualization\" data-toc-modified-id=\"Data-visualization-2.9\"><span class=\"toc-item-num\">2.9&nbsp;&nbsp;</span>Data visualization</a></span></li></ul></li><li><span><a href=\"#Introduction-to-Pandas\" data-toc-modified-id=\"Introduction-to-Pandas-3\"><span class=\"toc-item-num\">3&nbsp;&nbsp;</span>Introduction to Pandas</a></span><ul class=\"toc-item\"><li><span><a href=\"#Look-at-Data\" data-toc-modified-id=\"Look-at-Data-3.1\"><span class=\"toc-item-num\">3.1&nbsp;&nbsp;</span>Look at Data</a></span></li><li><span><a href=\"#Data-Cleaning\" data-toc-modified-id=\"Data-Cleaning-3.2\"><span class=\"toc-item-num\">3.2&nbsp;&nbsp;</span>Data Cleaning</a></span><ul class=\"toc-item\"><li><span><a href=\"#Missing-(NaN)-Values\" data-toc-modified-id=\"Missing-(NaN)-Values-3.2.1\"><span class=\"toc-item-num\">3.2.1&nbsp;&nbsp;</span>Missing (NaN) Values</a></span></li><li><span><a href=\"#Remove-Outliers\" data-toc-modified-id=\"Remove-Outliers-3.2.2\"><span class=\"toc-item-num\">3.2.2&nbsp;&nbsp;</span>Remove Outliers</a></span></li><li><span><a href=\"#Concatenation\" data-toc-modified-id=\"Concatenation-3.2.3\"><span class=\"toc-item-num\">3.2.3&nbsp;&nbsp;</span>Concatenation</a></span></li><li><span><a href=\"#Saving-a-Dataframe-as-CSV\" data-toc-modified-id=\"Saving-a-Dataframe-as-CSV-3.2.4\"><span class=\"toc-item-num\">3.2.4&nbsp;&nbsp;</span>Saving a Dataframe as CSV</a></span></li></ul></li><li><span><a href=\"#Shuffling,-Grouping-and-Sorting\" data-toc-modified-id=\"Shuffling,-Grouping-and-Sorting-3.3\"><span class=\"toc-item-num\">3.3&nbsp;&nbsp;</span>Shuffling, Grouping and Sorting</a></span></li><li><span><a href=\"#Feature-Engineering\" data-toc-modified-id=\"Feature-Engineering-3.4\"><span class=\"toc-item-num\">3.4&nbsp;&nbsp;</span>Feature Engineering</a></span></li><li><span><a href=\"#Standardize-(Normalize)-Values\" data-toc-modified-id=\"Standardize-(Normalize)-Values-3.5\"><span class=\"toc-item-num\">3.5&nbsp;&nbsp;</span>Standardize (Normalize) Values</a></span></li><li><span><a href=\"#Categorical-Values\" data-toc-modified-id=\"Categorical-Values-3.6\"><span class=\"toc-item-num\">3.6&nbsp;&nbsp;</span>Categorical Values</a></span></li><li><span><a href=\"#Split-Data-to-Training-and-Validation\" data-toc-modified-id=\"Split-Data-to-Training-and-Validation-3.7\"><span class=\"toc-item-num\">3.7&nbsp;&nbsp;</span>Split Data to Training and Validation</a></span></li></ul></li></ul></div>"
   ]
  },
  {
   "cell_type": "markdown",
   "metadata": {},
   "source": [
    " "
   ]
  },
  {
   "cell_type": "markdown",
   "metadata": {},
   "source": [
    "<font size=\"6\"> Introduction to Python</font>  \n",
    "\n",
    "Python is a high-level, general-purpose programming language. Created by Guido van Rossum in 1989 as a scripting language for administrative tasks; it was named after a television show. First released in 1991. There has been a growing community of Python developers since then, evolving into a well-supported programming language. Python 3.0, released in 2008, was a significant revision of the language. Python has become a common programming language for machine learning and the primary language for TensorFlow. The Python Software Foundation (PSF), a non-profit organization, manages for Python development. See Python website at [www.python.org](https://www.python.org/)\n"
   ]
  },
  {
   "cell_type": "markdown",
   "metadata": {},
   "source": [
    "# Installing Python\n",
    "\n",
    "Anaconda distribution of Python is recommended since it already contains many data science packages. Anaconda is free (the download is large and take time) and can be installed on work or school or personal computers. Anaconda comes bundled with about pre-installed 600 packages. Download the latest version of Python 3 (As of August 2020, 3.8) from [Anaconda.com/downloads](https://www.anaconda.com/products/individual) and install it on your computer (only press next).\n",
    "\n",
    "<p>&nbsp;</p>\n",
    "<img src=\"https://raw.githubusercontent.com/MehdiRezvandehy/Machine-Learning-Course-University-of-Calgary/master/Images/Fig2-1.png \" alt=\"drawing\" width=\"900\"/>\n",
    "<p>&nbsp;</p>"
   ]
  },
  {
   "cell_type": "markdown",
   "metadata": {},
   "source": [
    "## Installing Jupyter and Required Modules\n",
    "\n",
    "The Jupyter notebook is an open-source web application that allows you to create and share documents that contain live code, equations, visualizations and narrative text. Jupyter Notebooks Allow Python and Markdown to coexist. We can write LaTeX equation in Jupyter notebook:\n",
    "\n",
    "$ f'(x) = \\lim_{a\\to0} \\frac{f(x+a) - f(x)}{a}. $\n",
    "\n",
    "\n",
    "Jupyter notebooks will be frequently used in this course. It should be installed into your base Python environment. Go to Windows Start menu, type *Anaconda Prompt (Anaconda3)*, right click on that and select *Run as administrator* to launch the anaconda console (see Figure below).\n",
    "Check to see if pip (pip is a package manager for Python packages, or modules) is installed by typing this command in the anaconda console and press enter: **pip3 --version**\n",
    "\n",
    "<p>&nbsp;</p>\n",
    "<img src=\"https://raw.githubusercontent.com/MehdiRezvandehy/Machine-Learning-Course-University-of-Calgary/master/Images/Fig2-2.png \" alt=\"drawing\" width=\"650\"/>\n",
    "<p>&nbsp;</p>\n",
    "\n",
    "Make sure that you have a recent version of pip installed. To upgrade the pip module, type this command in the anaconda console and press enter: **pip3 install --upgrade pip** \n",
    "\n",
    "Now install and upgrade all required modules and their dependencies by typing this command in the anaconda console:\n",
    "**pip3 install --upgrade jupyter matplotlib numpy pandas scipy scikit-learn**\n",
    "\n",
    "It may take a few minutes to complete. Try to import every module to check installation:\n",
    "\n",
    "**python -c \"import jupyter, matplotlib, numpy, pandas, scipy, sklearn\"**\n",
    "\n",
    "There should be no error and no output in console after pressing enter.\n"
   ]
  },
  {
   "cell_type": "markdown",
   "metadata": {},
   "source": [
    "## Launch Jupyter Notebook\n",
    "\n",
    "Install jupyter_nbextensions_configurator by typing this command in the anaconda console and press enter:\n",
    "\n",
    "**pip install jupyter_nbextensions_configurator**\n",
    "\n",
    "\n",
    "Type **jupyter notebook** in the anaconda console and press enter to pop up empty workspace. Now create a new Python notebook by clicking on the New button (and selecting the appropriate Python version) (see numbers 1 and 2 in Figure blow).\n",
    "\n",
    "A new notebook file called *Untitled.ipynb* is created in your workspace; it also starts a Jupyter Python kernel to run this notebook; and, this notebook opens in a new tab. This notebook can be renamed to “Script” (this automatically rename the file to Script.ipynb) by clicking Untitled and typing the new name (see number 3 in Figure blow). A notebook has a list of cells. Each cell can include executable code or formatted text. The notebook contains only one empty code cell when it is launched first (see Figure below for labeled **In [1]:**. Now type **print(\"Hello world!\")** in the cell (see number 4 in Figure blow), and click on the play button (see number 5 in Figure blow) or *press Shift-Enter*. This sends the current cell to this notebook’s Python kernel, which runs it and returns the output. The result is displayed below the cell, a new cell is automatically created since reaching the end of the notebook [Aurélien Géron, 2019](\n",
    "https://ucalgary-primo.hosted.exlibrisgroup.com/primo-explore/fulldisplay?docid=01UCALG_ALMA51737332320004336&context=L&vid=UCALGARY&lang=en_US&search_scope=EVERYTHING&adaptor=Local%20Search%20Engine&tab=everything&query=any,contains,Hands-On%20Machine%20Learning%20with%20Scikit-Learn%20%20Keras).\n",
    "\n",
    "<p>&nbsp;</p>\n",
    "<img src=\"https://raw.githubusercontent.com/MehdiRezvandehy/Machine-Learning-Course-University-of-Calgary/master/Images/Fig2-3.png \" alt=\"drawing\" width=\"900\"/>"
   ]
  },
  {
   "cell_type": "markdown",
   "metadata": {},
   "source": [
    "## Launch Jupyter Notebook in a Specific Folder\n",
    "\n",
    "If you want to launch a new or previously saved notebook in a specific directory, go to Windows Start menu and type *Anaconda Prompt (Anaconda3)* to launch the anaconda console: you can pin Anaconda Prompt to taskbar (see Figure below).\n",
    "\n",
    "\n",
    "Then, if you want to change drive type this command: drive name:. For example, if you want to go from drive C to F, type **F:** (see Figure below). Then, if you want to a folder, type **cd** folder's name. For example, Figure below shows how to launch a new notebook in drive F, folder Python.\n",
    "\n",
    "<p>&nbsp;</p>\n",
    "<img src=\"https://raw.githubusercontent.com/MehdiRezvandehy/Machine-Learning-Course-University-of-Calgary/master/Images/Fig2-4.png \" alt=\"drawing\" width=\"900\"/>\n",
    "<p>&nbsp;</p>"
   ]
  },
  {
   "cell_type": "markdown",
   "metadata": {},
   "source": [
    "# Introduction to Python "
   ]
  },
  {
   "cell_type": "markdown",
   "metadata": {},
   "source": [
    "## Print Function, Srings and Variables\n",
    "\n",
    "We start with printing \"Hello World\" similar to most programming tutorial. The code below passes a constant string, containing the text \"Hello World\" to the print function: a string is a series of characters, surrounded by single or double quotes. "
   ]
  },
  {
   "cell_type": "code",
   "execution_count": 1,
   "metadata": {},
   "outputs": [
    {
     "name": "stdout",
     "output_type": "stream",
     "text": [
      "Hello World\n"
     ]
    }
   ],
   "source": [
    "print('Hello World')"
   ]
  },
  {
   "cell_type": "markdown",
   "metadata": {},
   "source": [
    "To elaborate what you are coding for readers of your code, you can have comments in your code. In Python, any line of instructions containing the **#** symbol means the start of a comment. The rest of the line will be ignored when the program is run."
   ]
  },
  {
   "cell_type": "code",
   "execution_count": 2,
   "metadata": {},
   "outputs": [
    {
     "name": "stdout",
     "output_type": "stream",
     "text": [
      "Hello World\n"
     ]
    }
   ],
   "source": [
    "# When the program is run, this part has no effect.\n",
    "print(\"Hello World\") # print the string \"Hello World\""
   ]
  },
  {
   "cell_type": "markdown",
   "metadata": {},
   "source": [
    "Python also allows numbers as literal constants. An integer or a floating-point number can be differentiated by a decimal point. For example, the value 88 is an integer; 88.0 is a floating-point number. The value 88.0 is a floating-point number, but without fractional part. The value 88.6 is a floating-point number with fractional part. See the codes below. "
   ]
  },
  {
   "cell_type": "code",
   "execution_count": 3,
   "metadata": {},
   "outputs": [
    {
     "name": "stdout",
     "output_type": "stream",
     "text": [
      "88\n",
      "88.0\n",
      "88.6\n"
     ]
    }
   ],
   "source": [
    "print(88) \n",
    "print(88.0) \n",
    "print(88.6)"
   ]
  },
  {
   "cell_type": "markdown",
   "metadata": {},
   "source": [
    "We have seen string values and literal numeric. When your program is run, the constants do not change. We can have variables that change as the program runs: variables are used to store values. The variables have names referencing their values. The code below assigns a string value to a variable \"x\" and an integer value to another variable \"y\"."
   ]
  },
  {
   "cell_type": "code",
   "execution_count": 4,
   "metadata": {},
   "outputs": [
    {
     "name": "stdout",
     "output_type": "stream",
     "text": [
      "3\n",
      "three\n"
     ]
    }
   ],
   "source": [
    "x = 3\n",
    "y = \"three\"\n",
    "print(x)\n",
    "print(y)"
   ]
  },
  {
   "cell_type": "markdown",
   "metadata": {},
   "source": [
    "You can rewrite the code above to reduce length of your code using semicolon **;**."
   ]
  },
  {
   "cell_type": "code",
   "execution_count": 5,
   "metadata": {},
   "outputs": [
    {
     "name": "stdout",
     "output_type": "stream",
     "text": [
      "3\n",
      "three\n"
     ]
    }
   ],
   "source": [
    "x = 3; y = \"three\"; print(x); print(y) # using \";\" to reduce numebr of lines in your code"
   ]
  },
  {
   "cell_type": "markdown",
   "metadata": {},
   "source": [
    "The variables can change as you run your code. "
   ]
  },
  {
   "cell_type": "code",
   "execution_count": 6,
   "metadata": {},
   "outputs": [
    {
     "name": "stdout",
     "output_type": "stream",
     "text": [
      "10\n",
      "30\n"
     ]
    }
   ],
   "source": [
    "x = 10; print(x)\n",
    "x = x + 20; print(x) # add 20 to the variable with the assigned value 10"
   ]
  },
  {
   "cell_type": "markdown",
   "metadata": {},
   "source": [
    "Srings and variables can be concatenated (combining strings) in python. The variables with number must be converted to string with \"str\" function."
   ]
  },
  {
   "cell_type": "code",
   "execution_count": 7,
   "metadata": {},
   "outputs": [
    {
     "name": "stdout",
     "output_type": "stream",
     "text": [
      "This course is Machine Learning – Energy Systems\n"
     ]
    }
   ],
   "source": [
    "x = 'This course is '\n",
    "y = 'Machine Learning – Energy Systems'\n",
    "print(x+y)"
   ]
  },
  {
   "cell_type": "code",
   "execution_count": 8,
   "metadata": {},
   "outputs": [
    {
     "name": "stdout",
     "output_type": "stream",
     "text": [
      "The value of y variable is 8\n"
     ]
    }
   ],
   "source": [
    "x = 'The value of y variable is '\n",
    "y = 8\n",
    "print(x+str(y))"
   ]
  },
  {
   "cell_type": "code",
   "execution_count": 9,
   "metadata": {},
   "outputs": [
    {
     "name": "stdout",
     "output_type": "stream",
     "text": [
      "x+y= 17\n"
     ]
    }
   ],
   "source": [
    "x = 7; y = 10\n",
    "print('x+y= '+str(x+y))"
   ]
  },
  {
   "cell_type": "markdown",
   "metadata": {},
   "source": [
    "Although Python has many other ways to print numbers, we will use str() function for this course. The following code presents other ways of printing numbers:"
   ]
  },
  {
   "cell_type": "code",
   "execution_count": 10,
   "metadata": {},
   "outputs": [
    {
     "name": "stdout",
     "output_type": "stream",
     "text": [
      "The value of x is 25\n",
      "The value of x is 25\n",
      "The value of x is 25\n",
      "The value of x is 25\n"
     ]
    }
   ],
   "source": [
    "x = 25\n",
    "print('The value of x is ' + str(x)) # This is preferred in this course.\n",
    "print(f'The value of x is {x}') \n",
    "print('The value of x is {}'.format(x))\n",
    "print('The value of x is %d' % (x))"
   ]
  },
  {
   "cell_type": "markdown",
   "metadata": {},
   "source": [
    "## Lists and Tuples, Dictionaries\n",
    "\n",
    "Similar to most modern programming languages, Python contains built-in data structures. In this section, each of these collection types will be discussed in more detail."
   ]
  },
  {
   "cell_type": "markdown",
   "metadata": {},
   "source": [
    "### Lists and Tuples "
   ]
  },
  {
   "cell_type": "markdown",
   "metadata": {},
   "source": [
    "A Python list stores a series of items in a particular order. Many programming languages includes a data collection called an array. There is no built-in array type in Python. However, a list can be easily used in place of an array in Python. Arrays in most programming languages requires to assign maximum length ahead of time. This restriction leads to array-overrun (overflow) bugs. The Python list does not require to assign length and the program can dynamically alter the size of a list. Lists allow programmers to store sets of information in one place, does not matter a few items or millions of items. Lists are one of Python's most powerful features.\n",
    "\n",
    "Tuples are similar to lists. The only difference is the items in a tuple can't be modified: a tuple is immutable, which means the program cannot change it. It is possible to get by as a programmer using only lists and ignoring tuples. One advantage of tuples over lists is tuples may be a little faster for iteration over than lists.\n",
    "\n",
    "For making a list, use square brackets **[]**, and use commas **,** to separate individual items in the list."
   ]
  },
  {
   "cell_type": "code",
   "execution_count": 11,
   "metadata": {},
   "outputs": [
    {
     "name": "stdout",
     "output_type": "stream",
     "text": [
      "['a', 'b', 'c', 'd']\n"
     ]
    }
   ],
   "source": [
    "Lists = ['a', 'b', 'c', 'd']\n",
    "print(Lists)"
   ]
  },
  {
   "cell_type": "markdown",
   "metadata": {},
   "source": [
    "Individual elements in a list are called the index. The index of the first element is 0, the index of the second element is 1, and so forth. Negative indices denote to the items at the end of the list. To get a specific element, write the name of the list and then the index of the element in square brackets.\n",
    "\n",
    "$List= \\,\\,\\,\\,[\\,\\,\\,\\,'a'\\,\\,\\,,\\,\\,\\,'b' \\,\\,\\,,\\,\\,\\, 'c'\\,\\,\\,\\,,\\,\\,\\,\\,'d'\\,\\,\\,\\,]\\\\\n",
    "Index:\\,\\,\\,\\,\\,\\,\\,\\,\\,0\\,\\,\\,\\,\\,\\,\\,\\,\\,\\,\\,\\,1\\,\\,\\,\\,\\,\\,\\,\\,\\,\\,\\,\\,\\,2\\,\\,\\,\\,\\,\\,\\,\\,\\,\\,\\,\\,\\,3 \\\\\n",
    "Index:\\,\\,\\,\\,\\,-4\\,\\,\\,\\,\\,\\,\\,-3\\,\\,\\,\\,\\,-2\\,\\,\\,\\,\\,\\,\\,-1$"
   ]
  },
  {
   "cell_type": "code",
   "execution_count": 12,
   "metadata": {},
   "outputs": [
    {
     "data": {
      "text/plain": [
       "'d'"
      ]
     },
     "execution_count": 12,
     "metadata": {},
     "output_type": "execute_result"
    }
   ],
   "source": [
    "Lists[-1] # Get last element"
   ]
  },
  {
   "cell_type": "code",
   "execution_count": 13,
   "metadata": {},
   "outputs": [
    {
     "data": {
      "text/plain": [
       "'a'"
      ]
     },
     "execution_count": 13,
     "metadata": {},
     "output_type": "execute_result"
    }
   ],
   "source": [
    "Lists[0] # Get first element"
   ]
  },
  {
   "cell_type": "markdown",
   "metadata": {},
   "source": [
    "You can change individual elements in a list by referring to the index of the item you want to change."
   ]
  },
  {
   "cell_type": "code",
   "execution_count": 14,
   "metadata": {},
   "outputs": [
    {
     "name": "stdout",
     "output_type": "stream",
     "text": [
      "['a_changed', 'b', 'c_changed', 'd']\n"
     ]
    }
   ],
   "source": [
    "Lists[0] = 'a_changed' # Change first element to a_changed\n",
    "Lists[2] = 'c_changed'   # Change third element to c_changed\n",
    "print(Lists)"
   ]
  },
  {
   "cell_type": "markdown",
   "metadata": {},
   "source": [
    "The items in a tuple can't be modified and it gives *TypeError*. Tuples are enclosed with parenthesis **()**. "
   ]
  },
  {
   "cell_type": "code",
   "execution_count": 15,
   "metadata": {},
   "outputs": [
    {
     "name": "stdout",
     "output_type": "stream",
     "text": [
      "('a', 'b', 'c', 'd')\n"
     ]
    }
   ],
   "source": [
    "Tuples = ('a', 'b', 'c', 'd')\n",
    "print(Tuples)"
   ]
  },
  {
   "cell_type": "code",
   "execution_count": 16,
   "metadata": {},
   "outputs": [],
   "source": [
    "#Tuples[0] = 'a_changed' # Try to change first element of tuples but it gives TypeError"
   ]
  },
  {
   "cell_type": "markdown",
   "metadata": {},
   "source": [
    "**Tuples** do not allow the program to add any element after definition. This is possible with list; you can add elements to the end (using **append()** function) or wherever (using **insert()** function) you like in a list."
   ]
  },
  {
   "cell_type": "code",
   "execution_count": 17,
   "metadata": {},
   "outputs": [
    {
     "name": "stdout",
     "output_type": "stream",
     "text": [
      "['a_changed', 'b', 'c_changed', 'd', 'added_element']\n"
     ]
    }
   ],
   "source": [
    "# Adding an element to the end of the list\n",
    "Lists.append('added_element')\n",
    "print(Lists)\n"
   ]
  },
  {
   "cell_type": "code",
   "execution_count": 18,
   "metadata": {},
   "outputs": [
    {
     "name": "stdout",
     "output_type": "stream",
     "text": [
      "['First', 'Second', 'Third']\n"
     ]
    }
   ],
   "source": [
    "# Making a list with an empty list\n",
    "Lists = [] \n",
    "Lists.append('First') \n",
    "Lists.append('Second') \n",
    "Lists.append('Third')\n",
    "print(Lists)"
   ]
  },
  {
   "cell_type": "markdown",
   "metadata": {},
   "source": [
    "The programmer must specify an index for the insert function. "
   ]
  },
  {
   "cell_type": "code",
   "execution_count": 19,
   "metadata": {},
   "outputs": [
    {
     "name": "stdout",
     "output_type": "stream",
     "text": [
      "['a', 'b', 'a2', 'c']\n"
     ]
    }
   ],
   "source": [
    "# Insert\n",
    "Lists = ['a', 'b', 'c',]\n",
    "Lists.insert(2, 'a2')\n",
    "print(Lists)"
   ]
  },
  {
   "cell_type": "markdown",
   "metadata": {},
   "source": [
    "Elements can be removed by their position in a list (using **remove()** function) , or by the value of the item (using **del()** function). Python removes only the first item if you remove an item by its value."
   ]
  },
  {
   "cell_type": "code",
   "execution_count": 20,
   "metadata": {},
   "outputs": [
    {
     "name": "stdout",
     "output_type": "stream",
     "text": [
      "['a', 'b', 'c']\n"
     ]
    }
   ],
   "source": [
    "Lists.remove('a2') # Remove by value\n",
    "print(Lists)"
   ]
  },
  {
   "cell_type": "code",
   "execution_count": 21,
   "metadata": {},
   "outputs": [
    {
     "name": "stdout",
     "output_type": "stream",
     "text": [
      "['b', 'c']\n"
     ]
    }
   ],
   "source": [
    "del Lists[0] # Remove at index\n",
    "print(Lists)"
   ]
  },
  {
   "cell_type": "markdown",
   "metadata": {},
   "source": [
    "If a list contains numerical data, there are a number of simple statistics you can be applied."
   ]
  },
  {
   "cell_type": "code",
   "execution_count": 22,
   "metadata": {},
   "outputs": [
    {
     "name": "stdout",
     "output_type": "stream",
     "text": [
      "The youngest age is 4\n",
      "The oldest age is 92\n",
      "The total years are 533\n"
     ]
    }
   ],
   "source": [
    "ages_years = [92, 51, 78, 12, 63, 82, 65, 51, 4, 35] \n",
    "youngest = min(ages_years) # Find the minimum value\n",
    "print('The youngest age is '+str(youngest))\n",
    "#\n",
    "oldest = max(ages_years)   # Find the maximum value\n",
    "print('The oldest age is '+str(oldest))\n",
    "#\n",
    "total_years = sum(ages_years)\n",
    "print('The total years are '+str(total_years))"
   ]
  },
  {
   "cell_type": "markdown",
   "metadata": {},
   "source": [
    "You can work on a portion of a list that is called a slice. To slice a list, start with the index of the first item you want, then add a colon and the index after the last item you want. To start at the beginning of the list, leave off the first index. To slice through the end of the list, leave off the last index."
   ]
  },
  {
   "cell_type": "code",
   "execution_count": 23,
   "metadata": {},
   "outputs": [
    {
     "name": "stdout",
     "output_type": "stream",
     "text": [
      "['b', 'c', 'd']\n"
     ]
    }
   ],
   "source": [
    "# Get the three items from index 1 to 3\n",
    "lists = ['a', 'b', 'c', 'd', 'e', 'f'] \n",
    "middle_three = lists[1:4]\n",
    "print(middle_three)"
   ]
  },
  {
   "cell_type": "code",
   "execution_count": 24,
   "metadata": {},
   "outputs": [
    {
     "name": "stdout",
     "output_type": "stream",
     "text": [
      "['a', 'b', 'c', 'd']\n"
     ]
    }
   ],
   "source": [
    "# Get the first three items\n",
    "first_three = lists[:4]\n",
    "print(first_three)"
   ]
  },
  {
   "cell_type": "code",
   "execution_count": 25,
   "metadata": {},
   "outputs": [
    {
     "name": "stdout",
     "output_type": "stream",
     "text": [
      "['d', 'e', 'f']\n"
     ]
    }
   ],
   "source": [
    "# Get the last three items\n",
    "last_three = lists[-3:]\n",
    "print(last_three)"
   ]
  },
  {
   "cell_type": "markdown",
   "metadata": {},
   "source": [
    "You can find the index of a value in a list using **index()** function. **Index()** returns the lowest index in the list:"
   ]
  },
  {
   "cell_type": "code",
   "execution_count": 26,
   "metadata": {},
   "outputs": [
    {
     "name": "stdout",
     "output_type": "stream",
     "text": [
      "0\n"
     ]
    }
   ],
   "source": [
    "index=lists.index('a')\n",
    "print(index)"
   ]
  },
  {
   "cell_type": "markdown",
   "metadata": {},
   "source": [
    "If the value is not in the list, it returns a ValueError."
   ]
  },
  {
   "cell_type": "code",
   "execution_count": 27,
   "metadata": {},
   "outputs": [],
   "source": [
    "#index=lists.index('k')"
   ]
  },
  {
   "cell_type": "code",
   "execution_count": 28,
   "metadata": {},
   "outputs": [
    {
     "name": "stdout",
     "output_type": "stream",
     "text": [
      "0\n"
     ]
    }
   ],
   "source": [
    "# What lowest index means\n",
    "lists_1 = ['a', 'b', 'a', 'd'] \n",
    "index=lists_1.index('a')\n",
    "print(index)"
   ]
  },
  {
   "cell_type": "markdown",
   "metadata": {},
   "source": [
    "### Dictionaries\n",
    "\n",
    "Python provides a dictionary that allow you to connect pieces of related information. Each piece of information in a dictionary is stored as a key-value pair. Python returns the value associated with that key when a key is provided. \n",
    "\n",
    "For making a dictionary, use curly braces **{}** to define a dictionary. Use colons **\":\"** for connecting keys and values, and commas **\",\"** for separating individual key-value pairs."
   ]
  },
  {
   "cell_type": "code",
   "execution_count": 29,
   "metadata": {},
   "outputs": [
    {
     "name": "stdout",
     "output_type": "stream",
     "text": [
      "Tom\n",
      "95\n"
     ]
    }
   ],
   "source": [
    "Dic = {'name': 'Tom', 'midterm': 87,'Final':95 ,'grade':'A'}\n",
    "print(Dic['name'])\n",
    "print(Dic['Final'])"
   ]
  },
  {
   "cell_type": "code",
   "execution_count": 30,
   "metadata": {},
   "outputs": [
    {
     "name": "stdout",
     "output_type": "stream",
     "text": [
      "Tom\n",
      "95\n"
     ]
    }
   ],
   "source": [
    "# Get the value of a key with get()\n",
    "print(Dic.get('name'))\n",
    "print(Dic.get('Final'))"
   ]
  },
  {
   "cell_type": "code",
   "execution_count": 31,
   "metadata": {},
   "outputs": [
    {
     "name": "stdout",
     "output_type": "stream",
     "text": [
      "dict_keys(['name', 'midterm', 'Final', 'grade'])\n"
     ]
    }
   ],
   "source": [
    "# All of the keys of dictionary\n",
    "print(Dic.keys())"
   ]
  },
  {
   "cell_type": "code",
   "execution_count": 32,
   "metadata": {},
   "outputs": [
    {
     "name": "stdout",
     "output_type": "stream",
     "text": [
      "dict_values(['Tom', 87, 95, 'A'])\n"
     ]
    }
   ],
   "source": [
    "# All of the values of dictionary\n",
    "print(Dic.values())"
   ]
  },
  {
   "cell_type": "markdown",
   "metadata": {},
   "source": [
    "We can have a list for each key in dictionary. The following code shows a list of five values for each key."
   ]
  },
  {
   "cell_type": "code",
   "execution_count": 33,
   "metadata": {},
   "outputs": [
    {
     "name": "stdout",
     "output_type": "stream",
     "text": [
      "Name=  Tom , grade=  A\n"
     ]
    }
   ],
   "source": [
    "name=['Tom', 'Liam', 'Jared', 'Alex', 'John']\n",
    "grade=['A','A+','A-','B+','A']\n",
    "Dic_l = {'name': name,'grade':grade}\n",
    "\n",
    "i=0\n",
    "print('Name= ',Dic_l['name'][i],', grade= ',Dic_l['grade'][i])"
   ]
  },
  {
   "cell_type": "markdown",
   "metadata": {},
   "source": [
    "## Arrays"
   ]
  },
  {
   "cell_type": "markdown",
   "metadata": {},
   "source": [
    "As it was mentioned, in Python we have lists that serve the purpose of arrays. However, lists can be very slow to process for large data set. Arrays are very frequently applied in data science, where speed and resources are very important. **NumPy** is a Python library used for working with arrays. The reason why NumPy is faster than lists is NumPy arrays are stored at one continuous place in memory unlike lists, so it can be very efficiently processed and manipulated.\n",
    "\n",
    "First you need to install NumPy and import it in your applications by adding the **import** keyword. You can create an alias with the **as** keyword while importing:"
   ]
  },
  {
   "cell_type": "code",
   "execution_count": 34,
   "metadata": {},
   "outputs": [
    {
     "name": "stdout",
     "output_type": "stream",
     "text": [
      "[1 2 3 4 5 6 7 8]\n"
     ]
    }
   ],
   "source": [
    "import numpy as np\n",
    "\n",
    "list_=[1, 2, 3, 4, 5, 6, 7, 8]\n",
    "arr = np.array(list_)\n",
    "print(arr)"
   ]
  },
  {
   "cell_type": "markdown",
   "metadata": {},
   "source": [
    "### Dimensions "
   ]
  },
  {
   "cell_type": "markdown",
   "metadata": {},
   "source": [
    "**0-D Arrays (Scalars)**\n",
    "\n",
    "0-D Arrays are Scalars. Each value in an array is a 0-D array."
   ]
  },
  {
   "cell_type": "code",
   "execution_count": 35,
   "metadata": {},
   "outputs": [
    {
     "name": "stdout",
     "output_type": "stream",
     "text": [
      "82\n"
     ]
    }
   ],
   "source": [
    "arr = np.array(82)\n",
    "print(arr)"
   ]
  },
  {
   "cell_type": "markdown",
   "metadata": {},
   "source": [
    "**1-D Arrays (Vectors)**\n",
    "\n",
    "Uni-dimensional or 1-D array is an array that has 0-D arrays (values) as its elements."
   ]
  },
  {
   "cell_type": "code",
   "execution_count": 36,
   "metadata": {},
   "outputs": [
    {
     "name": "stdout",
     "output_type": "stream",
     "text": [
      "[1 2 3 4 5 6 7 8]\n"
     ]
    }
   ],
   "source": [
    "arr = np.array([1, 2, 3, 4, 5, 6, 7, 8])\n",
    "print(arr)"
   ]
  },
  {
   "cell_type": "markdown",
   "metadata": {},
   "source": [
    "**2-D Arrays (Matrices)**\n",
    "\n",
    "A 2-D array is an array that has 1-D arrays as its elements. 2-D arrays often used to represent matrix or second order tensors."
   ]
  },
  {
   "cell_type": "code",
   "execution_count": 37,
   "metadata": {},
   "outputs": [
    {
     "name": "stdout",
     "output_type": "stream",
     "text": [
      "[[ 1  2  3  4  5  6]\n",
      " [ 7  8  8 10 11 12]]\n"
     ]
    }
   ],
   "source": [
    "arr = np.array([[1, 2, 3, 4, 5, 6], [7, 8, 8, 10, 11, 12]])  # This is 2-D matrix that has two rows and 6 columns\n",
    "print(arr)"
   ]
  },
  {
   "cell_type": "markdown",
   "metadata": {},
   "source": [
    "**3-D Arrays**\n",
    "\n",
    "3-D array is an array that has 2-D arrays (matrices) as its elements. 3-D array are often used to show third order tensor."
   ]
  },
  {
   "cell_type": "code",
   "execution_count": 38,
   "metadata": {},
   "outputs": [
    {
     "name": "stdout",
     "output_type": "stream",
     "text": [
      "[[[1 2]\n",
      "  [3 4]]\n",
      "\n",
      " [[5 6]\n",
      "  [7 8]]]\n"
     ]
    }
   ],
   "source": [
    "import numpy as np\n",
    "\n",
    "arr = np.array([[[1, 2], [3, 4]], [[5, 6], [7, 8]]])\n",
    "print(arr)"
   ]
  },
  {
   "cell_type": "markdown",
   "metadata": {},
   "source": [
    "**ndim** attribute tells how many dimensions the array have."
   ]
  },
  {
   "cell_type": "code",
   "execution_count": 39,
   "metadata": {},
   "outputs": [
    {
     "data": {
      "text/plain": [
       "3"
      ]
     },
     "execution_count": 39,
     "metadata": {},
     "output_type": "execute_result"
    }
   ],
   "source": [
    "arr.ndim"
   ]
  },
  {
   "cell_type": "markdown",
   "metadata": {},
   "source": [
    "Shape of an array can be achieved by **shape** attribute that returns a tuple with each index having the number of corresponding elements."
   ]
  },
  {
   "cell_type": "code",
   "execution_count": 40,
   "metadata": {},
   "outputs": [
    {
     "data": {
      "text/plain": [
       "(2, 2, 2)"
      ]
     },
     "execution_count": 40,
     "metadata": {},
     "output_type": "execute_result"
    }
   ],
   "source": [
    "arr.shape"
   ]
  },
  {
   "cell_type": "markdown",
   "metadata": {},
   "source": [
    "Slicing 1D-arrays are similar to list:"
   ]
  },
  {
   "cell_type": "code",
   "execution_count": 41,
   "metadata": {},
   "outputs": [
    {
     "name": "stdout",
     "output_type": "stream",
     "text": [
      "7\n"
     ]
    }
   ],
   "source": [
    "arr = np.array([1, 2, 3, 4, 5, 6, 7])\n",
    "\n",
    "print(arr[-1])"
   ]
  },
  {
   "cell_type": "markdown",
   "metadata": {},
   "source": [
    "Slicing 2-D arrays:"
   ]
  },
  {
   "cell_type": "code",
   "execution_count": 42,
   "metadata": {},
   "outputs": [
    {
     "name": "stdout",
     "output_type": "stream",
     "text": [
      "[1 2]\n"
     ]
    }
   ],
   "source": [
    "arr = np.array([[1, 2, 3, 4, 5], [6, 7, 8, 9, 10]])\n",
    "\n",
    "print(arr[0, :2])"
   ]
  },
  {
   "cell_type": "markdown",
   "metadata": {},
   "source": [
    "We can also reshape an array from one dimension to another dimension using **reshape** function:"
   ]
  },
  {
   "cell_type": "code",
   "execution_count": 43,
   "metadata": {},
   "outputs": [
    {
     "name": "stdout",
     "output_type": "stream",
     "text": [
      "(8,)\n",
      "(4, 2)\n"
     ]
    }
   ],
   "source": [
    "arr = np.array([1, 2, 3, 4, 5, 6, 7, 8])\n",
    "print(arr.shape)\n",
    "new_arr = arr.reshape(4, 2)\n",
    "print(new_arr.shape)"
   ]
  },
  {
   "cell_type": "markdown",
   "metadata": {},
   "source": [
    "**Searching a Value in Arrays**\n",
    "\n",
    "you can find all indices of a value in an array by **where()**:"
   ]
  },
  {
   "cell_type": "code",
   "execution_count": 44,
   "metadata": {},
   "outputs": [
    {
     "name": "stdout",
     "output_type": "stream",
     "text": [
      "(array([0, 2, 4], dtype=int64),)\n"
     ]
    }
   ],
   "source": [
    "arr = np.array([3, 5, 3, 2, 3, 8, 7, 9])\n",
    "idx = np.where(arr==3)\n",
    "print(idx)"
   ]
  },
  {
   "cell_type": "markdown",
   "metadata": {},
   "source": [
    "## Generate Random Number"
   ]
  },
  {
   "cell_type": "markdown",
   "metadata": {},
   "source": [
    "Random means that the data can not be predicted logically. The code below generates random integer from 10 to 50 with NumPy. First you need to import **random**."
   ]
  },
  {
   "cell_type": "code",
   "execution_count": 45,
   "metadata": {},
   "outputs": [
    {
     "name": "stdout",
     "output_type": "stream",
     "text": [
      "29\n"
     ]
    }
   ],
   "source": [
    "from numpy import random\n",
    "\n",
    "random.seed(89)\n",
    "rand = random.randint(10,50)\n",
    "print(rand)"
   ]
  },
  {
   "cell_type": "markdown",
   "metadata": {},
   "source": [
    "The random module's **rand()** method returns a random float between 0 and 1."
   ]
  },
  {
   "cell_type": "code",
   "execution_count": 46,
   "metadata": {},
   "outputs": [
    {
     "name": "stdout",
     "output_type": "stream",
     "text": [
      "0.38783079576445467\n"
     ]
    }
   ],
   "source": [
    "#random.seed(45)\n",
    "rand = random.rand()\n",
    "print(rand)"
   ]
  },
  {
   "cell_type": "markdown",
   "metadata": {},
   "source": [
    "The following code generates a 1-D array containing 5 random integers from 10 to 50:"
   ]
  },
  {
   "cell_type": "code",
   "execution_count": 47,
   "metadata": {},
   "outputs": [
    {
     "name": "stdout",
     "output_type": "stream",
     "text": [
      "[32 47 18 28 43 36 49 40 34 10 33 32 16 32 43 48 17 32 41 29 27 39 27 15\n",
      " 17 41 39 26 37 23 33 23 39 43 14 40 38 22 19 28 34 22 22 25 13 37 19 20\n",
      " 10 12 33 23 45 11 25 46 44 38 30 25 37 43 47 40 46 36 45 25 45 49 10 39\n",
      " 25 45 31 25 49 19 34 30 36 31 30 25 43 31 34 39 13 25 26 33 29 39 20 47\n",
      " 46 30 34 44]\n"
     ]
    }
   ],
   "source": [
    "rand = random.randint(10,50, size=(100))\n",
    "print(rand)"
   ]
  },
  {
   "cell_type": "markdown",
   "metadata": {},
   "source": [
    "The following code generates a 2-D array with 2 rows each has 4 random integer from 10 to 50:"
   ]
  },
  {
   "cell_type": "code",
   "execution_count": 48,
   "metadata": {},
   "outputs": [
    {
     "name": "stdout",
     "output_type": "stream",
     "text": [
      "[[25 18 26 14]\n",
      " [31 27 40 48]]\n"
     ]
    }
   ],
   "source": [
    "rand = random.randint(10,50, size=(2,4))\n",
    "print(rand)"
   ]
  },
  {
   "cell_type": "markdown",
   "metadata": {},
   "source": [
    "The code below generates a 1-D array containing 5 random floats:"
   ]
  },
  {
   "cell_type": "code",
   "execution_count": 49,
   "metadata": {},
   "outputs": [
    {
     "name": "stdout",
     "output_type": "stream",
     "text": [
      "[0.99920205 0.23730174 0.89028427 0.93641836 0.75591492]\n"
     ]
    }
   ],
   "source": [
    "rand = random.rand(5)\n",
    "print(rand)"
   ]
  },
  {
   "cell_type": "markdown",
   "metadata": {},
   "source": [
    "2-D array of float numbers can be generated:"
   ]
  },
  {
   "cell_type": "code",
   "execution_count": 50,
   "metadata": {},
   "outputs": [
    {
     "name": "stdout",
     "output_type": "stream",
     "text": [
      "[[19.45507821 13.80481058  0.86738014]\n",
      " [ 1.59536119 13.60122857  5.71961611]]\n"
     ]
    }
   ],
   "source": [
    "rand = random.rand(2, 3)*20\n",
    "print(rand)"
   ]
  },
  {
   "cell_type": "markdown",
   "metadata": {},
   "source": [
    "## If Statements and Loops"
   ]
  },
  {
   "cell_type": "markdown",
   "metadata": {},
   "source": [
    "If statements are applied to test for particular conditions and respond properly.\n",
    "Conditional tests are:\n",
    "\n",
    "not equal $\\;\\;\\;\\;\\;\\;\\;\\;\\;$ **x != 82** <br>\n",
    "equals $\\;\\;\\;\\;\\;\\;\\;\\;\\;\\;\\;\\;$ **x == 82** <br>\n",
    "greater than $\\;\\;\\;\\;\\;$ **x >  82** <br>\n",
    "or equal to $\\;\\;\\;\\;\\;\\;\\;$ **x >= 82** <br>\n",
    "less than $\\;\\;\\;\\;\\;\\;\\;\\;\\;$ **x < 82**  <br>\n",
    "or equal to $\\;\\;\\;\\;\\;\\;\\;$ **x <= 82** <br>"
   ]
  },
  {
   "cell_type": "markdown",
   "metadata": {},
   "source": [
    "If-statements require appropriate indents to define blocks of code to execute together. A block usually begins after a colon and includes any lines at the same level of indent. Python uses whitespace to define blocks of code, unlike many other programming languages. One of main annoyance for new Python programmers is defining this whitespace.\""
   ]
  },
  {
   "cell_type": "code",
   "execution_count": 51,
   "metadata": {},
   "outputs": [
    {
     "name": "stdout",
     "output_type": "stream",
     "text": [
      "The variable is equal to 20\n"
     ]
    }
   ],
   "source": [
    "# If-elif-else statements\n",
    "val = 20\n",
    "if val<20:\n",
    "    print('The variable is less than 20')\n",
    "elif val>20:\n",
    "    print('The variable is greater than 20')\n",
    "else:\n",
    "    print('The variable is equal to 20')"
   ]
  },
  {
   "cell_type": "markdown",
   "metadata": {},
   "source": [
    "To loop over a range of numbers in Python, the **range** function can be used. The following code shows a **for** loop and a **range** function to loop between 1 and 5."
   ]
  },
  {
   "cell_type": "code",
   "execution_count": 52,
   "metadata": {},
   "outputs": [
    {
     "name": "stdout",
     "output_type": "stream",
     "text": [
      "0\n",
      "1\n",
      "2\n",
      "3\n",
      "4\n",
      "5\n"
     ]
    }
   ],
   "source": [
    "for number in range(6):\n",
    "    print(number)"
   ]
  },
  {
   "cell_type": "code",
   "execution_count": 53,
   "metadata": {},
   "outputs": [
    {
     "name": "stdout",
     "output_type": "stream",
     "text": [
      "Iteration 1\n",
      "Iteration 2\n",
      "Iteration 3\n",
      "Iteration 4\n",
      "Iteration 5\n"
     ]
    }
   ],
   "source": [
    "for number in range(1, 6):  \n",
    "    print('Iteration '+str(number)) # looped printing of string and number. "
   ]
  },
  {
   "cell_type": "code",
   "execution_count": 54,
   "metadata": {},
   "outputs": [
    {
     "name": "stdout",
     "output_type": "stream",
     "text": [
      "[4, 16, 36, 64, 100]\n"
     ]
    }
   ],
   "source": [
    "# Use loop, range and if functions to generate a list of square numbers for even number\n",
    "\n",
    "sqs= []\n",
    "for x in range(1, 11): \n",
    "    if (x%2==0):  # A number is even if division by 2 gives a remainder of 0\n",
    "        sq= x**2 \n",
    "        sqs.append(sq)\n",
    "print(sqs)   "
   ]
  },
  {
   "cell_type": "code",
   "execution_count": 55,
   "metadata": {},
   "outputs": [
    {
     "name": "stdout",
     "output_type": "stream",
     "text": [
      "Add 4, suming number so far= 4\n",
      "Add 16, suming number so far= 20\n",
      "Add 36, suming number so far= 56\n",
      "Add 64, suming number so far= 120\n",
      "Add 100, suming number so far= 220\n"
     ]
    }
   ],
   "source": [
    "# Looping over a list\n",
    "\n",
    "add=0\n",
    "for x in sqs:\n",
    "    add+=x \n",
    "    print(\"Add \"+str(x)+\", suming number so far= \"+str(add) )"
   ]
  },
  {
   "cell_type": "markdown",
   "metadata": {},
   "source": [
    "We can use python **comprehension** to generate a list; it is the same as for loop."
   ]
  },
  {
   "cell_type": "code",
   "execution_count": 56,
   "metadata": {},
   "outputs": [
    {
     "name": "stdout",
     "output_type": "stream",
     "text": [
      "[1, 2, 3, 4, 5]\n"
     ]
    }
   ],
   "source": [
    "number = [x for x in range(1, 6)]\n",
    "print(number)"
   ]
  },
  {
   "cell_type": "code",
   "execution_count": 57,
   "metadata": {},
   "outputs": [
    {
     "name": "stdout",
     "output_type": "stream",
     "text": [
      "[4, 16, 36, 64, 100]\n"
     ]
    }
   ],
   "source": [
    "# Use comprehension to generate a list of square numbers for even number\n",
    "\n",
    "sqs = [x**2 for x in range(1, 11) if (x%2==0)]          \n",
    "print(sqs)  "
   ]
  },
  {
   "cell_type": "markdown",
   "metadata": {},
   "source": [
    "## Zip and Enumerate"
   ]
  },
  {
   "cell_type": "markdown",
   "metadata": {},
   "source": [
    "Two lists can be combined into a single list by the **zip** command."
   ]
  },
  {
   "cell_type": "markdown",
   "metadata": {},
   "source": [
    "To see the results of the **zip** function, we convert the returned zip object into a list. As you can see, the **zip** function returns a list of tuples.  Each tuple represents a pair of items that the function zipped together.  The order in the two lists was maintained."
   ]
  },
  {
   "cell_type": "code",
   "execution_count": 58,
   "metadata": {},
   "outputs": [
    {
     "name": "stdout",
     "output_type": "stream",
     "text": [
      "Print x - y=  11\n",
      "Print x - y=  16\n",
      "Print x - y=  22\n",
      "Print x - y=  29\n",
      "Print x - y=  32\n"
     ]
    }
   ],
   "source": [
    "x = [12,18,25,33,37]\n",
    "y = [1,2,3,4,5]\n",
    "\n",
    "for x,y in zip(x,y):\n",
    "    print('Print x - y= ',x-y)"
   ]
  },
  {
   "cell_type": "markdown",
   "metadata": {},
   "source": [
    "You can use the **enumerate** command to define the index location for an element."
   ]
  },
  {
   "cell_type": "code",
   "execution_count": 59,
   "metadata": {},
   "outputs": [
    {
     "name": "stdout",
     "output_type": "stream",
     "text": [
      "index= 0, value= 7\n",
      "index= 1, value= 50\n",
      "index= 2, value= 75\n",
      "index= 3, value= 99\n",
      "index= 4, value= 32\n",
      "index= 5, value= 49\n",
      "index= 6, value= 67\n",
      "index= 7, value= 58\n"
     ]
    }
   ],
   "source": [
    "x = [7, 50, 75, 99, 32, 49, 67, 58]\n",
    "for i, j in enumerate(x):\n",
    "    print('index= '+str(i)+', value= '+str(j))"
   ]
  },
  {
   "cell_type": "markdown",
   "metadata": {},
   "source": [
    "The following program changes every element of the list less than 50 to 0; and filter the list. The enumerate command makes it possible to know which element index it is currently on, to change the value of that. "
   ]
  },
  {
   "cell_type": "code",
   "execution_count": 60,
   "metadata": {},
   "outputs": [
    {
     "name": "stdout",
     "output_type": "stream",
     "text": [
      "List for less than 50 to 0=  [0, 50, 75, 99, 0, 0, 67, 58]\n",
      "Filter list for less than 50=  [50, 75, 99, 67, 58]\n"
     ]
    }
   ],
   "source": [
    "x = [7, 50, 75, 99, 32, 49, 67, 58]\n",
    "new_list=[]\n",
    "for i, j in enumerate(x):\n",
    "        if j<50:\n",
    "            x[i] = 0\n",
    "        else:\n",
    "            new_list.append(x[i])\n",
    "            \n",
    "print('List for less than 50 to 0= ',x)\n",
    "print('Filter list for less than 50= ',new_list)"
   ]
  },
  {
   "cell_type": "markdown",
   "metadata": {},
   "source": [
    "The **enumerate** command can be used to build a dictionary. This approach is commonly used to build an index to column names."
   ]
  },
  {
   "cell_type": "code",
   "execution_count": 61,
   "metadata": {},
   "outputs": [
    {
     "name": "stdout",
     "output_type": "stream",
     "text": [
      "{'col1': 1, 'col2': 2, 'col3': 3, 'col4': 4}\n"
     ]
    }
   ],
   "source": [
    "colmn = ['col1','col2', 'col3', 'col4']\n",
    "Dic = {key:value+1 for (value,key) in enumerate(colmn)}\n",
    "print(Dic)"
   ]
  },
  {
   "cell_type": "markdown",
   "metadata": {},
   "source": [
    "we saw that index() function only return the lowest, but how we can get all indices of a value in list? we can use **enumerate** and **comprehension**:"
   ]
  },
  {
   "cell_type": "code",
   "execution_count": 62,
   "metadata": {},
   "outputs": [
    {
     "name": "stdout",
     "output_type": "stream",
     "text": [
      "Lowest index=  0\n",
      "All indices=  [0, 2, 6, 11]\n"
     ]
    }
   ],
   "source": [
    "list_=[1,3,1,9,45,85,1,69,3,4,2,1,9,3,7,2]\n",
    "\n",
    "# Get lowest index\n",
    "idx=list_.index(1)\n",
    "print('Lowest index= ',idx)\n",
    "\n",
    "# Get all indices using enumerate and comprehension\n",
    "inds = [idx for idx, n in enumerate(list_) if n == 1] \n",
    "print('All indices= ',inds)"
   ]
  },
  {
   "cell_type": "markdown",
   "metadata": {},
   "source": [
    "## Reading and Writing a File"
   ]
  },
  {
   "cell_type": "markdown",
   "metadata": {},
   "source": [
    "To read from a file, your code should open the file and then read the contents. It is possible to read the entire contents of the file at once, or read the file line by line. "
   ]
  },
  {
   "cell_type": "code",
   "execution_count": 63,
   "metadata": {},
   "outputs": [
    {
     "name": "stdout",
     "output_type": "stream",
     "text": [
      "Information of some energy wells in Alberta\t\t\t\t\t\t\n",
      "Easting(km)\t  Northing(km)\t  Depth(m)     Spudded Month      BH Temp(degC)\t  Geo. Formation\tOIL Prod(m3)\n",
      "310\t             832\t   1518\t           467\t              41\t    Dgrn_wash\t          46581\n",
      "570                  204\t   883\t           303\t              30\t    Kglauc_ss\t           697\n",
      "588\t             511\t   821\t           33\t              NA\t    Kdina                  220\n",
      "522\t             167\t   515.1\t   523\t              220\t    Kbelly_rv\t            0\n",
      "608\t             132\t   369\t           253\t              NA\t    Kmilk_rv\t            0\n",
      "521\t             167           1080\t           191\t              34\t    Ksunburst\t           8479\n",
      "503\t             370\t   1152\t           298\t              35\t    Kellrslie\t            14\n",
      "573\t             896\t   990\t           486\t              30\t    NA                      NA\n",
      "248\t             461\t   2350\t           183\t              NA\t    NA\t                    NA\n",
      "610\t             141\t   473             493\t              20\t    Kmilk_rv                0\n",
      "\n"
     ]
    }
   ],
   "source": [
    "# Reading an entire file at once\n",
    "filename = './Data/Wells.txt'\n",
    "with open(filename) as f_cont:\n",
    "    contents = f_cont.read() \n",
    "print(contents)"
   ]
  },
  {
   "cell_type": "markdown",
   "metadata": {},
   "source": [
    "For reading line by line, each line has a newline character at the end of the line. The **rstrip()** function eliminates the the extra blank lines."
   ]
  },
  {
   "cell_type": "code",
   "execution_count": 64,
   "metadata": {},
   "outputs": [
    {
     "name": "stdout",
     "output_type": "stream",
     "text": [
      "Information of some energy wells in Alberta\n",
      "Easting(km)\t  Northing(km)\t  Depth(m)     Spudded Month      BH Temp(degC)\t  Geo. Formation\tOIL Prod(m3)\n",
      "310\t             832\t   1518\t           467\t              41\t    Dgrn_wash\t          46581\n",
      "570                  204\t   883\t           303\t              30\t    Kglauc_ss\t           697\n",
      "588\t             511\t   821\t           33\t              NA\t    Kdina                  220\n",
      "522\t             167\t   515.1\t   523\t              220\t    Kbelly_rv\t            0\n",
      "608\t             132\t   369\t           253\t              NA\t    Kmilk_rv\t            0\n",
      "521\t             167           1080\t           191\t              34\t    Ksunburst\t           8479\n",
      "503\t             370\t   1152\t           298\t              35\t    Kellrslie\t            14\n",
      "573\t             896\t   990\t           486\t              30\t    NA                      NA\n",
      "248\t             461\t   2350\t           183\t              NA\t    NA\t                    NA\n",
      "610\t             141\t   473             493\t              20\t    Kmilk_rv                0\n"
     ]
    }
   ],
   "source": [
    "# Reading line by line\n",
    "with open(filename) as f_cont:\n",
    "    for line in f_cont: \n",
    "        print(line.rstrip())"
   ]
  },
  {
   "cell_type": "markdown",
   "metadata": {},
   "source": [
    "The advantage of reading line by line is that you can filter or manipulate the data while reading. This is very efficient for reading very large dataset. For example, the following code skip two lines. "
   ]
  },
  {
   "cell_type": "code",
   "execution_count": 65,
   "metadata": {},
   "outputs": [
    {
     "name": "stdout",
     "output_type": "stream",
     "text": [
      "310\t             832\t   1518\t           467\t              41\t    Dgrn_wash\t          46581\n",
      "570                  204\t   883\t           303\t              30\t    Kglauc_ss\t           697\n",
      "588\t             511\t   821\t           33\t              NA\t    Kdina                  220\n",
      "522\t             167\t   515.1\t   523\t              220\t    Kbelly_rv\t            0\n",
      "608\t             132\t   369\t           253\t              NA\t    Kmilk_rv\t            0\n",
      "521\t             167           1080\t           191\t              34\t    Ksunburst\t           8479\n",
      "503\t             370\t   1152\t           298\t              35\t    Kellrslie\t            14\n",
      "573\t             896\t   990\t           486\t              30\t    NA                      NA\n",
      "248\t             461\t   2350\t           183\t              NA\t    NA\t                    NA\n",
      "610\t             141\t   473             493\t              20\t    Kmilk_rv                0\n"
     ]
    }
   ],
   "source": [
    "# Reading line by line\n",
    "with open(filename) as f_cont:\n",
    "    for i in range(2):\n",
    "        next(f_cont) # Skip two lines\n",
    "    for line in f_cont:\n",
    "            print(line.rstrip())"
   ]
  },
  {
   "cell_type": "markdown",
   "metadata": {},
   "source": [
    "To get a specific column, you should split the line with function **split**. The following code shows how to get depths of the wells (column 3). Notice, python reads data as string, if you want to do any math on the data, you should convert it to number by **float()** function. "
   ]
  },
  {
   "cell_type": "code",
   "execution_count": 66,
   "metadata": {},
   "outputs": [
    {
     "name": "stdout",
     "output_type": "stream",
     "text": [
      "Depth in km [1.518, 0.883, 0.821, 0.5151, 0.369, 1.08, 1.152, 0.99, 2.35, 0.473]\n"
     ]
    }
   ],
   "source": [
    "# Reading line by line\n",
    "Depth_km=[]\n",
    "with open(filename) as f_cont:\n",
    "    for i in range(2):next(f_cont) # Skip two lines\n",
    "    for line in f_cont:\n",
    "        p = line.split() # Split line\n",
    "        Depth_m = float(p[2])  # Get depth value which is index 2 (column 3) and convert to number\n",
    "        Depth_km.append(Depth_m/1000)\n",
    "print('Depth in km',Depth_km)"
   ]
  },
  {
   "cell_type": "markdown",
   "metadata": {},
   "source": [
    "Now if you want to write a list to a file, you should pass the **'w'** argument to open() that tells Python to write to the file. Be careful; this will erase the contents of the file if it already exists. Passing the 'a' argument tells Python you want to append to the end of an existing file."
   ]
  },
  {
   "cell_type": "code",
   "execution_count": 67,
   "metadata": {},
   "outputs": [],
   "source": [
    "filename = 'Output.txt'\n",
    "with open(filename, 'w') as f:\n",
    "    for i in range(len(Depth_km)):\n",
    "        if(i==0): \n",
    "            f.write('Depth of wells in km\\n') # Make a header for your output file\n",
    "        f.write(str(Depth_km[i])+'\\n')"
   ]
  },
  {
   "cell_type": "markdown",
   "metadata": {},
   "source": [
    "You can import excel file in python. But, first you should **import xlrd**. The following code shows how to read data from sheet2 of th excel file \"Wells.xlsx\""
   ]
  },
  {
   "cell_type": "code",
   "execution_count": 68,
   "metadata": {},
   "outputs": [
    {
     "name": "stdout",
     "output_type": "stream",
     "text": [
      "Rows= 12 Columns= 7\n",
      "The value of row 3 and column 1 is 310.6626\n"
     ]
    }
   ],
   "source": [
    "import xlrd\n",
    "book = xlrd.open_workbook('./Data/Wells.xlsx')\n",
    "\n",
    "# Select excel sheet starts with 0\n",
    "sheet_num=0 \n",
    "sheet = book.sheet_by_index(sheet_num)\n",
    "\n",
    "# Get number of rows and columns \n",
    "rows = sheet.nrows\n",
    "columns = sheet.ncols\n",
    "print('Rows=',rows,'Columns=',columns)\n",
    "\n",
    "# Read row and column starts with 0\n",
    "row=2\n",
    "column=0\n",
    "val=sheet.cell_value(row, column) \n",
    "print('The value of row '+str(row+1)+ ' and column '+str(column+1)+' is',val)"
   ]
  },
  {
   "cell_type": "code",
   "execution_count": 69,
   "metadata": {},
   "outputs": [
    {
     "name": "stdout",
     "output_type": "stream",
     "text": [
      "  Northing(km)\n",
      "832.7453\n",
      "204.4554\n",
      "511.89459999999997\n",
      "167.9459\n",
      "132.09210000000002\n",
      "167.159\n",
      "370.2815\n",
      "89.6165\n",
      "461.6372\n",
      "141.0724\n"
     ]
    }
   ],
   "source": [
    "# Read the entire selected column 2\n",
    "column=1\n",
    "for i in range(rows-1):\n",
    "    print(sheet.cell_value(i+1, column) )"
   ]
  },
  {
   "cell_type": "code",
   "execution_count": 70,
   "metadata": {},
   "outputs": [
    {
     "name": "stdout",
     "output_type": "stream",
     "text": [
      "Reading row 4\n",
      "570.3494000000001\n",
      "204.4554\n",
      "883.0\n",
      "303.0\n",
      "30.0\n",
      "Kglauc_ss\n",
      "697.0\n"
     ]
    }
   ],
   "source": [
    "# Read 4th row of sheet 2 \n",
    "current_row=3\n",
    "for i in range(sheet.ncols): \n",
    "    if(i==0): print('Reading row '+str(current_row+1))\n",
    "    print(sheet.cell_value(current_row,i))"
   ]
  },
  {
   "cell_type": "markdown",
   "metadata": {},
   "source": [
    "Reading and writing data, data analysis, data manupulation and processing is easier with [Pandas](http://pandas.pydata.org/) open source library for Python. We will discuss about it in the coming classes."
   ]
  },
  {
   "cell_type": "markdown",
   "metadata": {},
   "source": [
    "## Functions and Lambdas"
   ]
  },
  {
   "cell_type": "markdown",
   "metadata": {},
   "source": [
    "**Functions** and **lambdas** are advanced methods to process. Here, these techniques are introduced with some examples and will be discussed more in next classes."
   ]
  },
  {
   "cell_type": "markdown",
   "metadata": {},
   "source": [
    "### Functions"
   ]
  },
  {
   "cell_type": "markdown",
   "metadata": {},
   "source": [
    "Functions are designed to do one specific job, and named blocks of code. Function only runs when it is called. They are used in all programming language. The main aim of writing functions is to avoid a long code (avoid repetition) and have a clean and well-organized code. It starts with **def** followed by function name of function, parentheses **()** and colon **:**."
   ]
  },
  {
   "cell_type": "code",
   "execution_count": 71,
   "metadata": {},
   "outputs": [
    {
     "name": "stdout",
     "output_type": "stream",
     "text": [
      "Hello World!\n"
     ]
    }
   ],
   "source": [
    "# A simple function\n",
    "def greet(): \n",
    "    \"\"\"Greeting.\"\"\" # Give a little information about the fucntion\n",
    "    print(\"Hello World!\") \n",
    "\n",
    "greet()"
   ]
  },
  {
   "cell_type": "code",
   "execution_count": 72,
   "metadata": {},
   "outputs": [
    {
     "name": "stdout",
     "output_type": "stream",
     "text": [
      "Hi, how are you doing!\n"
     ]
    }
   ],
   "source": [
    "# Passing an argument\n",
    "def greet(text): \n",
    "    \"\"\"Display greeting.\"\"\" \n",
    "    print(text) \n",
    "\n",
    "mytext= 'Hi, how are you doing!'   \n",
    "greet(mytext)"
   ]
  },
  {
   "cell_type": "code",
   "execution_count": 73,
   "metadata": {},
   "outputs": [
    {
     "name": "stdout",
     "output_type": "stream",
     "text": [
      "Type of pizza: beef\n",
      "Topping : olives\n",
      "Size: Large\n"
     ]
    }
   ],
   "source": [
    "# Making default values for parameters \n",
    "def pizza_order(type_='chicken',topping='Mushroom',size='Large'): \n",
    "    \"\"\"Order pizza.\"\"\" \n",
    "    print(\"Type of pizza: \" + type_) \n",
    "    print(\"Topping : \" + topping)  \n",
    "    print(\"Size: \" + size)\n",
    "    \n",
    "#pizza_order()\n",
    "pizza_order(type_='beef',topping='olives')"
   ]
  },
  {
   "cell_type": "code",
   "execution_count": 74,
   "metadata": {},
   "outputs": [
    {
     "data": {
      "text/plain": [
       "200"
      ]
     },
     "execution_count": 74,
     "metadata": {},
     "output_type": "execute_result"
    }
   ],
   "source": [
    "# Returning a value \n",
    "def multipy_numbers(x, y): \n",
    "    \"\"\" Multipy two input parameters.\"\"\" \n",
    "    value=x*y\n",
    "    return  value\n",
    "\n",
    "multipy_numbers(20,10)"
   ]
  },
  {
   "cell_type": "markdown",
   "metadata": {},
   "source": [
    "### Filter  \n",
    "\n",
    "This is a function to filter data based on some rules."
   ]
  },
  {
   "cell_type": "code",
   "execution_count": 75,
   "metadata": {},
   "outputs": [
    {
     "name": "stdout",
     "output_type": "stream",
     "text": [
      "[4, 36, 6, 12]\n"
     ]
    }
   ],
   "source": [
    "def positive(x):\n",
    "    return x>0\n",
    "mylist=[-10,4,-2,36,6,-8,12]\n",
    "filtered=list(filter(positive, mylist))\n",
    "print(filtered)"
   ]
  },
  {
   "cell_type": "markdown",
   "metadata": {},
   "source": [
    "### Lambda "
   ]
  },
  {
   "cell_type": "markdown",
   "metadata": {},
   "source": [
    "It is tedious to have a function for a simple task of finding values greater than 0.  A **lambda** function is very efficient which an unnamed function."
   ]
  },
  {
   "cell_type": "code",
   "execution_count": 76,
   "metadata": {},
   "outputs": [
    {
     "name": "stdout",
     "output_type": "stream",
     "text": [
      "[4, 36, 6, 12]\n"
     ]
    }
   ],
   "source": [
    "mylist=[-10,4,-2,36,6,-8,12]\n",
    "filtered=list(filter(lambda i: i>0, mylist))\n",
    "print(filtered)"
   ]
  },
  {
   "cell_type": "markdown",
   "metadata": {},
   "source": [
    "## Data visualization\n",
    "\n",
    "One advantage of Python compared with other programming language is its capability of excellent data visualization. The [matplotlib](https://matplotlib.org/) package of Python is extremely flexible to make interesting representations of the data. You should install matplotlib first (see previous lectures) then import it before use. Here are a few examples of data visualization."
   ]
  },
  {
   "cell_type": "code",
   "execution_count": 77,
   "metadata": {},
   "outputs": [
    {
     "data": {
      "image/png": "[encoded data removed]",
      "text/plain": [
       "<Figure size 432x288 with 1 Axes>"
      ]
     },
     "metadata": {
      "needs_background": "light"
     },
     "output_type": "display_data"
    }
   ],
   "source": [
    "# Make a graph with Plot() function\n",
    "\n",
    "import matplotlib.pyplot as plt\n",
    "\n",
    "x = [-30,-20, -10, 0, 10, 20, 30] \n",
    "x_squared = [900, 400, 100, 0, 100, 400, 900]\n",
    "plt.plot(x, x_squared)\n",
    "\n",
    "plt.show()\n"
   ]
  },
  {
   "cell_type": "code",
   "execution_count": 78,
   "metadata": {},
   "outputs": [
    {
     "data": {
      "image/png": "[encoded data removed]",
      "text/plain": [
       "<Figure size 432x288 with 1 Axes>"
      ]
     },
     "metadata": {
      "needs_background": "light"
     },
     "output_type": "display_data"
    }
   ],
   "source": [
    "# Make a graph with Plot() function\n",
    "\n",
    "x = list(range(-30,30))\n",
    "x_squared = [i**2 for i in x] # use comprehension to square your values\n",
    "plt.plot(x, x_squared)\n",
    "\n",
    "plt.show()"
   ]
  },
  {
   "cell_type": "code",
   "execution_count": 79,
   "metadata": {},
   "outputs": [
    {
     "data": {
      "image/png": "[encoded data removed]",
      "text/plain": [
       "<Figure size 432x288 with 1 Axes>"
      ]
     },
     "metadata": {
      "needs_background": "light"
     },
     "output_type": "display_data"
    }
   ],
   "source": [
    "# Make a graph with Scatter() function\n",
    "x = list(range(-30,30))\n",
    "x_squared = [i**2 for i in x]\n",
    "\n",
    "plt.scatter(x, x_squared)\n",
    "plt.title(\"Plot for Squared Numbers\", fontsize=15)  # Title of your plot\n",
    "plt.xlabel(\"Value\", fontsize=12)  # Label of your x axis\n",
    "plt.ylabel(\"Squared Value\", fontsize=12)  # Label of your y axis\n",
    "\n",
    "plt.show()"
   ]
  },
  {
   "cell_type": "code",
   "execution_count": 80,
   "metadata": {},
   "outputs": [
    {
     "data": {
      "image/png": "[encoded data removed]",
      "text/plain": [
       "<Figure size 432x288 with 2 Axes>"
      ]
     },
     "metadata": {
      "needs_background": "light"
     },
     "output_type": "display_data"
    }
   ],
   "source": [
    "# Make a location map with scatter()\n",
    "\n",
    "x_ = [50,220,986,830,680,357,773,935,400]\n",
    "y_ = [269,789,30,99,698,947,875,624,400]\n",
    "value_ = [0.368,0.051,0.224,0.198,0.287,0.329,0.094,0.187,0.33]\n",
    "\n",
    "plt.scatter(x_, y_,c=value_,s=105,cmap='jet', edgecolor='k')\n",
    "plt.colorbar()\n",
    "\n",
    "plt.xlim((0, 1000)) \n",
    "plt.ylim((0, 1000))\n",
    "\n",
    "plt.title(\"Location Map\", fontsize=18)  # Title of your plot\n",
    "plt.xlabel(\"Easting (m)\", fontsize=14)  # Label of your x axis\n",
    "plt.ylabel(\"Northing (m)\", fontsize=14)  # Label of your y axis\n",
    "\n",
    "plt.savefig('Figure.png', dpi=200, bbox_inches='tight') # SavE a plot\n",
    "plt.show()"
   ]
  },
  {
   "cell_type": "code",
   "execution_count": 81,
   "metadata": {},
   "outputs": [
    {
     "data": {
      "image/png": "[encoded data removed]",
      "text/plain": [
       "<Figure size 432x288 with 1 Axes>"
      ]
     },
     "metadata": {
      "needs_background": "light"
     },
     "output_type": "display_data"
    }
   ],
   "source": [
    "# Make histogram\n",
    "\n",
    "plt.hist(x_squared, bins=8,ec='black')\n",
    "plt.title(\"Histogram \", fontsize=15)  # Title of your plot\n",
    "plt.xlabel(\"Squared Value\", fontsize=12)  # Label of your x axis\n",
    "plt.ylabel(\"Frequency\", fontsize=12)  # Label of your y axis\n",
    "plt.show()"
   ]
  },
  {
   "cell_type": "markdown",
   "metadata": {},
   "source": [
    "You can include as many individual graphs in one figure."
   ]
  },
  {
   "cell_type": "code",
   "execution_count": 82,
   "metadata": {},
   "outputs": [
    {
     "data": {
      "image/png": "[encoded data removed]",
      "text/plain": [
       "<Figure size 2000x600 with 3 Axes>"
      ]
     },
     "metadata": {},
     "output_type": "display_data"
    }
   ],
   "source": [
    "fig = plt.subplots(figsize=(10,3), dpi= 200, facecolor='w')\n",
    "\n",
    "ax1=plt.subplot(1,2,1)\n",
    "plt.scatter(x_, y_,c=value_,s=105,cmap='jet', edgecolor='k')\n",
    "plt.colorbar()\n",
    "plt.title(\"Location Map\", fontsize=15) \n",
    "plt.xlabel(\"Easting (m)\", fontsize=12)\n",
    "plt.ylabel(\"Northing (m)\", fontsize=12)\n",
    "plt.xlim((0, 1000)) \n",
    "plt.ylim((0, 1000))\n",
    "\n",
    "ax2=plt.subplot(1,2,2)\n",
    "plt.hist(x_squared, bins=15,ec='black')\n",
    "plt.title(\"Histogram \", fontsize=15) \n",
    "plt.xlabel(\"Squared Value\", fontsize=12)\n",
    "plt.ylabel(\"Frequency\", fontsize=12) \n",
    "\n",
    "plt.savefig('Subplot.png', dpi=200, bbox_inches='tight') # SavE a plot\n",
    "plt.show()"
   ]
  },
  {
   "cell_type": "code",
   "execution_count": null,
   "metadata": {},
   "outputs": [],
   "source": []
  },
  {
   "cell_type": "markdown",
   "metadata": {},
   "source": [
    "# Introduction to Pandas\n",
    "\n",
    "[Pandas](http://pandas.pydata.org/) is an open source Python package for data manipulation and analysis with high-performance and easy-to-use methods. It is based on the [dataframe](http://pandas.pydata.org/pandas-docs/stable/generated/pandas.DataFrame.html) concept in the [R programming language](https://www.r-project.org/about.html). Pandas can be used as the primary tools for data processing, data manipulation and data cleaning.\n",
    "\n",
    "We will use a dataset for oil production of 1000 hydrocarbon wells in Alberta (**WPD.csv**). The target is \n",
    "oil production prediction using well properties including location, depth, deviation, porosity, permeability and so on. The well properties are retrieved from [geoSCOUT](https://www.geologic.com/products/geoscout/); but location of the wells are changed and some key properties are manipulated for confidentially reason and for not being used for other reasons. This data is retrieved and generated for this course to learn data processing and apply Machine Learning. The prediction should NOT be used for any Publication because the original data is modified data."
   ]
  },
  {
   "cell_type": "markdown",
   "metadata": {},
   "source": [
    "## Look at Data"
   ]
  },
  {
   "cell_type": "code",
   "execution_count": 83,
   "metadata": {},
   "outputs": [
    {
     "data": {
      "text/html": [
       "<div>\n",
       "<style scoped>\n",
       "    .dataframe tbody tr th:only-of-type {\n",
       "        vertical-align: middle;\n",
       "    }\n",
       "\n",
       "    .dataframe tbody tr th {\n",
       "        vertical-align: top;\n",
       "    }\n",
       "\n",
       "    .dataframe thead th {\n",
       "        text-align: right;\n",
       "    }\n",
       "</style>\n",
       "<table border=\"1\" class=\"dataframe\">\n",
       "  <thead>\n",
       "    <tr style=\"text-align: right;\">\n",
       "      <th></th>\n",
       "      <th>X Coordinate</th>\n",
       "      <th>Y Coordinate</th>\n",
       "      <th>Measured Depth (m)</th>\n",
       "      <th>Deviation (True/False)</th>\n",
       "      <th>Surface-Casing Weight (kg/m)</th>\n",
       "      <th>Production-Casing Size (mm)</th>\n",
       "      <th>Production-Casing Weight (kg/m)</th>\n",
       "      <th>Bore. Temp. (degC)</th>\n",
       "      <th>Prod. Formation</th>\n",
       "      <th>Porosity (fraction)</th>\n",
       "      <th>Permeability (Darcy)</th>\n",
       "      <th>OIL Prod. (e3m3/month)</th>\n",
       "    </tr>\n",
       "  </thead>\n",
       "  <tbody>\n",
       "    <tr>\n",
       "      <th>0</th>\n",
       "      <td>352.6</td>\n",
       "      <td>372</td>\n",
       "      <td>2145.8</td>\n",
       "      <td>False</td>\n",
       "      <td>NaN</td>\n",
       "      <td>114.3</td>\n",
       "      <td>NaN</td>\n",
       "      <td>53.0</td>\n",
       "      <td>Shale-Sand</td>\n",
       "      <td>0.224</td>\n",
       "      <td>12.25</td>\n",
       "      <td>108.75</td>\n",
       "    </tr>\n",
       "    <tr>\n",
       "      <th>1</th>\n",
       "      <td>435.7</td>\n",
       "      <td>551</td>\n",
       "      <td>1638.0</td>\n",
       "      <td>True</td>\n",
       "      <td>25.3</td>\n",
       "      <td>114.3</td>\n",
       "      <td>17.3</td>\n",
       "      <td>NaN</td>\n",
       "      <td>Sand</td>\n",
       "      <td>0.118</td>\n",
       "      <td>4.11</td>\n",
       "      <td>0.33</td>\n",
       "    </tr>\n",
       "    <tr>\n",
       "      <th>2</th>\n",
       "      <td>37.7</td>\n",
       "      <td>788</td>\n",
       "      <td>3984.0</td>\n",
       "      <td>True</td>\n",
       "      <td>35.7</td>\n",
       "      <td>114.3</td>\n",
       "      <td>22.5</td>\n",
       "      <td>NaN</td>\n",
       "      <td>Shale</td>\n",
       "      <td>0.121</td>\n",
       "      <td>1.99</td>\n",
       "      <td>21.87</td>\n",
       "    </tr>\n",
       "    <tr>\n",
       "      <th>3</th>\n",
       "      <td>346.7</td>\n",
       "      <td>311</td>\n",
       "      <td>3809.0</td>\n",
       "      <td>True</td>\n",
       "      <td>41.7</td>\n",
       "      <td>114.3</td>\n",
       "      <td>17.3</td>\n",
       "      <td>NaN</td>\n",
       "      <td>Sand</td>\n",
       "      <td>0.170</td>\n",
       "      <td>5.84</td>\n",
       "      <td>46.30</td>\n",
       "    </tr>\n",
       "    <tr>\n",
       "      <th>4</th>\n",
       "      <td>254.6</td>\n",
       "      <td>727</td>\n",
       "      <td>2335.0</td>\n",
       "      <td>True</td>\n",
       "      <td>53.6</td>\n",
       "      <td>NaN</td>\n",
       "      <td>NaN</td>\n",
       "      <td>32.0</td>\n",
       "      <td>Sand</td>\n",
       "      <td>0.158</td>\n",
       "      <td>5.25</td>\n",
       "      <td>17.53</td>\n",
       "    </tr>\n",
       "  </tbody>\n",
       "</table>\n",
       "</div>"
      ],
      "text/plain": [
       "   X Coordinate  Y Coordinate  Measured Depth (m)  Deviation (True/False)  \\\n",
       "0         352.6           372              2145.8                   False   \n",
       "1         435.7           551              1638.0                    True   \n",
       "2          37.7           788              3984.0                    True   \n",
       "3         346.7           311              3809.0                    True   \n",
       "4         254.6           727              2335.0                    True   \n",
       "\n",
       "   Surface-Casing Weight (kg/m)  Production-Casing Size (mm)  \\\n",
       "0                           NaN                        114.3   \n",
       "1                          25.3                        114.3   \n",
       "2                          35.7                        114.3   \n",
       "3                          41.7                        114.3   \n",
       "4                          53.6                          NaN   \n",
       "\n",
       "   Production-Casing Weight (kg/m)  Bore. Temp. (degC) Prod. Formation  \\\n",
       "0                              NaN                53.0      Shale-Sand   \n",
       "1                             17.3                 NaN            Sand   \n",
       "2                             22.5                 NaN           Shale   \n",
       "3                             17.3                 NaN            Sand   \n",
       "4                              NaN                32.0            Sand   \n",
       "\n",
       "   Porosity (fraction)  Permeability (Darcy)  OIL Prod. (e3m3/month)  \n",
       "0                0.224                 12.25                  108.75  \n",
       "1                0.118                  4.11                    0.33  \n",
       "2                0.121                  1.99                   21.87  \n",
       "3                0.170                  5.84                   46.30  \n",
       "4                0.158                  5.25                   17.53  "
      ]
     },
     "execution_count": 83,
     "metadata": {},
     "output_type": "execute_result"
    }
   ],
   "source": [
    "# Reading data in Pandas\n",
    "\n",
    "import pandas as pd # import Pandas\n",
    "\n",
    "df = pd.read_csv(\"./Data/WPD.csv\") # Read data file\n",
    "#df.head()\n",
    "df[0:5] # Display data"
   ]
  },
  {
   "cell_type": "markdown",
   "metadata": {},
   "source": [
    "The **columns** function gives the name of the columns in your data file."
   ]
  },
  {
   "cell_type": "code",
   "execution_count": 84,
   "metadata": {},
   "outputs": [
    {
     "name": "stdout",
     "output_type": "stream",
     "text": [
      "['X Coordinate', 'Y Coordinate', 'Measured Depth (m)', 'Deviation (True/False)', 'Surface-Casing Weight (kg/m)', 'Production-Casing Size (mm)', 'Production-Casing Weight (kg/m)', 'Bore. Temp. (degC)', 'Prod. Formation', 'Porosity (fraction)', 'Permeability (Darcy)', 'OIL Prod. (e3m3/month)']\n"
     ]
    }
   ],
   "source": [
    "column=list(df.columns)\n",
    "print(column)"
   ]
  },
  {
   "cell_type": "markdown",
   "metadata": {},
   "source": [
    "The **info()** function gives some information about the data type: string float or null (missing values)."
   ]
  },
  {
   "cell_type": "code",
   "execution_count": 85,
   "metadata": {},
   "outputs": [
    {
     "name": "stdout",
     "output_type": "stream",
     "text": [
      "<class 'pandas.core.frame.DataFrame'>\n",
      "RangeIndex: 1000 entries, 0 to 999\n",
      "Data columns (total 12 columns):\n",
      " #   Column                           Non-Null Count  Dtype  \n",
      "---  ------                           --------------  -----  \n",
      " 0   X Coordinate                     1000 non-null   float64\n",
      " 1   Y Coordinate                     1000 non-null   int64  \n",
      " 2   Measured Depth (m)               1000 non-null   float64\n",
      " 3   Deviation (True/False)           1000 non-null   bool   \n",
      " 4   Surface-Casing Weight (kg/m)     593 non-null    float64\n",
      " 5   Production-Casing Size (mm)      913 non-null    float64\n",
      " 6   Production-Casing Weight (kg/m)  547 non-null    float64\n",
      " 7   Bore. Temp. (degC)               801 non-null    float64\n",
      " 8   Prod. Formation                  1000 non-null   object \n",
      " 9   Porosity (fraction)              1000 non-null   float64\n",
      " 10  Permeability (Darcy)             1000 non-null   float64\n",
      " 11  OIL Prod. (e3m3/month)           1000 non-null   float64\n",
      "dtypes: bool(1), float64(9), int64(1), object(1)\n",
      "memory usage: 87.0+ KB\n"
     ]
    }
   ],
   "source": [
    "df.info()"
   ]
  },
  {
   "cell_type": "code",
   "execution_count": 86,
   "metadata": {},
   "outputs": [
    {
     "data": {
      "text/html": [
       "<div>\n",
       "<style scoped>\n",
       "    .dataframe tbody tr th:only-of-type {\n",
       "        vertical-align: middle;\n",
       "    }\n",
       "\n",
       "    .dataframe tbody tr th {\n",
       "        vertical-align: top;\n",
       "    }\n",
       "\n",
       "    .dataframe thead th {\n",
       "        text-align: right;\n",
       "    }\n",
       "</style>\n",
       "<table border=\"1\" class=\"dataframe\">\n",
       "  <thead>\n",
       "    <tr style=\"text-align: right;\">\n",
       "      <th></th>\n",
       "      <th>X Coordinate</th>\n",
       "      <th>Y Coordinate</th>\n",
       "      <th>Measured Depth (m)</th>\n",
       "      <th>Deviation (True/False)</th>\n",
       "      <th>Surface-Casing Weight (kg/m)</th>\n",
       "      <th>Production-Casing Size (mm)</th>\n",
       "      <th>Production-Casing Weight (kg/m)</th>\n",
       "      <th>Bore. Temp. (degC)</th>\n",
       "      <th>Prod. Formation</th>\n",
       "      <th>Porosity (fraction)</th>\n",
       "      <th>Permeability (Darcy)</th>\n",
       "      <th>OIL Prod. (e3m3/month)</th>\n",
       "    </tr>\n",
       "  </thead>\n",
       "  <tbody>\n",
       "    <tr>\n",
       "      <th>0</th>\n",
       "      <td>352.6</td>\n",
       "      <td>372</td>\n",
       "      <td>2145.8</td>\n",
       "      <td>False</td>\n",
       "      <td>NaN</td>\n",
       "      <td>114.3</td>\n",
       "      <td>NaN</td>\n",
       "      <td>53.0</td>\n",
       "      <td>Shale-Sand</td>\n",
       "      <td>0.224</td>\n",
       "      <td>12.25</td>\n",
       "      <td>108.75</td>\n",
       "    </tr>\n",
       "    <tr>\n",
       "      <th>1</th>\n",
       "      <td>435.7</td>\n",
       "      <td>551</td>\n",
       "      <td>1638.0</td>\n",
       "      <td>True</td>\n",
       "      <td>25.3</td>\n",
       "      <td>114.3</td>\n",
       "      <td>17.3</td>\n",
       "      <td>NaN</td>\n",
       "      <td>Sand</td>\n",
       "      <td>0.118</td>\n",
       "      <td>4.11</td>\n",
       "      <td>0.33</td>\n",
       "    </tr>\n",
       "    <tr>\n",
       "      <th>2</th>\n",
       "      <td>37.7</td>\n",
       "      <td>788</td>\n",
       "      <td>3984.0</td>\n",
       "      <td>True</td>\n",
       "      <td>35.7</td>\n",
       "      <td>114.3</td>\n",
       "      <td>22.5</td>\n",
       "      <td>NaN</td>\n",
       "      <td>Shale</td>\n",
       "      <td>0.121</td>\n",
       "      <td>1.99</td>\n",
       "      <td>21.87</td>\n",
       "    </tr>\n",
       "    <tr>\n",
       "      <th>3</th>\n",
       "      <td>346.7</td>\n",
       "      <td>311</td>\n",
       "      <td>3809.0</td>\n",
       "      <td>True</td>\n",
       "      <td>41.7</td>\n",
       "      <td>114.3</td>\n",
       "      <td>17.3</td>\n",
       "      <td>NaN</td>\n",
       "      <td>Sand</td>\n",
       "      <td>0.170</td>\n",
       "      <td>5.84</td>\n",
       "      <td>46.30</td>\n",
       "    </tr>\n",
       "    <tr>\n",
       "      <th>4</th>\n",
       "      <td>254.6</td>\n",
       "      <td>727</td>\n",
       "      <td>2335.0</td>\n",
       "      <td>True</td>\n",
       "      <td>53.6</td>\n",
       "      <td>NaN</td>\n",
       "      <td>NaN</td>\n",
       "      <td>32.0</td>\n",
       "      <td>Sand</td>\n",
       "      <td>0.158</td>\n",
       "      <td>5.25</td>\n",
       "      <td>17.53</td>\n",
       "    </tr>\n",
       "    <tr>\n",
       "      <th>...</th>\n",
       "      <td>...</td>\n",
       "      <td>...</td>\n",
       "      <td>...</td>\n",
       "      <td>...</td>\n",
       "      <td>...</td>\n",
       "      <td>...</td>\n",
       "      <td>...</td>\n",
       "      <td>...</td>\n",
       "      <td>...</td>\n",
       "      <td>...</td>\n",
       "      <td>...</td>\n",
       "      <td>...</td>\n",
       "    </tr>\n",
       "    <tr>\n",
       "      <th>995</th>\n",
       "      <td>92.5</td>\n",
       "      <td>767</td>\n",
       "      <td>1466.0</td>\n",
       "      <td>False</td>\n",
       "      <td>35.7</td>\n",
       "      <td>139.7</td>\n",
       "      <td>20.8</td>\n",
       "      <td>51.0</td>\n",
       "      <td>Sand</td>\n",
       "      <td>0.230</td>\n",
       "      <td>6.26</td>\n",
       "      <td>8.74</td>\n",
       "    </tr>\n",
       "    <tr>\n",
       "      <th>996</th>\n",
       "      <td>548.3</td>\n",
       "      <td>475</td>\n",
       "      <td>749.8</td>\n",
       "      <td>False</td>\n",
       "      <td>NaN</td>\n",
       "      <td>114.3</td>\n",
       "      <td>NaN</td>\n",
       "      <td>28.0</td>\n",
       "      <td>Shale</td>\n",
       "      <td>0.017</td>\n",
       "      <td>0.48</td>\n",
       "      <td>0.00</td>\n",
       "    </tr>\n",
       "    <tr>\n",
       "      <th>997</th>\n",
       "      <td>593.4</td>\n",
       "      <td>456</td>\n",
       "      <td>683.7</td>\n",
       "      <td>False</td>\n",
       "      <td>NaN</td>\n",
       "      <td>177.8</td>\n",
       "      <td>NaN</td>\n",
       "      <td>26.0</td>\n",
       "      <td>Shale-Sand</td>\n",
       "      <td>0.332</td>\n",
       "      <td>49.75</td>\n",
       "      <td>832.45</td>\n",
       "    </tr>\n",
       "    <tr>\n",
       "      <th>998</th>\n",
       "      <td>540.9</td>\n",
       "      <td>328</td>\n",
       "      <td>1346.0</td>\n",
       "      <td>True</td>\n",
       "      <td>25.3</td>\n",
       "      <td>114.3</td>\n",
       "      <td>14.1</td>\n",
       "      <td>NaN</td>\n",
       "      <td>Shale</td>\n",
       "      <td>0.111</td>\n",
       "      <td>0.59</td>\n",
       "      <td>0.00</td>\n",
       "    </tr>\n",
       "    <tr>\n",
       "      <th>999</th>\n",
       "      <td>617.8</td>\n",
       "      <td>377</td>\n",
       "      <td>844.0</td>\n",
       "      <td>False</td>\n",
       "      <td>35.7</td>\n",
       "      <td>139.7</td>\n",
       "      <td>20.8</td>\n",
       "      <td>27.0</td>\n",
       "      <td>Shale-Sand</td>\n",
       "      <td>0.292</td>\n",
       "      <td>9.95</td>\n",
       "      <td>153.43</td>\n",
       "    </tr>\n",
       "  </tbody>\n",
       "</table>\n",
       "<p>1000 rows × 12 columns</p>\n",
       "</div>"
      ],
      "text/plain": [
       "     X Coordinate  Y Coordinate  Measured Depth (m)  Deviation (True/False)  \\\n",
       "0           352.6           372              2145.8                   False   \n",
       "1           435.7           551              1638.0                    True   \n",
       "2            37.7           788              3984.0                    True   \n",
       "3           346.7           311              3809.0                    True   \n",
       "4           254.6           727              2335.0                    True   \n",
       "..            ...           ...                 ...                     ...   \n",
       "995          92.5           767              1466.0                   False   \n",
       "996         548.3           475               749.8                   False   \n",
       "997         593.4           456               683.7                   False   \n",
       "998         540.9           328              1346.0                    True   \n",
       "999         617.8           377               844.0                   False   \n",
       "\n",
       "     Surface-Casing Weight (kg/m)  Production-Casing Size (mm)  \\\n",
       "0                             NaN                        114.3   \n",
       "1                            25.3                        114.3   \n",
       "2                            35.7                        114.3   \n",
       "3                            41.7                        114.3   \n",
       "4                            53.6                          NaN   \n",
       "..                            ...                          ...   \n",
       "995                          35.7                        139.7   \n",
       "996                           NaN                        114.3   \n",
       "997                           NaN                        177.8   \n",
       "998                          25.3                        114.3   \n",
       "999                          35.7                        139.7   \n",
       "\n",
       "     Production-Casing Weight (kg/m)  Bore. Temp. (degC) Prod. Formation  \\\n",
       "0                                NaN                53.0      Shale-Sand   \n",
       "1                               17.3                 NaN            Sand   \n",
       "2                               22.5                 NaN           Shale   \n",
       "3                               17.3                 NaN            Sand   \n",
       "4                                NaN                32.0            Sand   \n",
       "..                               ...                 ...             ...   \n",
       "995                             20.8                51.0            Sand   \n",
       "996                              NaN                28.0           Shale   \n",
       "997                              NaN                26.0      Shale-Sand   \n",
       "998                             14.1                 NaN           Shale   \n",
       "999                             20.8                27.0      Shale-Sand   \n",
       "\n",
       "     Porosity (fraction)  Permeability (Darcy)  OIL Prod. (e3m3/month)  \n",
       "0                  0.224                 12.25                  108.75  \n",
       "1                  0.118                  4.11                    0.33  \n",
       "2                  0.121                  1.99                   21.87  \n",
       "3                  0.170                  5.84                   46.30  \n",
       "4                  0.158                  5.25                   17.53  \n",
       "..                   ...                   ...                     ...  \n",
       "995                0.230                  6.26                    8.74  \n",
       "996                0.017                  0.48                    0.00  \n",
       "997                0.332                 49.75                  832.45  \n",
       "998                0.111                  0.59                    0.00  \n",
       "999                0.292                  9.95                  153.43  \n",
       "\n",
       "[1000 rows x 12 columns]"
      ]
     },
     "execution_count": 86,
     "metadata": {},
     "output_type": "execute_result"
    }
   ],
   "source": [
    "df"
   ]
  },
  {
   "cell_type": "code",
   "execution_count": null,
   "metadata": {},
   "outputs": [],
   "source": []
  },
  {
   "cell_type": "markdown",
   "metadata": {},
   "source": [
    "The **describe** function gives some statistical analysis for each column if the data type is not string."
   ]
  },
  {
   "cell_type": "code",
   "execution_count": 87,
   "metadata": {},
   "outputs": [
    {
     "data": {
      "text/html": [
       "<div>\n",
       "<style scoped>\n",
       "    .dataframe tbody tr th:only-of-type {\n",
       "        vertical-align: middle;\n",
       "    }\n",
       "\n",
       "    .dataframe tbody tr th {\n",
       "        vertical-align: top;\n",
       "    }\n",
       "\n",
       "    .dataframe thead th {\n",
       "        text-align: right;\n",
       "    }\n",
       "</style>\n",
       "<table border=\"1\" class=\"dataframe\">\n",
       "  <thead>\n",
       "    <tr style=\"text-align: right;\">\n",
       "      <th></th>\n",
       "      <th>X Coordinate</th>\n",
       "      <th>Y Coordinate</th>\n",
       "      <th>Measured Depth (m)</th>\n",
       "      <th>Surface-Casing Weight (kg/m)</th>\n",
       "      <th>Production-Casing Size (mm)</th>\n",
       "      <th>Production-Casing Weight (kg/m)</th>\n",
       "      <th>Bore. Temp. (degC)</th>\n",
       "      <th>Porosity (fraction)</th>\n",
       "      <th>Permeability (Darcy)</th>\n",
       "      <th>OIL Prod. (e3m3/month)</th>\n",
       "    </tr>\n",
       "  </thead>\n",
       "  <tbody>\n",
       "    <tr>\n",
       "      <th>count</th>\n",
       "      <td>1000.000000</td>\n",
       "      <td>1000.000000</td>\n",
       "      <td>1000.000000</td>\n",
       "      <td>593.000000</td>\n",
       "      <td>913.000000</td>\n",
       "      <td>547.000000</td>\n",
       "      <td>801.000000</td>\n",
       "      <td>1000.000000</td>\n",
       "      <td>1000.000000</td>\n",
       "      <td>1000.000000</td>\n",
       "    </tr>\n",
       "    <tr>\n",
       "      <th>mean</th>\n",
       "      <td>432.893400</td>\n",
       "      <td>489.749000</td>\n",
       "      <td>1364.379300</td>\n",
       "      <td>42.906745</td>\n",
       "      <td>142.495290</td>\n",
       "      <td>23.260512</td>\n",
       "      <td>40.774032</td>\n",
       "      <td>0.141840</td>\n",
       "      <td>5.269140</td>\n",
       "      <td>60.003280</td>\n",
       "    </tr>\n",
       "    <tr>\n",
       "      <th>std</th>\n",
       "      <td>172.206682</td>\n",
       "      <td>243.547912</td>\n",
       "      <td>855.633567</td>\n",
       "      <td>25.877438</td>\n",
       "      <td>25.953205</td>\n",
       "      <td>7.137579</td>\n",
       "      <td>21.256825</td>\n",
       "      <td>0.074501</td>\n",
       "      <td>8.665687</td>\n",
       "      <td>234.814659</td>\n",
       "    </tr>\n",
       "    <tr>\n",
       "      <th>min</th>\n",
       "      <td>12.300000</td>\n",
       "      <td>36.000000</td>\n",
       "      <td>276.000000</td>\n",
       "      <td>14.100000</td>\n",
       "      <td>13.700000</td>\n",
       "      <td>10.800000</td>\n",
       "      <td>5.000000</td>\n",
       "      <td>0.000000</td>\n",
       "      <td>0.050000</td>\n",
       "      <td>0.000000</td>\n",
       "    </tr>\n",
       "    <tr>\n",
       "      <th>25%</th>\n",
       "      <td>325.425000</td>\n",
       "      <td>339.750000</td>\n",
       "      <td>704.000000</td>\n",
       "      <td>35.700000</td>\n",
       "      <td>114.300000</td>\n",
       "      <td>17.300000</td>\n",
       "      <td>27.000000</td>\n",
       "      <td>0.089750</td>\n",
       "      <td>1.040000</td>\n",
       "      <td>0.000000</td>\n",
       "    </tr>\n",
       "    <tr>\n",
       "      <th>50%</th>\n",
       "      <td>487.250000</td>\n",
       "      <td>480.000000</td>\n",
       "      <td>1066.000000</td>\n",
       "      <td>35.700000</td>\n",
       "      <td>139.700000</td>\n",
       "      <td>20.800000</td>\n",
       "      <td>33.000000</td>\n",
       "      <td>0.141000</td>\n",
       "      <td>2.480000</td>\n",
       "      <td>4.715000</td>\n",
       "    </tr>\n",
       "    <tr>\n",
       "      <th>75%</th>\n",
       "      <td>581.675000</td>\n",
       "      <td>596.000000</td>\n",
       "      <td>1790.000000</td>\n",
       "      <td>48.100000</td>\n",
       "      <td>177.800000</td>\n",
       "      <td>25.300000</td>\n",
       "      <td>53.000000</td>\n",
       "      <td>0.192000</td>\n",
       "      <td>5.752500</td>\n",
       "      <td>33.117500</td>\n",
       "    </tr>\n",
       "    <tr>\n",
       "      <th>max</th>\n",
       "      <td>648.800000</td>\n",
       "      <td>1172.000000</td>\n",
       "      <td>6363.000000</td>\n",
       "      <td>595.000000</td>\n",
       "      <td>219.100000</td>\n",
       "      <td>53.600000</td>\n",
       "      <td>255.000000</td>\n",
       "      <td>0.400000</td>\n",
       "      <td>94.510000</td>\n",
       "      <td>3425.530000</td>\n",
       "    </tr>\n",
       "  </tbody>\n",
       "</table>\n",
       "</div>"
      ],
      "text/plain": [
       "       X Coordinate  Y Coordinate  Measured Depth (m)  \\\n",
       "count   1000.000000   1000.000000         1000.000000   \n",
       "mean     432.893400    489.749000         1364.379300   \n",
       "std      172.206682    243.547912          855.633567   \n",
       "min       12.300000     36.000000          276.000000   \n",
       "25%      325.425000    339.750000          704.000000   \n",
       "50%      487.250000    480.000000         1066.000000   \n",
       "75%      581.675000    596.000000         1790.000000   \n",
       "max      648.800000   1172.000000         6363.000000   \n",
       "\n",
       "       Surface-Casing Weight (kg/m)  Production-Casing Size (mm)  \\\n",
       "count                    593.000000                   913.000000   \n",
       "mean                      42.906745                   142.495290   \n",
       "std                       25.877438                    25.953205   \n",
       "min                       14.100000                    13.700000   \n",
       "25%                       35.700000                   114.300000   \n",
       "50%                       35.700000                   139.700000   \n",
       "75%                       48.100000                   177.800000   \n",
       "max                      595.000000                   219.100000   \n",
       "\n",
       "       Production-Casing Weight (kg/m)  Bore. Temp. (degC)  \\\n",
       "count                       547.000000          801.000000   \n",
       "mean                         23.260512           40.774032   \n",
       "std                           7.137579           21.256825   \n",
       "min                          10.800000            5.000000   \n",
       "25%                          17.300000           27.000000   \n",
       "50%                          20.800000           33.000000   \n",
       "75%                          25.300000           53.000000   \n",
       "max                          53.600000          255.000000   \n",
       "\n",
       "       Porosity (fraction)  Permeability (Darcy)  OIL Prod. (e3m3/month)  \n",
       "count          1000.000000           1000.000000             1000.000000  \n",
       "mean              0.141840              5.269140               60.003280  \n",
       "std               0.074501              8.665687              234.814659  \n",
       "min               0.000000              0.050000                0.000000  \n",
       "25%               0.089750              1.040000                0.000000  \n",
       "50%               0.141000              2.480000                4.715000  \n",
       "75%               0.192000              5.752500               33.117500  \n",
       "max               0.400000             94.510000             3425.530000  "
      ]
     },
     "execution_count": 87,
     "metadata": {},
     "output_type": "execute_result"
    }
   ],
   "source": [
    "df.describe()"
   ]
  },
  {
   "cell_type": "markdown",
   "metadata": {},
   "source": [
    "## Data Cleaning"
   ]
  },
  {
   "cell_type": "markdown",
   "metadata": {},
   "source": [
    "### Missing (NaN) Values \n",
    "\n",
    "It is ideal to have valid value for every rows and columns. In reality, missing values is one of the main challenges faced by machine learning. There are some approaches in practice to deal with missing values."
   ]
  },
  {
   "cell_type": "markdown",
   "metadata": {},
   "source": [
    "**Option 1: Drop Column**\n",
    "\n",
    "One naive approach is to remove columns that have missing values with **drop()** function."
   ]
  },
  {
   "cell_type": "code",
   "execution_count": 88,
   "metadata": {},
   "outputs": [
    {
     "data": {
      "text/plain": [
       "['Deviation (True/False)',\n",
       " 'Surface-Casing Weight (kg/m)',\n",
       " 'Production-Casing Size (mm)',\n",
       " 'Production-Casing Weight (kg/m)',\n",
       " 'Bore. Temp. (degC)']"
      ]
     },
     "execution_count": 88,
     "metadata": {},
     "output_type": "execute_result"
    }
   ],
   "source": [
    "Select_column=column[3:8] # Select columns that have missing\n",
    "Select_column"
   ]
  },
  {
   "cell_type": "code",
   "execution_count": 89,
   "metadata": {},
   "outputs": [
    {
     "data": {
      "text/html": [
       "<div>\n",
       "<style scoped>\n",
       "    .dataframe tbody tr th:only-of-type {\n",
       "        vertical-align: middle;\n",
       "    }\n",
       "\n",
       "    .dataframe tbody tr th {\n",
       "        vertical-align: top;\n",
       "    }\n",
       "\n",
       "    .dataframe thead th {\n",
       "        text-align: right;\n",
       "    }\n",
       "</style>\n",
       "<table border=\"1\" class=\"dataframe\">\n",
       "  <thead>\n",
       "    <tr style=\"text-align: right;\">\n",
       "      <th></th>\n",
       "      <th>X Coordinate</th>\n",
       "      <th>Y Coordinate</th>\n",
       "      <th>Measured Depth (m)</th>\n",
       "      <th>Prod. Formation</th>\n",
       "      <th>Porosity (fraction)</th>\n",
       "      <th>Permeability (Darcy)</th>\n",
       "      <th>OIL Prod. (e3m3/month)</th>\n",
       "    </tr>\n",
       "  </thead>\n",
       "  <tbody>\n",
       "    <tr>\n",
       "      <th>0</th>\n",
       "      <td>352.6</td>\n",
       "      <td>372</td>\n",
       "      <td>2145.8</td>\n",
       "      <td>Shale-Sand</td>\n",
       "      <td>0.224</td>\n",
       "      <td>12.25</td>\n",
       "      <td>108.75</td>\n",
       "    </tr>\n",
       "    <tr>\n",
       "      <th>1</th>\n",
       "      <td>435.7</td>\n",
       "      <td>551</td>\n",
       "      <td>1638.0</td>\n",
       "      <td>Sand</td>\n",
       "      <td>0.118</td>\n",
       "      <td>4.11</td>\n",
       "      <td>0.33</td>\n",
       "    </tr>\n",
       "    <tr>\n",
       "      <th>2</th>\n",
       "      <td>37.7</td>\n",
       "      <td>788</td>\n",
       "      <td>3984.0</td>\n",
       "      <td>Shale</td>\n",
       "      <td>0.121</td>\n",
       "      <td>1.99</td>\n",
       "      <td>21.87</td>\n",
       "    </tr>\n",
       "    <tr>\n",
       "      <th>3</th>\n",
       "      <td>346.7</td>\n",
       "      <td>311</td>\n",
       "      <td>3809.0</td>\n",
       "      <td>Sand</td>\n",
       "      <td>0.170</td>\n",
       "      <td>5.84</td>\n",
       "      <td>46.30</td>\n",
       "    </tr>\n",
       "    <tr>\n",
       "      <th>4</th>\n",
       "      <td>254.6</td>\n",
       "      <td>727</td>\n",
       "      <td>2335.0</td>\n",
       "      <td>Sand</td>\n",
       "      <td>0.158</td>\n",
       "      <td>5.25</td>\n",
       "      <td>17.53</td>\n",
       "    </tr>\n",
       "    <tr>\n",
       "      <th>...</th>\n",
       "      <td>...</td>\n",
       "      <td>...</td>\n",
       "      <td>...</td>\n",
       "      <td>...</td>\n",
       "      <td>...</td>\n",
       "      <td>...</td>\n",
       "      <td>...</td>\n",
       "    </tr>\n",
       "    <tr>\n",
       "      <th>995</th>\n",
       "      <td>92.5</td>\n",
       "      <td>767</td>\n",
       "      <td>1466.0</td>\n",
       "      <td>Sand</td>\n",
       "      <td>0.230</td>\n",
       "      <td>6.26</td>\n",
       "      <td>8.74</td>\n",
       "    </tr>\n",
       "    <tr>\n",
       "      <th>996</th>\n",
       "      <td>548.3</td>\n",
       "      <td>475</td>\n",
       "      <td>749.8</td>\n",
       "      <td>Shale</td>\n",
       "      <td>0.017</td>\n",
       "      <td>0.48</td>\n",
       "      <td>0.00</td>\n",
       "    </tr>\n",
       "    <tr>\n",
       "      <th>997</th>\n",
       "      <td>593.4</td>\n",
       "      <td>456</td>\n",
       "      <td>683.7</td>\n",
       "      <td>Shale-Sand</td>\n",
       "      <td>0.332</td>\n",
       "      <td>49.75</td>\n",
       "      <td>832.45</td>\n",
       "    </tr>\n",
       "    <tr>\n",
       "      <th>998</th>\n",
       "      <td>540.9</td>\n",
       "      <td>328</td>\n",
       "      <td>1346.0</td>\n",
       "      <td>Shale</td>\n",
       "      <td>0.111</td>\n",
       "      <td>0.59</td>\n",
       "      <td>0.00</td>\n",
       "    </tr>\n",
       "    <tr>\n",
       "      <th>999</th>\n",
       "      <td>617.8</td>\n",
       "      <td>377</td>\n",
       "      <td>844.0</td>\n",
       "      <td>Shale-Sand</td>\n",
       "      <td>0.292</td>\n",
       "      <td>9.95</td>\n",
       "      <td>153.43</td>\n",
       "    </tr>\n",
       "  </tbody>\n",
       "</table>\n",
       "<p>1000 rows × 7 columns</p>\n",
       "</div>"
      ],
      "text/plain": [
       "     X Coordinate  Y Coordinate  Measured Depth (m) Prod. Formation  \\\n",
       "0           352.6           372              2145.8      Shale-Sand   \n",
       "1           435.7           551              1638.0            Sand   \n",
       "2            37.7           788              3984.0           Shale   \n",
       "3           346.7           311              3809.0            Sand   \n",
       "4           254.6           727              2335.0            Sand   \n",
       "..            ...           ...                 ...             ...   \n",
       "995          92.5           767              1466.0            Sand   \n",
       "996         548.3           475               749.8           Shale   \n",
       "997         593.4           456               683.7      Shale-Sand   \n",
       "998         540.9           328              1346.0           Shale   \n",
       "999         617.8           377               844.0      Shale-Sand   \n",
       "\n",
       "     Porosity (fraction)  Permeability (Darcy)  OIL Prod. (e3m3/month)  \n",
       "0                  0.224                 12.25                  108.75  \n",
       "1                  0.118                  4.11                    0.33  \n",
       "2                  0.121                  1.99                   21.87  \n",
       "3                  0.170                  5.84                   46.30  \n",
       "4                  0.158                  5.25                   17.53  \n",
       "..                   ...                   ...                     ...  \n",
       "995                0.230                  6.26                    8.74  \n",
       "996                0.017                  0.48                    0.00  \n",
       "997                0.332                 49.75                  832.45  \n",
       "998                0.111                  0.59                    0.00  \n",
       "999                0.292                  9.95                  153.43  \n",
       "\n",
       "[1000 rows x 7 columns]"
      ]
     },
     "execution_count": 89,
     "metadata": {},
     "output_type": "execute_result"
    }
   ],
   "source": [
    "df_drop_c=df.copy() # Copy to avoid modifying the original data\n",
    "df_drop_c.drop(Select_column,axis=1, inplace=True)  # Drop selected 5 columns\n",
    "df_drop_c"
   ]
  },
  {
   "cell_type": "code",
   "execution_count": 90,
   "metadata": {},
   "outputs": [
    {
     "data": {
      "text/html": [
       "<div>\n",
       "<style scoped>\n",
       "    .dataframe tbody tr th:only-of-type {\n",
       "        vertical-align: middle;\n",
       "    }\n",
       "\n",
       "    .dataframe tbody tr th {\n",
       "        vertical-align: top;\n",
       "    }\n",
       "\n",
       "    .dataframe thead th {\n",
       "        text-align: right;\n",
       "    }\n",
       "</style>\n",
       "<table border=\"1\" class=\"dataframe\">\n",
       "  <thead>\n",
       "    <tr style=\"text-align: right;\">\n",
       "      <th></th>\n",
       "      <th>X Coordinate</th>\n",
       "      <th>Y Coordinate</th>\n",
       "      <th>Measured Depth (m)</th>\n",
       "      <th>Prod. Formation</th>\n",
       "      <th>Porosity (fraction)</th>\n",
       "      <th>Permeability (Darcy)</th>\n",
       "      <th>OIL Prod. (e3m3/month)</th>\n",
       "    </tr>\n",
       "  </thead>\n",
       "  <tbody>\n",
       "    <tr>\n",
       "      <th>0</th>\n",
       "      <td>352.6</td>\n",
       "      <td>372</td>\n",
       "      <td>2145.8</td>\n",
       "      <td>Shale-Sand</td>\n",
       "      <td>0.224</td>\n",
       "      <td>12.25</td>\n",
       "      <td>108.75</td>\n",
       "    </tr>\n",
       "    <tr>\n",
       "      <th>2</th>\n",
       "      <td>37.7</td>\n",
       "      <td>788</td>\n",
       "      <td>3984.0</td>\n",
       "      <td>Shale</td>\n",
       "      <td>0.121</td>\n",
       "      <td>1.99</td>\n",
       "      <td>21.87</td>\n",
       "    </tr>\n",
       "    <tr>\n",
       "      <th>3</th>\n",
       "      <td>346.7</td>\n",
       "      <td>311</td>\n",
       "      <td>3809.0</td>\n",
       "      <td>Sand</td>\n",
       "      <td>0.170</td>\n",
       "      <td>5.84</td>\n",
       "      <td>46.30</td>\n",
       "    </tr>\n",
       "    <tr>\n",
       "      <th>4</th>\n",
       "      <td>254.6</td>\n",
       "      <td>727</td>\n",
       "      <td>2335.0</td>\n",
       "      <td>Sand</td>\n",
       "      <td>0.158</td>\n",
       "      <td>5.25</td>\n",
       "      <td>17.53</td>\n",
       "    </tr>\n",
       "    <tr>\n",
       "      <th>5</th>\n",
       "      <td>127.5</td>\n",
       "      <td>1125</td>\n",
       "      <td>1560.6</td>\n",
       "      <td>Shale</td>\n",
       "      <td>0.000</td>\n",
       "      <td>0.10</td>\n",
       "      <td>0.00</td>\n",
       "    </tr>\n",
       "    <tr>\n",
       "      <th>...</th>\n",
       "      <td>...</td>\n",
       "      <td>...</td>\n",
       "      <td>...</td>\n",
       "      <td>...</td>\n",
       "      <td>...</td>\n",
       "      <td>...</td>\n",
       "      <td>...</td>\n",
       "    </tr>\n",
       "    <tr>\n",
       "      <th>995</th>\n",
       "      <td>92.5</td>\n",
       "      <td>767</td>\n",
       "      <td>1466.0</td>\n",
       "      <td>Sand</td>\n",
       "      <td>0.230</td>\n",
       "      <td>6.26</td>\n",
       "      <td>8.74</td>\n",
       "    </tr>\n",
       "    <tr>\n",
       "      <th>996</th>\n",
       "      <td>548.3</td>\n",
       "      <td>475</td>\n",
       "      <td>749.8</td>\n",
       "      <td>Shale</td>\n",
       "      <td>0.017</td>\n",
       "      <td>0.48</td>\n",
       "      <td>0.00</td>\n",
       "    </tr>\n",
       "    <tr>\n",
       "      <th>997</th>\n",
       "      <td>593.4</td>\n",
       "      <td>456</td>\n",
       "      <td>683.7</td>\n",
       "      <td>Shale-Sand</td>\n",
       "      <td>0.332</td>\n",
       "      <td>49.75</td>\n",
       "      <td>832.45</td>\n",
       "    </tr>\n",
       "    <tr>\n",
       "      <th>998</th>\n",
       "      <td>540.9</td>\n",
       "      <td>328</td>\n",
       "      <td>1346.0</td>\n",
       "      <td>Shale</td>\n",
       "      <td>0.111</td>\n",
       "      <td>0.59</td>\n",
       "      <td>0.00</td>\n",
       "    </tr>\n",
       "    <tr>\n",
       "      <th>999</th>\n",
       "      <td>617.8</td>\n",
       "      <td>377</td>\n",
       "      <td>844.0</td>\n",
       "      <td>Shale-Sand</td>\n",
       "      <td>0.292</td>\n",
       "      <td>9.95</td>\n",
       "      <td>153.43</td>\n",
       "    </tr>\n",
       "  </tbody>\n",
       "</table>\n",
       "<p>999 rows × 7 columns</p>\n",
       "</div>"
      ],
      "text/plain": [
       "     X Coordinate  Y Coordinate  Measured Depth (m) Prod. Formation  \\\n",
       "0           352.6           372              2145.8      Shale-Sand   \n",
       "2            37.7           788              3984.0           Shale   \n",
       "3           346.7           311              3809.0            Sand   \n",
       "4           254.6           727              2335.0            Sand   \n",
       "5           127.5          1125              1560.6           Shale   \n",
       "..            ...           ...                 ...             ...   \n",
       "995          92.5           767              1466.0            Sand   \n",
       "996         548.3           475               749.8           Shale   \n",
       "997         593.4           456               683.7      Shale-Sand   \n",
       "998         540.9           328              1346.0           Shale   \n",
       "999         617.8           377               844.0      Shale-Sand   \n",
       "\n",
       "     Porosity (fraction)  Permeability (Darcy)  OIL Prod. (e3m3/month)  \n",
       "0                  0.224                 12.25                  108.75  \n",
       "2                  0.121                  1.99                   21.87  \n",
       "3                  0.170                  5.84                   46.30  \n",
       "4                  0.158                  5.25                   17.53  \n",
       "5                  0.000                  0.10                    0.00  \n",
       "..                   ...                   ...                     ...  \n",
       "995                0.230                  6.26                    8.74  \n",
       "996                0.017                  0.48                    0.00  \n",
       "997                0.332                 49.75                  832.45  \n",
       "998                0.111                  0.59                    0.00  \n",
       "999                0.292                  9.95                  153.43  \n",
       "\n",
       "[999 rows x 7 columns]"
      ]
     },
     "execution_count": 90,
     "metadata": {},
     "output_type": "execute_result"
    }
   ],
   "source": [
    "aa=df_drop_c.drop(1,axis=0)\n",
    "aa"
   ]
  },
  {
   "cell_type": "code",
   "execution_count": 91,
   "metadata": {},
   "outputs": [
    {
     "data": {
      "text/html": [
       "<div>\n",
       "<style scoped>\n",
       "    .dataframe tbody tr th:only-of-type {\n",
       "        vertical-align: middle;\n",
       "    }\n",
       "\n",
       "    .dataframe tbody tr th {\n",
       "        vertical-align: top;\n",
       "    }\n",
       "\n",
       "    .dataframe thead th {\n",
       "        text-align: right;\n",
       "    }\n",
       "</style>\n",
       "<table border=\"1\" class=\"dataframe\">\n",
       "  <thead>\n",
       "    <tr style=\"text-align: right;\">\n",
       "      <th></th>\n",
       "      <th>X Coordinate</th>\n",
       "      <th>Y Coordinate</th>\n",
       "      <th>Measured Depth (m)</th>\n",
       "      <th>Prod. Formation</th>\n",
       "      <th>Porosity (fraction)</th>\n",
       "      <th>Permeability (Darcy)</th>\n",
       "      <th>OIL Prod. (e3m3/month)</th>\n",
       "    </tr>\n",
       "  </thead>\n",
       "  <tbody>\n",
       "    <tr>\n",
       "      <th>0</th>\n",
       "      <td>352.6</td>\n",
       "      <td>372</td>\n",
       "      <td>2145.8</td>\n",
       "      <td>Shale-Sand</td>\n",
       "      <td>0.224</td>\n",
       "      <td>12.25</td>\n",
       "      <td>108.75</td>\n",
       "    </tr>\n",
       "    <tr>\n",
       "      <th>1</th>\n",
       "      <td>435.7</td>\n",
       "      <td>551</td>\n",
       "      <td>1638.0</td>\n",
       "      <td>Sand</td>\n",
       "      <td>0.118</td>\n",
       "      <td>4.11</td>\n",
       "      <td>0.33</td>\n",
       "    </tr>\n",
       "    <tr>\n",
       "      <th>2</th>\n",
       "      <td>37.7</td>\n",
       "      <td>788</td>\n",
       "      <td>3984.0</td>\n",
       "      <td>Shale</td>\n",
       "      <td>0.121</td>\n",
       "      <td>1.99</td>\n",
       "      <td>21.87</td>\n",
       "    </tr>\n",
       "    <tr>\n",
       "      <th>3</th>\n",
       "      <td>346.7</td>\n",
       "      <td>311</td>\n",
       "      <td>3809.0</td>\n",
       "      <td>Sand</td>\n",
       "      <td>0.170</td>\n",
       "      <td>5.84</td>\n",
       "      <td>46.30</td>\n",
       "    </tr>\n",
       "    <tr>\n",
       "      <th>4</th>\n",
       "      <td>254.6</td>\n",
       "      <td>727</td>\n",
       "      <td>2335.0</td>\n",
       "      <td>Sand</td>\n",
       "      <td>0.158</td>\n",
       "      <td>5.25</td>\n",
       "      <td>17.53</td>\n",
       "    </tr>\n",
       "    <tr>\n",
       "      <th>...</th>\n",
       "      <td>...</td>\n",
       "      <td>...</td>\n",
       "      <td>...</td>\n",
       "      <td>...</td>\n",
       "      <td>...</td>\n",
       "      <td>...</td>\n",
       "      <td>...</td>\n",
       "    </tr>\n",
       "    <tr>\n",
       "      <th>995</th>\n",
       "      <td>92.5</td>\n",
       "      <td>767</td>\n",
       "      <td>1466.0</td>\n",
       "      <td>Sand</td>\n",
       "      <td>0.230</td>\n",
       "      <td>6.26</td>\n",
       "      <td>8.74</td>\n",
       "    </tr>\n",
       "    <tr>\n",
       "      <th>996</th>\n",
       "      <td>548.3</td>\n",
       "      <td>475</td>\n",
       "      <td>749.8</td>\n",
       "      <td>Shale</td>\n",
       "      <td>0.017</td>\n",
       "      <td>0.48</td>\n",
       "      <td>0.00</td>\n",
       "    </tr>\n",
       "    <tr>\n",
       "      <th>997</th>\n",
       "      <td>593.4</td>\n",
       "      <td>456</td>\n",
       "      <td>683.7</td>\n",
       "      <td>Shale-Sand</td>\n",
       "      <td>0.332</td>\n",
       "      <td>49.75</td>\n",
       "      <td>832.45</td>\n",
       "    </tr>\n",
       "    <tr>\n",
       "      <th>998</th>\n",
       "      <td>540.9</td>\n",
       "      <td>328</td>\n",
       "      <td>1346.0</td>\n",
       "      <td>Shale</td>\n",
       "      <td>0.111</td>\n",
       "      <td>0.59</td>\n",
       "      <td>0.00</td>\n",
       "    </tr>\n",
       "    <tr>\n",
       "      <th>999</th>\n",
       "      <td>617.8</td>\n",
       "      <td>377</td>\n",
       "      <td>844.0</td>\n",
       "      <td>Shale-Sand</td>\n",
       "      <td>0.292</td>\n",
       "      <td>9.95</td>\n",
       "      <td>153.43</td>\n",
       "    </tr>\n",
       "  </tbody>\n",
       "</table>\n",
       "<p>1000 rows × 7 columns</p>\n",
       "</div>"
      ],
      "text/plain": [
       "     X Coordinate  Y Coordinate  Measured Depth (m) Prod. Formation  \\\n",
       "0           352.6           372              2145.8      Shale-Sand   \n",
       "1           435.7           551              1638.0            Sand   \n",
       "2            37.7           788              3984.0           Shale   \n",
       "3           346.7           311              3809.0            Sand   \n",
       "4           254.6           727              2335.0            Sand   \n",
       "..            ...           ...                 ...             ...   \n",
       "995          92.5           767              1466.0            Sand   \n",
       "996         548.3           475               749.8           Shale   \n",
       "997         593.4           456               683.7      Shale-Sand   \n",
       "998         540.9           328              1346.0           Shale   \n",
       "999         617.8           377               844.0      Shale-Sand   \n",
       "\n",
       "     Porosity (fraction)  Permeability (Darcy)  OIL Prod. (e3m3/month)  \n",
       "0                  0.224                 12.25                  108.75  \n",
       "1                  0.118                  4.11                    0.33  \n",
       "2                  0.121                  1.99                   21.87  \n",
       "3                  0.170                  5.84                   46.30  \n",
       "4                  0.158                  5.25                   17.53  \n",
       "..                   ...                   ...                     ...  \n",
       "995                0.230                  6.26                    8.74  \n",
       "996                0.017                  0.48                    0.00  \n",
       "997                0.332                 49.75                  832.45  \n",
       "998                0.111                  0.59                    0.00  \n",
       "999                0.292                  9.95                  153.43  \n",
       "\n",
       "[1000 rows x 7 columns]"
      ]
     },
     "execution_count": 91,
     "metadata": {},
     "output_type": "execute_result"
    }
   ],
   "source": [
    "df_drop_c"
   ]
  },
  {
   "cell_type": "code",
   "execution_count": null,
   "metadata": {},
   "outputs": [],
   "source": []
  },
  {
   "cell_type": "code",
   "execution_count": 92,
   "metadata": {},
   "outputs": [
    {
     "name": "stdout",
     "output_type": "stream",
     "text": [
      "<class 'pandas.core.frame.DataFrame'>\n",
      "RangeIndex: 1000 entries, 0 to 999\n",
      "Data columns (total 7 columns):\n",
      " #   Column                  Non-Null Count  Dtype  \n",
      "---  ------                  --------------  -----  \n",
      " 0   X Coordinate            1000 non-null   float64\n",
      " 1   Y Coordinate            1000 non-null   int64  \n",
      " 2   Measured Depth (m)      1000 non-null   float64\n",
      " 3   Prod. Formation         1000 non-null   object \n",
      " 4   Porosity (fraction)     1000 non-null   float64\n",
      " 5   Permeability (Darcy)    1000 non-null   float64\n",
      " 6   OIL Prod. (e3m3/month)  1000 non-null   float64\n",
      "dtypes: float64(5), int64(1), object(1)\n",
      "memory usage: 54.8+ KB\n"
     ]
    }
   ],
   "source": [
    "df_drop_c.info()"
   ]
  },
  {
   "cell_type": "markdown",
   "metadata": {},
   "source": [
    "This approach is not reliable since the information of 5 columns without missing values have been removed from data set."
   ]
  },
  {
   "cell_type": "markdown",
   "metadata": {},
   "source": [
    "**Option 2: Drop Row**\n",
    "\n",
    "Another approach is to remove rows that have missing values with **dropna()** function."
   ]
  },
  {
   "cell_type": "code",
   "execution_count": 93,
   "metadata": {},
   "outputs": [
    {
     "data": {
      "text/html": [
       "<div>\n",
       "<style scoped>\n",
       "    .dataframe tbody tr th:only-of-type {\n",
       "        vertical-align: middle;\n",
       "    }\n",
       "\n",
       "    .dataframe tbody tr th {\n",
       "        vertical-align: top;\n",
       "    }\n",
       "\n",
       "    .dataframe thead th {\n",
       "        text-align: right;\n",
       "    }\n",
       "</style>\n",
       "<table border=\"1\" class=\"dataframe\">\n",
       "  <thead>\n",
       "    <tr style=\"text-align: right;\">\n",
       "      <th></th>\n",
       "      <th>X Coordinate</th>\n",
       "      <th>Y Coordinate</th>\n",
       "      <th>Measured Depth (m)</th>\n",
       "      <th>Deviation (True/False)</th>\n",
       "      <th>Surface-Casing Weight (kg/m)</th>\n",
       "      <th>Production-Casing Size (mm)</th>\n",
       "      <th>Production-Casing Weight (kg/m)</th>\n",
       "      <th>Bore. Temp. (degC)</th>\n",
       "      <th>Prod. Formation</th>\n",
       "      <th>Porosity (fraction)</th>\n",
       "      <th>Permeability (Darcy)</th>\n",
       "      <th>OIL Prod. (e3m3/month)</th>\n",
       "    </tr>\n",
       "  </thead>\n",
       "  <tbody>\n",
       "    <tr>\n",
       "      <th>6</th>\n",
       "      <td>636.9</td>\n",
       "      <td>462</td>\n",
       "      <td>713.0</td>\n",
       "      <td>True</td>\n",
       "      <td>48.1</td>\n",
       "      <td>177.8</td>\n",
       "      <td>25.3</td>\n",
       "      <td>27.0</td>\n",
       "      <td>Shale</td>\n",
       "      <td>0.128</td>\n",
       "      <td>0.70</td>\n",
       "      <td>0.00</td>\n",
       "    </tr>\n",
       "    <tr>\n",
       "      <th>7</th>\n",
       "      <td>556.2</td>\n",
       "      <td>441</td>\n",
       "      <td>761.0</td>\n",
       "      <td>False</td>\n",
       "      <td>35.7</td>\n",
       "      <td>139.7</td>\n",
       "      <td>20.8</td>\n",
       "      <td>28.0</td>\n",
       "      <td>Sand</td>\n",
       "      <td>0.055</td>\n",
       "      <td>0.36</td>\n",
       "      <td>0.00</td>\n",
       "    </tr>\n",
       "    <tr>\n",
       "      <th>8</th>\n",
       "      <td>572.0</td>\n",
       "      <td>521</td>\n",
       "      <td>587.0</td>\n",
       "      <td>False</td>\n",
       "      <td>25.3</td>\n",
       "      <td>114.3</td>\n",
       "      <td>14.1</td>\n",
       "      <td>15.0</td>\n",
       "      <td>Shale</td>\n",
       "      <td>0.033</td>\n",
       "      <td>0.46</td>\n",
       "      <td>0.00</td>\n",
       "    </tr>\n",
       "    <tr>\n",
       "      <th>10</th>\n",
       "      <td>366.2</td>\n",
       "      <td>385</td>\n",
       "      <td>1801.0</td>\n",
       "      <td>False</td>\n",
       "      <td>35.7</td>\n",
       "      <td>139.7</td>\n",
       "      <td>25.3</td>\n",
       "      <td>52.0</td>\n",
       "      <td>Shale-Sand</td>\n",
       "      <td>0.147</td>\n",
       "      <td>3.15</td>\n",
       "      <td>5.80</td>\n",
       "    </tr>\n",
       "    <tr>\n",
       "      <th>14</th>\n",
       "      <td>648.7</td>\n",
       "      <td>275</td>\n",
       "      <td>920.0</td>\n",
       "      <td>False</td>\n",
       "      <td>35.7</td>\n",
       "      <td>139.7</td>\n",
       "      <td>20.8</td>\n",
       "      <td>30.0</td>\n",
       "      <td>Shale</td>\n",
       "      <td>0.104</td>\n",
       "      <td>0.38</td>\n",
       "      <td>0.00</td>\n",
       "    </tr>\n",
       "    <tr>\n",
       "      <th>...</th>\n",
       "      <td>...</td>\n",
       "      <td>...</td>\n",
       "      <td>...</td>\n",
       "      <td>...</td>\n",
       "      <td>...</td>\n",
       "      <td>...</td>\n",
       "      <td>...</td>\n",
       "      <td>...</td>\n",
       "      <td>...</td>\n",
       "      <td>...</td>\n",
       "      <td>...</td>\n",
       "      <td>...</td>\n",
       "    </tr>\n",
       "    <tr>\n",
       "      <th>989</th>\n",
       "      <td>44.1</td>\n",
       "      <td>787</td>\n",
       "      <td>1895.0</td>\n",
       "      <td>False</td>\n",
       "      <td>35.7</td>\n",
       "      <td>139.7</td>\n",
       "      <td>23.1</td>\n",
       "      <td>66.0</td>\n",
       "      <td>Shale</td>\n",
       "      <td>0.144</td>\n",
       "      <td>11.73</td>\n",
       "      <td>22.01</td>\n",
       "    </tr>\n",
       "    <tr>\n",
       "      <th>990</th>\n",
       "      <td>487.2</td>\n",
       "      <td>81</td>\n",
       "      <td>1033.0</td>\n",
       "      <td>True</td>\n",
       "      <td>35.7</td>\n",
       "      <td>139.7</td>\n",
       "      <td>20.8</td>\n",
       "      <td>30.0</td>\n",
       "      <td>Shale</td>\n",
       "      <td>0.144</td>\n",
       "      <td>0.99</td>\n",
       "      <td>0.00</td>\n",
       "    </tr>\n",
       "    <tr>\n",
       "      <th>991</th>\n",
       "      <td>607.4</td>\n",
       "      <td>526</td>\n",
       "      <td>668.0</td>\n",
       "      <td>True</td>\n",
       "      <td>48.1</td>\n",
       "      <td>177.8</td>\n",
       "      <td>25.3</td>\n",
       "      <td>14.0</td>\n",
       "      <td>Shale-Sand</td>\n",
       "      <td>0.000</td>\n",
       "      <td>0.45</td>\n",
       "      <td>0.00</td>\n",
       "    </tr>\n",
       "    <tr>\n",
       "      <th>995</th>\n",
       "      <td>92.5</td>\n",
       "      <td>767</td>\n",
       "      <td>1466.0</td>\n",
       "      <td>False</td>\n",
       "      <td>35.7</td>\n",
       "      <td>139.7</td>\n",
       "      <td>20.8</td>\n",
       "      <td>51.0</td>\n",
       "      <td>Sand</td>\n",
       "      <td>0.230</td>\n",
       "      <td>6.26</td>\n",
       "      <td>8.74</td>\n",
       "    </tr>\n",
       "    <tr>\n",
       "      <th>999</th>\n",
       "      <td>617.8</td>\n",
       "      <td>377</td>\n",
       "      <td>844.0</td>\n",
       "      <td>False</td>\n",
       "      <td>35.7</td>\n",
       "      <td>139.7</td>\n",
       "      <td>20.8</td>\n",
       "      <td>27.0</td>\n",
       "      <td>Shale-Sand</td>\n",
       "      <td>0.292</td>\n",
       "      <td>9.95</td>\n",
       "      <td>153.43</td>\n",
       "    </tr>\n",
       "  </tbody>\n",
       "</table>\n",
       "<p>426 rows × 12 columns</p>\n",
       "</div>"
      ],
      "text/plain": [
       "     X Coordinate  Y Coordinate  Measured Depth (m)  Deviation (True/False)  \\\n",
       "6           636.9           462               713.0                    True   \n",
       "7           556.2           441               761.0                   False   \n",
       "8           572.0           521               587.0                   False   \n",
       "10          366.2           385              1801.0                   False   \n",
       "14          648.7           275               920.0                   False   \n",
       "..            ...           ...                 ...                     ...   \n",
       "989          44.1           787              1895.0                   False   \n",
       "990         487.2            81              1033.0                    True   \n",
       "991         607.4           526               668.0                    True   \n",
       "995          92.5           767              1466.0                   False   \n",
       "999         617.8           377               844.0                   False   \n",
       "\n",
       "     Surface-Casing Weight (kg/m)  Production-Casing Size (mm)  \\\n",
       "6                            48.1                        177.8   \n",
       "7                            35.7                        139.7   \n",
       "8                            25.3                        114.3   \n",
       "10                           35.7                        139.7   \n",
       "14                           35.7                        139.7   \n",
       "..                            ...                          ...   \n",
       "989                          35.7                        139.7   \n",
       "990                          35.7                        139.7   \n",
       "991                          48.1                        177.8   \n",
       "995                          35.7                        139.7   \n",
       "999                          35.7                        139.7   \n",
       "\n",
       "     Production-Casing Weight (kg/m)  Bore. Temp. (degC) Prod. Formation  \\\n",
       "6                               25.3                27.0           Shale   \n",
       "7                               20.8                28.0            Sand   \n",
       "8                               14.1                15.0           Shale   \n",
       "10                              25.3                52.0      Shale-Sand   \n",
       "14                              20.8                30.0           Shale   \n",
       "..                               ...                 ...             ...   \n",
       "989                             23.1                66.0           Shale   \n",
       "990                             20.8                30.0           Shale   \n",
       "991                             25.3                14.0      Shale-Sand   \n",
       "995                             20.8                51.0            Sand   \n",
       "999                             20.8                27.0      Shale-Sand   \n",
       "\n",
       "     Porosity (fraction)  Permeability (Darcy)  OIL Prod. (e3m3/month)  \n",
       "6                  0.128                  0.70                    0.00  \n",
       "7                  0.055                  0.36                    0.00  \n",
       "8                  0.033                  0.46                    0.00  \n",
       "10                 0.147                  3.15                    5.80  \n",
       "14                 0.104                  0.38                    0.00  \n",
       "..                   ...                   ...                     ...  \n",
       "989                0.144                 11.73                   22.01  \n",
       "990                0.144                  0.99                    0.00  \n",
       "991                0.000                  0.45                    0.00  \n",
       "995                0.230                  6.26                    8.74  \n",
       "999                0.292                  9.95                  153.43  \n",
       "\n",
       "[426 rows x 12 columns]"
      ]
     },
     "execution_count": 93,
     "metadata": {},
     "output_type": "execute_result"
    }
   ],
   "source": [
    "df_drop_=df.copy() # Copy to avoid modifying the original data\n",
    "df_drop_r=df_drop_.dropna() # Drop rows with missing values\n",
    "df_drop_r"
   ]
  },
  {
   "cell_type": "code",
   "execution_count": 94,
   "metadata": {},
   "outputs": [
    {
     "name": "stdout",
     "output_type": "stream",
     "text": [
      "<class 'pandas.core.frame.DataFrame'>\n",
      "Int64Index: 426 entries, 6 to 999\n",
      "Data columns (total 12 columns):\n",
      " #   Column                           Non-Null Count  Dtype  \n",
      "---  ------                           --------------  -----  \n",
      " 0   X Coordinate                     426 non-null    float64\n",
      " 1   Y Coordinate                     426 non-null    int64  \n",
      " 2   Measured Depth (m)               426 non-null    float64\n",
      " 3   Deviation (True/False)           426 non-null    bool   \n",
      " 4   Surface-Casing Weight (kg/m)     426 non-null    float64\n",
      " 5   Production-Casing Size (mm)      426 non-null    float64\n",
      " 6   Production-Casing Weight (kg/m)  426 non-null    float64\n",
      " 7   Bore. Temp. (degC)               426 non-null    float64\n",
      " 8   Prod. Formation                  426 non-null    object \n",
      " 9   Porosity (fraction)              426 non-null    float64\n",
      " 10  Permeability (Darcy)             426 non-null    float64\n",
      " 11  OIL Prod. (e3m3/month)           426 non-null    float64\n",
      "dtypes: bool(1), float64(9), int64(1), object(1)\n",
      "memory usage: 40.4+ KB\n"
     ]
    }
   ],
   "source": [
    "df_drop_r.info()"
   ]
  },
  {
   "cell_type": "markdown",
   "metadata": {},
   "source": [
    "This approach is also not recommend because number of data (rows) have decreased from 1000 to 426."
   ]
  },
  {
   "cell_type": "markdown",
   "metadata": {},
   "source": [
    "**Option 3: Replace with Median (mean)**\n",
    "\n",
    "A common practice is to replace missing values with the median (mean) value for that column. The median is the middle value of a list that 50% are less and 50% are bigger. See [Median](https://www.mathsisfun.com/median.html). The following code replaces all missing values in 5 columns with the median value of each column values."
   ]
  },
  {
   "cell_type": "code",
   "execution_count": 95,
   "metadata": {},
   "outputs": [
    {
     "data": {
      "text/html": [
       "<div>\n",
       "<style scoped>\n",
       "    .dataframe tbody tr th:only-of-type {\n",
       "        vertical-align: middle;\n",
       "    }\n",
       "\n",
       "    .dataframe tbody tr th {\n",
       "        vertical-align: top;\n",
       "    }\n",
       "\n",
       "    .dataframe thead th {\n",
       "        text-align: right;\n",
       "    }\n",
       "</style>\n",
       "<table border=\"1\" class=\"dataframe\">\n",
       "  <thead>\n",
       "    <tr style=\"text-align: right;\">\n",
       "      <th></th>\n",
       "      <th>X Coordinate</th>\n",
       "      <th>Y Coordinate</th>\n",
       "      <th>Measured Depth (m)</th>\n",
       "      <th>Deviation (True/False)</th>\n",
       "      <th>Surface-Casing Weight (kg/m)</th>\n",
       "      <th>Production-Casing Size (mm)</th>\n",
       "      <th>Production-Casing Weight (kg/m)</th>\n",
       "      <th>Bore. Temp. (degC)</th>\n",
       "      <th>Prod. Formation</th>\n",
       "      <th>Porosity (fraction)</th>\n",
       "      <th>Permeability (Darcy)</th>\n",
       "      <th>OIL Prod. (e3m3/month)</th>\n",
       "    </tr>\n",
       "  </thead>\n",
       "  <tbody>\n",
       "    <tr>\n",
       "      <th>0</th>\n",
       "      <td>352.6</td>\n",
       "      <td>372</td>\n",
       "      <td>2145.8</td>\n",
       "      <td>False</td>\n",
       "      <td>35.7</td>\n",
       "      <td>114.3</td>\n",
       "      <td>20.8</td>\n",
       "      <td>53.0</td>\n",
       "      <td>Shale-Sand</td>\n",
       "      <td>0.224</td>\n",
       "      <td>12.25</td>\n",
       "      <td>108.75</td>\n",
       "    </tr>\n",
       "    <tr>\n",
       "      <th>1</th>\n",
       "      <td>435.7</td>\n",
       "      <td>551</td>\n",
       "      <td>1638.0</td>\n",
       "      <td>True</td>\n",
       "      <td>25.3</td>\n",
       "      <td>114.3</td>\n",
       "      <td>17.3</td>\n",
       "      <td>33.0</td>\n",
       "      <td>Sand</td>\n",
       "      <td>0.118</td>\n",
       "      <td>4.11</td>\n",
       "      <td>0.33</td>\n",
       "    </tr>\n",
       "    <tr>\n",
       "      <th>2</th>\n",
       "      <td>37.7</td>\n",
       "      <td>788</td>\n",
       "      <td>3984.0</td>\n",
       "      <td>True</td>\n",
       "      <td>35.7</td>\n",
       "      <td>114.3</td>\n",
       "      <td>22.5</td>\n",
       "      <td>33.0</td>\n",
       "      <td>Shale</td>\n",
       "      <td>0.121</td>\n",
       "      <td>1.99</td>\n",
       "      <td>21.87</td>\n",
       "    </tr>\n",
       "    <tr>\n",
       "      <th>3</th>\n",
       "      <td>346.7</td>\n",
       "      <td>311</td>\n",
       "      <td>3809.0</td>\n",
       "      <td>True</td>\n",
       "      <td>41.7</td>\n",
       "      <td>114.3</td>\n",
       "      <td>17.3</td>\n",
       "      <td>33.0</td>\n",
       "      <td>Sand</td>\n",
       "      <td>0.170</td>\n",
       "      <td>5.84</td>\n",
       "      <td>46.30</td>\n",
       "    </tr>\n",
       "    <tr>\n",
       "      <th>4</th>\n",
       "      <td>254.6</td>\n",
       "      <td>727</td>\n",
       "      <td>2335.0</td>\n",
       "      <td>True</td>\n",
       "      <td>53.6</td>\n",
       "      <td>139.7</td>\n",
       "      <td>20.8</td>\n",
       "      <td>32.0</td>\n",
       "      <td>Sand</td>\n",
       "      <td>0.158</td>\n",
       "      <td>5.25</td>\n",
       "      <td>17.53</td>\n",
       "    </tr>\n",
       "    <tr>\n",
       "      <th>...</th>\n",
       "      <td>...</td>\n",
       "      <td>...</td>\n",
       "      <td>...</td>\n",
       "      <td>...</td>\n",
       "      <td>...</td>\n",
       "      <td>...</td>\n",
       "      <td>...</td>\n",
       "      <td>...</td>\n",
       "      <td>...</td>\n",
       "      <td>...</td>\n",
       "      <td>...</td>\n",
       "      <td>...</td>\n",
       "    </tr>\n",
       "    <tr>\n",
       "      <th>995</th>\n",
       "      <td>92.5</td>\n",
       "      <td>767</td>\n",
       "      <td>1466.0</td>\n",
       "      <td>False</td>\n",
       "      <td>35.7</td>\n",
       "      <td>139.7</td>\n",
       "      <td>20.8</td>\n",
       "      <td>51.0</td>\n",
       "      <td>Sand</td>\n",
       "      <td>0.230</td>\n",
       "      <td>6.26</td>\n",
       "      <td>8.74</td>\n",
       "    </tr>\n",
       "    <tr>\n",
       "      <th>996</th>\n",
       "      <td>548.3</td>\n",
       "      <td>475</td>\n",
       "      <td>749.8</td>\n",
       "      <td>False</td>\n",
       "      <td>35.7</td>\n",
       "      <td>114.3</td>\n",
       "      <td>20.8</td>\n",
       "      <td>28.0</td>\n",
       "      <td>Shale</td>\n",
       "      <td>0.017</td>\n",
       "      <td>0.48</td>\n",
       "      <td>0.00</td>\n",
       "    </tr>\n",
       "    <tr>\n",
       "      <th>997</th>\n",
       "      <td>593.4</td>\n",
       "      <td>456</td>\n",
       "      <td>683.7</td>\n",
       "      <td>False</td>\n",
       "      <td>35.7</td>\n",
       "      <td>177.8</td>\n",
       "      <td>20.8</td>\n",
       "      <td>26.0</td>\n",
       "      <td>Shale-Sand</td>\n",
       "      <td>0.332</td>\n",
       "      <td>49.75</td>\n",
       "      <td>832.45</td>\n",
       "    </tr>\n",
       "    <tr>\n",
       "      <th>998</th>\n",
       "      <td>540.9</td>\n",
       "      <td>328</td>\n",
       "      <td>1346.0</td>\n",
       "      <td>True</td>\n",
       "      <td>25.3</td>\n",
       "      <td>114.3</td>\n",
       "      <td>14.1</td>\n",
       "      <td>33.0</td>\n",
       "      <td>Shale</td>\n",
       "      <td>0.111</td>\n",
       "      <td>0.59</td>\n",
       "      <td>0.00</td>\n",
       "    </tr>\n",
       "    <tr>\n",
       "      <th>999</th>\n",
       "      <td>617.8</td>\n",
       "      <td>377</td>\n",
       "      <td>844.0</td>\n",
       "      <td>False</td>\n",
       "      <td>35.7</td>\n",
       "      <td>139.7</td>\n",
       "      <td>20.8</td>\n",
       "      <td>27.0</td>\n",
       "      <td>Shale-Sand</td>\n",
       "      <td>0.292</td>\n",
       "      <td>9.95</td>\n",
       "      <td>153.43</td>\n",
       "    </tr>\n",
       "  </tbody>\n",
       "</table>\n",
       "<p>1000 rows × 12 columns</p>\n",
       "</div>"
      ],
      "text/plain": [
       "     X Coordinate  Y Coordinate  Measured Depth (m)  Deviation (True/False)  \\\n",
       "0           352.6           372              2145.8                   False   \n",
       "1           435.7           551              1638.0                    True   \n",
       "2            37.7           788              3984.0                    True   \n",
       "3           346.7           311              3809.0                    True   \n",
       "4           254.6           727              2335.0                    True   \n",
       "..            ...           ...                 ...                     ...   \n",
       "995          92.5           767              1466.0                   False   \n",
       "996         548.3           475               749.8                   False   \n",
       "997         593.4           456               683.7                   False   \n",
       "998         540.9           328              1346.0                    True   \n",
       "999         617.8           377               844.0                   False   \n",
       "\n",
       "     Surface-Casing Weight (kg/m)  Production-Casing Size (mm)  \\\n",
       "0                            35.7                        114.3   \n",
       "1                            25.3                        114.3   \n",
       "2                            35.7                        114.3   \n",
       "3                            41.7                        114.3   \n",
       "4                            53.6                        139.7   \n",
       "..                            ...                          ...   \n",
       "995                          35.7                        139.7   \n",
       "996                          35.7                        114.3   \n",
       "997                          35.7                        177.8   \n",
       "998                          25.3                        114.3   \n",
       "999                          35.7                        139.7   \n",
       "\n",
       "     Production-Casing Weight (kg/m)  Bore. Temp. (degC) Prod. Formation  \\\n",
       "0                               20.8                53.0      Shale-Sand   \n",
       "1                               17.3                33.0            Sand   \n",
       "2                               22.5                33.0           Shale   \n",
       "3                               17.3                33.0            Sand   \n",
       "4                               20.8                32.0            Sand   \n",
       "..                               ...                 ...             ...   \n",
       "995                             20.8                51.0            Sand   \n",
       "996                             20.8                28.0           Shale   \n",
       "997                             20.8                26.0      Shale-Sand   \n",
       "998                             14.1                33.0           Shale   \n",
       "999                             20.8                27.0      Shale-Sand   \n",
       "\n",
       "     Porosity (fraction)  Permeability (Darcy)  OIL Prod. (e3m3/month)  \n",
       "0                  0.224                 12.25                  108.75  \n",
       "1                  0.118                  4.11                    0.33  \n",
       "2                  0.121                  1.99                   21.87  \n",
       "3                  0.170                  5.84                   46.30  \n",
       "4                  0.158                  5.25                   17.53  \n",
       "..                   ...                   ...                     ...  \n",
       "995                0.230                  6.26                    8.74  \n",
       "996                0.017                  0.48                    0.00  \n",
       "997                0.332                 49.75                  832.45  \n",
       "998                0.111                  0.59                    0.00  \n",
       "999                0.292                  9.95                  153.43  \n",
       "\n",
       "[1000 rows x 12 columns]"
      ]
     },
     "execution_count": 95,
     "metadata": {},
     "output_type": "execute_result"
    }
   ],
   "source": [
    "df_im=df.copy()\n",
    "\n",
    "# Get the median of each variable and replace the missing values with median\n",
    "for i in range(len(Select_column)):\n",
    "    P50 = df[Select_column[i]].median() # Calculate median of each column\n",
    "    df_im[Select_column[i]] = df_im[Select_column[i]].fillna(P50)   # replace NaN with median(P50)\n",
    "    \n",
    "df_im    "
   ]
  },
  {
   "cell_type": "code",
   "execution_count": 96,
   "metadata": {},
   "outputs": [
    {
     "name": "stdout",
     "output_type": "stream",
     "text": [
      "<class 'pandas.core.frame.DataFrame'>\n",
      "RangeIndex: 1000 entries, 0 to 999\n",
      "Data columns (total 12 columns):\n",
      " #   Column                           Non-Null Count  Dtype  \n",
      "---  ------                           --------------  -----  \n",
      " 0   X Coordinate                     1000 non-null   float64\n",
      " 1   Y Coordinate                     1000 non-null   int64  \n",
      " 2   Measured Depth (m)               1000 non-null   float64\n",
      " 3   Deviation (True/False)           1000 non-null   bool   \n",
      " 4   Surface-Casing Weight (kg/m)     1000 non-null   float64\n",
      " 5   Production-Casing Size (mm)      1000 non-null   float64\n",
      " 6   Production-Casing Weight (kg/m)  1000 non-null   float64\n",
      " 7   Bore. Temp. (degC)               1000 non-null   float64\n",
      " 8   Prod. Formation                  1000 non-null   object \n",
      " 9   Porosity (fraction)              1000 non-null   float64\n",
      " 10  Permeability (Darcy)             1000 non-null   float64\n",
      " 11  OIL Prod. (e3m3/month)           1000 non-null   float64\n",
      "dtypes: bool(1), float64(9), int64(1), object(1)\n",
      "memory usage: 87.0+ KB\n"
     ]
    }
   ],
   "source": [
    "df_im.info()"
   ]
  },
  {
   "cell_type": "markdown",
   "metadata": {},
   "source": [
    "### Remove Outliers "
   ]
  },
  {
   "cell_type": "markdown",
   "metadata": {},
   "source": [
    "Outliers are usually extreme high or low values that are different from pattern of majority data. Outliers should be removed from dataset (we should be careful not to consider novelty as outlier). A straightforward approach to detect outliers are several (n) [standard deviations](https://www.mathsisfun.com/data/standard-deviation.html) from the mean $m\\pm n\\sigma$ ($m$=mean, $\\sigma$=standard deviation). For example, an outlier can bigger than $m+ 3\\sigma $ or less than can bigger than $m- 3\\sigma $. The following function can be used to apply this approach.    "
   ]
  },
  {
   "cell_type": "code",
   "execution_count": 97,
   "metadata": {},
   "outputs": [],
   "source": [
    "def outlier_remove(df, n,name):\n",
    "    \"\"\"Delete rows for a specified column where values are out of +/- n*sd standard deviations\n",
    "    \n",
    "    df  : Pandas dataframe\n",
    "    n   : n in the equation 𝑚±𝑛𝜎\n",
    "    name: Column name\n",
    "    \"\"\"\n",
    "    mean=df[name].mean() # Calclute mean of column\n",
    "    sd=df[name].std()  # Calclute standard deviation of column\n",
    "    drop_r = df.index[(mean -n * sd> df[name]) | (mean+n * sd< df[name])] # Find data that are not within 𝑚±𝑛𝜎\n",
    "    df.drop(drop_r, axis=0, inplace=True) # Drop data\n",
    "    df.reset_index(inplace=True, drop=True) # Reset index"
   ]
  },
  {
   "cell_type": "code",
   "execution_count": 98,
   "metadata": {},
   "outputs": [
    {
     "data": {
      "text/html": [
       "<div>\n",
       "<style scoped>\n",
       "    .dataframe tbody tr th:only-of-type {\n",
       "        vertical-align: middle;\n",
       "    }\n",
       "\n",
       "    .dataframe tbody tr th {\n",
       "        vertical-align: top;\n",
       "    }\n",
       "\n",
       "    .dataframe thead th {\n",
       "        text-align: right;\n",
       "    }\n",
       "</style>\n",
       "<table border=\"1\" class=\"dataframe\">\n",
       "  <thead>\n",
       "    <tr style=\"text-align: right;\">\n",
       "      <th></th>\n",
       "      <th>X Coordinate</th>\n",
       "      <th>Y Coordinate</th>\n",
       "      <th>Measured Depth (m)</th>\n",
       "      <th>Deviation (True/False)</th>\n",
       "      <th>Surface-Casing Weight (kg/m)</th>\n",
       "      <th>Production-Casing Size (mm)</th>\n",
       "      <th>Production-Casing Weight (kg/m)</th>\n",
       "      <th>Bore. Temp. (degC)</th>\n",
       "      <th>Prod. Formation</th>\n",
       "      <th>Porosity (fraction)</th>\n",
       "      <th>Permeability (Darcy)</th>\n",
       "      <th>OIL Prod. (e3m3/month)</th>\n",
       "    </tr>\n",
       "  </thead>\n",
       "  <tbody>\n",
       "    <tr>\n",
       "      <th>0</th>\n",
       "      <td>352.6</td>\n",
       "      <td>372</td>\n",
       "      <td>2145.8</td>\n",
       "      <td>False</td>\n",
       "      <td>35.7</td>\n",
       "      <td>114.3</td>\n",
       "      <td>20.8</td>\n",
       "      <td>53.0</td>\n",
       "      <td>Shale-Sand</td>\n",
       "      <td>0.224</td>\n",
       "      <td>12.25</td>\n",
       "      <td>108.75</td>\n",
       "    </tr>\n",
       "    <tr>\n",
       "      <th>1</th>\n",
       "      <td>435.7</td>\n",
       "      <td>551</td>\n",
       "      <td>1638.0</td>\n",
       "      <td>True</td>\n",
       "      <td>25.3</td>\n",
       "      <td>114.3</td>\n",
       "      <td>17.3</td>\n",
       "      <td>33.0</td>\n",
       "      <td>Sand</td>\n",
       "      <td>0.118</td>\n",
       "      <td>4.11</td>\n",
       "      <td>0.33</td>\n",
       "    </tr>\n",
       "    <tr>\n",
       "      <th>2</th>\n",
       "      <td>37.7</td>\n",
       "      <td>788</td>\n",
       "      <td>3984.0</td>\n",
       "      <td>True</td>\n",
       "      <td>35.7</td>\n",
       "      <td>114.3</td>\n",
       "      <td>22.5</td>\n",
       "      <td>33.0</td>\n",
       "      <td>Shale</td>\n",
       "      <td>0.121</td>\n",
       "      <td>1.99</td>\n",
       "      <td>21.87</td>\n",
       "    </tr>\n",
       "    <tr>\n",
       "      <th>3</th>\n",
       "      <td>346.7</td>\n",
       "      <td>311</td>\n",
       "      <td>3809.0</td>\n",
       "      <td>True</td>\n",
       "      <td>41.7</td>\n",
       "      <td>114.3</td>\n",
       "      <td>17.3</td>\n",
       "      <td>33.0</td>\n",
       "      <td>Sand</td>\n",
       "      <td>0.170</td>\n",
       "      <td>5.84</td>\n",
       "      <td>46.30</td>\n",
       "    </tr>\n",
       "    <tr>\n",
       "      <th>4</th>\n",
       "      <td>254.6</td>\n",
       "      <td>727</td>\n",
       "      <td>2335.0</td>\n",
       "      <td>True</td>\n",
       "      <td>53.6</td>\n",
       "      <td>139.7</td>\n",
       "      <td>20.8</td>\n",
       "      <td>32.0</td>\n",
       "      <td>Sand</td>\n",
       "      <td>0.158</td>\n",
       "      <td>5.25</td>\n",
       "      <td>17.53</td>\n",
       "    </tr>\n",
       "    <tr>\n",
       "      <th>...</th>\n",
       "      <td>...</td>\n",
       "      <td>...</td>\n",
       "      <td>...</td>\n",
       "      <td>...</td>\n",
       "      <td>...</td>\n",
       "      <td>...</td>\n",
       "      <td>...</td>\n",
       "      <td>...</td>\n",
       "      <td>...</td>\n",
       "      <td>...</td>\n",
       "      <td>...</td>\n",
       "      <td>...</td>\n",
       "    </tr>\n",
       "    <tr>\n",
       "      <th>976</th>\n",
       "      <td>535.5</td>\n",
       "      <td>788</td>\n",
       "      <td>1744.0</td>\n",
       "      <td>True</td>\n",
       "      <td>71.4</td>\n",
       "      <td>139.7</td>\n",
       "      <td>20.8</td>\n",
       "      <td>28.0</td>\n",
       "      <td>Sand</td>\n",
       "      <td>0.185</td>\n",
       "      <td>2.79</td>\n",
       "      <td>1.22</td>\n",
       "    </tr>\n",
       "    <tr>\n",
       "      <th>977</th>\n",
       "      <td>92.5</td>\n",
       "      <td>767</td>\n",
       "      <td>1466.0</td>\n",
       "      <td>False</td>\n",
       "      <td>35.7</td>\n",
       "      <td>139.7</td>\n",
       "      <td>20.8</td>\n",
       "      <td>51.0</td>\n",
       "      <td>Sand</td>\n",
       "      <td>0.230</td>\n",
       "      <td>6.26</td>\n",
       "      <td>8.74</td>\n",
       "    </tr>\n",
       "    <tr>\n",
       "      <th>978</th>\n",
       "      <td>548.3</td>\n",
       "      <td>475</td>\n",
       "      <td>749.8</td>\n",
       "      <td>False</td>\n",
       "      <td>35.7</td>\n",
       "      <td>114.3</td>\n",
       "      <td>20.8</td>\n",
       "      <td>28.0</td>\n",
       "      <td>Shale</td>\n",
       "      <td>0.017</td>\n",
       "      <td>0.48</td>\n",
       "      <td>0.00</td>\n",
       "    </tr>\n",
       "    <tr>\n",
       "      <th>979</th>\n",
       "      <td>540.9</td>\n",
       "      <td>328</td>\n",
       "      <td>1346.0</td>\n",
       "      <td>True</td>\n",
       "      <td>25.3</td>\n",
       "      <td>114.3</td>\n",
       "      <td>14.1</td>\n",
       "      <td>33.0</td>\n",
       "      <td>Shale</td>\n",
       "      <td>0.111</td>\n",
       "      <td>0.59</td>\n",
       "      <td>0.00</td>\n",
       "    </tr>\n",
       "    <tr>\n",
       "      <th>980</th>\n",
       "      <td>617.8</td>\n",
       "      <td>377</td>\n",
       "      <td>844.0</td>\n",
       "      <td>False</td>\n",
       "      <td>35.7</td>\n",
       "      <td>139.7</td>\n",
       "      <td>20.8</td>\n",
       "      <td>27.0</td>\n",
       "      <td>Shale-Sand</td>\n",
       "      <td>0.292</td>\n",
       "      <td>9.95</td>\n",
       "      <td>153.43</td>\n",
       "    </tr>\n",
       "  </tbody>\n",
       "</table>\n",
       "<p>981 rows × 12 columns</p>\n",
       "</div>"
      ],
      "text/plain": [
       "     X Coordinate  Y Coordinate  Measured Depth (m)  Deviation (True/False)  \\\n",
       "0           352.6           372              2145.8                   False   \n",
       "1           435.7           551              1638.0                    True   \n",
       "2            37.7           788              3984.0                    True   \n",
       "3           346.7           311              3809.0                    True   \n",
       "4           254.6           727              2335.0                    True   \n",
       "..            ...           ...                 ...                     ...   \n",
       "976         535.5           788              1744.0                    True   \n",
       "977          92.5           767              1466.0                   False   \n",
       "978         548.3           475               749.8                   False   \n",
       "979         540.9           328              1346.0                    True   \n",
       "980         617.8           377               844.0                   False   \n",
       "\n",
       "     Surface-Casing Weight (kg/m)  Production-Casing Size (mm)  \\\n",
       "0                            35.7                        114.3   \n",
       "1                            25.3                        114.3   \n",
       "2                            35.7                        114.3   \n",
       "3                            41.7                        114.3   \n",
       "4                            53.6                        139.7   \n",
       "..                            ...                          ...   \n",
       "976                          71.4                        139.7   \n",
       "977                          35.7                        139.7   \n",
       "978                          35.7                        114.3   \n",
       "979                          25.3                        114.3   \n",
       "980                          35.7                        139.7   \n",
       "\n",
       "     Production-Casing Weight (kg/m)  Bore. Temp. (degC) Prod. Formation  \\\n",
       "0                               20.8                53.0      Shale-Sand   \n",
       "1                               17.3                33.0            Sand   \n",
       "2                               22.5                33.0           Shale   \n",
       "3                               17.3                33.0            Sand   \n",
       "4                               20.8                32.0            Sand   \n",
       "..                               ...                 ...             ...   \n",
       "976                             20.8                28.0            Sand   \n",
       "977                             20.8                51.0            Sand   \n",
       "978                             20.8                28.0           Shale   \n",
       "979                             14.1                33.0           Shale   \n",
       "980                             20.8                27.0      Shale-Sand   \n",
       "\n",
       "     Porosity (fraction)  Permeability (Darcy)  OIL Prod. (e3m3/month)  \n",
       "0                  0.224                 12.25                  108.75  \n",
       "1                  0.118                  4.11                    0.33  \n",
       "2                  0.121                  1.99                   21.87  \n",
       "3                  0.170                  5.84                   46.30  \n",
       "4                  0.158                  5.25                   17.53  \n",
       "..                   ...                   ...                     ...  \n",
       "976                0.185                  2.79                    1.22  \n",
       "977                0.230                  6.26                    8.74  \n",
       "978                0.017                  0.48                    0.00  \n",
       "979                0.111                  0.59                    0.00  \n",
       "980                0.292                  9.95                  153.43  \n",
       "\n",
       "[981 rows x 12 columns]"
      ]
     },
     "execution_count": 98,
     "metadata": {},
     "output_type": "execute_result"
    }
   ],
   "source": [
    "# Drop outliers in last column 'OIL Prod. (e3m3/month)'\n",
    "df_im_out=df_im.copy()\n",
    "outlier_remove(df_im_out,n=3,name='OIL Prod. (e3m3/month)')\n",
    "df_im_out"
   ]
  },
  {
   "cell_type": "markdown",
   "metadata": {},
   "source": [
    "### Concatenation \n",
    "\n",
    "A new data frames can be built by concatenating rows and columns. A new dataframe is created by concatenating two columns together 'Measured Depth (m)' and 'OIL Prod. (e3m3/month)' using the **concat()** function."
   ]
  },
  {
   "cell_type": "code",
   "execution_count": 99,
   "metadata": {},
   "outputs": [
    {
     "data": {
      "text/html": [
       "<div>\n",
       "<style scoped>\n",
       "    .dataframe tbody tr th:only-of-type {\n",
       "        vertical-align: middle;\n",
       "    }\n",
       "\n",
       "    .dataframe tbody tr th {\n",
       "        vertical-align: top;\n",
       "    }\n",
       "\n",
       "    .dataframe thead th {\n",
       "        text-align: right;\n",
       "    }\n",
       "</style>\n",
       "<table border=\"1\" class=\"dataframe\">\n",
       "  <thead>\n",
       "    <tr style=\"text-align: right;\">\n",
       "      <th></th>\n",
       "      <th>Measured Depth (m)</th>\n",
       "      <th>OIL Prod. (e3m3/month)</th>\n",
       "    </tr>\n",
       "  </thead>\n",
       "  <tbody>\n",
       "    <tr>\n",
       "      <th>0</th>\n",
       "      <td>2145.8</td>\n",
       "      <td>108.75</td>\n",
       "    </tr>\n",
       "    <tr>\n",
       "      <th>1</th>\n",
       "      <td>1638.0</td>\n",
       "      <td>0.33</td>\n",
       "    </tr>\n",
       "    <tr>\n",
       "      <th>2</th>\n",
       "      <td>3984.0</td>\n",
       "      <td>21.87</td>\n",
       "    </tr>\n",
       "    <tr>\n",
       "      <th>3</th>\n",
       "      <td>3809.0</td>\n",
       "      <td>46.30</td>\n",
       "    </tr>\n",
       "    <tr>\n",
       "      <th>4</th>\n",
       "      <td>2335.0</td>\n",
       "      <td>17.53</td>\n",
       "    </tr>\n",
       "    <tr>\n",
       "      <th>...</th>\n",
       "      <td>...</td>\n",
       "      <td>...</td>\n",
       "    </tr>\n",
       "    <tr>\n",
       "      <th>995</th>\n",
       "      <td>1466.0</td>\n",
       "      <td>8.74</td>\n",
       "    </tr>\n",
       "    <tr>\n",
       "      <th>996</th>\n",
       "      <td>749.8</td>\n",
       "      <td>0.00</td>\n",
       "    </tr>\n",
       "    <tr>\n",
       "      <th>997</th>\n",
       "      <td>683.7</td>\n",
       "      <td>832.45</td>\n",
       "    </tr>\n",
       "    <tr>\n",
       "      <th>998</th>\n",
       "      <td>1346.0</td>\n",
       "      <td>0.00</td>\n",
       "    </tr>\n",
       "    <tr>\n",
       "      <th>999</th>\n",
       "      <td>844.0</td>\n",
       "      <td>153.43</td>\n",
       "    </tr>\n",
       "  </tbody>\n",
       "</table>\n",
       "<p>1000 rows × 2 columns</p>\n",
       "</div>"
      ],
      "text/plain": [
       "     Measured Depth (m)  OIL Prod. (e3m3/month)\n",
       "0                2145.8                  108.75\n",
       "1                1638.0                    0.33\n",
       "2                3984.0                   21.87\n",
       "3                3809.0                   46.30\n",
       "4                2335.0                   17.53\n",
       "..                  ...                     ...\n",
       "995              1466.0                    8.74\n",
       "996               749.8                    0.00\n",
       "997               683.7                  832.45\n",
       "998              1346.0                    0.00\n",
       "999               844.0                  153.43\n",
       "\n",
       "[1000 rows x 2 columns]"
      ]
     },
     "execution_count": 99,
     "metadata": {},
     "output_type": "execute_result"
    }
   ],
   "source": [
    "col_1= df_im['Measured Depth (m)']\n",
    "col_2 = df_im['OIL Prod. (e3m3/month)']\n",
    "result = pd.concat([col_1, col_2], axis=1)\n",
    "result"
   ]
  },
  {
   "cell_type": "markdown",
   "metadata": {},
   "source": [
    "Two rows can be concatenated together using **concat()** function. The code below concatenates the first 4 rows and the last 3 rows of the previous dataset after imputation."
   ]
  },
  {
   "cell_type": "code",
   "execution_count": 100,
   "metadata": {},
   "outputs": [
    {
     "data": {
      "text/html": [
       "<div>\n",
       "<style scoped>\n",
       "    .dataframe tbody tr th:only-of-type {\n",
       "        vertical-align: middle;\n",
       "    }\n",
       "\n",
       "    .dataframe tbody tr th {\n",
       "        vertical-align: top;\n",
       "    }\n",
       "\n",
       "    .dataframe thead th {\n",
       "        text-align: right;\n",
       "    }\n",
       "</style>\n",
       "<table border=\"1\" class=\"dataframe\">\n",
       "  <thead>\n",
       "    <tr style=\"text-align: right;\">\n",
       "      <th></th>\n",
       "      <th>X Coordinate</th>\n",
       "      <th>Y Coordinate</th>\n",
       "      <th>Measured Depth (m)</th>\n",
       "      <th>Deviation (True/False)</th>\n",
       "      <th>Surface-Casing Weight (kg/m)</th>\n",
       "      <th>Production-Casing Size (mm)</th>\n",
       "      <th>Production-Casing Weight (kg/m)</th>\n",
       "      <th>Bore. Temp. (degC)</th>\n",
       "      <th>Prod. Formation</th>\n",
       "      <th>Porosity (fraction)</th>\n",
       "      <th>Permeability (Darcy)</th>\n",
       "      <th>OIL Prod. (e3m3/month)</th>\n",
       "    </tr>\n",
       "  </thead>\n",
       "  <tbody>\n",
       "    <tr>\n",
       "      <th>0</th>\n",
       "      <td>352.6</td>\n",
       "      <td>372</td>\n",
       "      <td>2145.8</td>\n",
       "      <td>False</td>\n",
       "      <td>35.7</td>\n",
       "      <td>114.3</td>\n",
       "      <td>20.8</td>\n",
       "      <td>53.0</td>\n",
       "      <td>Shale-Sand</td>\n",
       "      <td>0.224</td>\n",
       "      <td>12.25</td>\n",
       "      <td>108.75</td>\n",
       "    </tr>\n",
       "    <tr>\n",
       "      <th>1</th>\n",
       "      <td>435.7</td>\n",
       "      <td>551</td>\n",
       "      <td>1638.0</td>\n",
       "      <td>True</td>\n",
       "      <td>25.3</td>\n",
       "      <td>114.3</td>\n",
       "      <td>17.3</td>\n",
       "      <td>33.0</td>\n",
       "      <td>Sand</td>\n",
       "      <td>0.118</td>\n",
       "      <td>4.11</td>\n",
       "      <td>0.33</td>\n",
       "    </tr>\n",
       "    <tr>\n",
       "      <th>2</th>\n",
       "      <td>37.7</td>\n",
       "      <td>788</td>\n",
       "      <td>3984.0</td>\n",
       "      <td>True</td>\n",
       "      <td>35.7</td>\n",
       "      <td>114.3</td>\n",
       "      <td>22.5</td>\n",
       "      <td>33.0</td>\n",
       "      <td>Shale</td>\n",
       "      <td>0.121</td>\n",
       "      <td>1.99</td>\n",
       "      <td>21.87</td>\n",
       "    </tr>\n",
       "    <tr>\n",
       "      <th>3</th>\n",
       "      <td>346.7</td>\n",
       "      <td>311</td>\n",
       "      <td>3809.0</td>\n",
       "      <td>True</td>\n",
       "      <td>41.7</td>\n",
       "      <td>114.3</td>\n",
       "      <td>17.3</td>\n",
       "      <td>33.0</td>\n",
       "      <td>Sand</td>\n",
       "      <td>0.170</td>\n",
       "      <td>5.84</td>\n",
       "      <td>46.30</td>\n",
       "    </tr>\n",
       "    <tr>\n",
       "      <th>996</th>\n",
       "      <td>548.3</td>\n",
       "      <td>475</td>\n",
       "      <td>749.8</td>\n",
       "      <td>False</td>\n",
       "      <td>35.7</td>\n",
       "      <td>114.3</td>\n",
       "      <td>20.8</td>\n",
       "      <td>28.0</td>\n",
       "      <td>Shale</td>\n",
       "      <td>0.017</td>\n",
       "      <td>0.48</td>\n",
       "      <td>0.00</td>\n",
       "    </tr>\n",
       "    <tr>\n",
       "      <th>997</th>\n",
       "      <td>593.4</td>\n",
       "      <td>456</td>\n",
       "      <td>683.7</td>\n",
       "      <td>False</td>\n",
       "      <td>35.7</td>\n",
       "      <td>177.8</td>\n",
       "      <td>20.8</td>\n",
       "      <td>26.0</td>\n",
       "      <td>Shale-Sand</td>\n",
       "      <td>0.332</td>\n",
       "      <td>49.75</td>\n",
       "      <td>832.45</td>\n",
       "    </tr>\n",
       "    <tr>\n",
       "      <th>998</th>\n",
       "      <td>540.9</td>\n",
       "      <td>328</td>\n",
       "      <td>1346.0</td>\n",
       "      <td>True</td>\n",
       "      <td>25.3</td>\n",
       "      <td>114.3</td>\n",
       "      <td>14.1</td>\n",
       "      <td>33.0</td>\n",
       "      <td>Shale</td>\n",
       "      <td>0.111</td>\n",
       "      <td>0.59</td>\n",
       "      <td>0.00</td>\n",
       "    </tr>\n",
       "  </tbody>\n",
       "</table>\n",
       "</div>"
      ],
      "text/plain": [
       "     X Coordinate  Y Coordinate  Measured Depth (m)  Deviation (True/False)  \\\n",
       "0           352.6           372              2145.8                   False   \n",
       "1           435.7           551              1638.0                    True   \n",
       "2            37.7           788              3984.0                    True   \n",
       "3           346.7           311              3809.0                    True   \n",
       "996         548.3           475               749.8                   False   \n",
       "997         593.4           456               683.7                   False   \n",
       "998         540.9           328              1346.0                    True   \n",
       "\n",
       "     Surface-Casing Weight (kg/m)  Production-Casing Size (mm)  \\\n",
       "0                            35.7                        114.3   \n",
       "1                            25.3                        114.3   \n",
       "2                            35.7                        114.3   \n",
       "3                            41.7                        114.3   \n",
       "996                          35.7                        114.3   \n",
       "997                          35.7                        177.8   \n",
       "998                          25.3                        114.3   \n",
       "\n",
       "     Production-Casing Weight (kg/m)  Bore. Temp. (degC) Prod. Formation  \\\n",
       "0                               20.8                53.0      Shale-Sand   \n",
       "1                               17.3                33.0            Sand   \n",
       "2                               22.5                33.0           Shale   \n",
       "3                               17.3                33.0            Sand   \n",
       "996                             20.8                28.0           Shale   \n",
       "997                             20.8                26.0      Shale-Sand   \n",
       "998                             14.1                33.0           Shale   \n",
       "\n",
       "     Porosity (fraction)  Permeability (Darcy)  OIL Prod. (e3m3/month)  \n",
       "0                  0.224                 12.25                  108.75  \n",
       "1                  0.118                  4.11                    0.33  \n",
       "2                  0.121                  1.99                   21.87  \n",
       "3                  0.170                  5.84                   46.30  \n",
       "996                0.017                  0.48                    0.00  \n",
       "997                0.332                 49.75                  832.45  \n",
       "998                0.111                  0.59                    0.00  "
      ]
     },
     "execution_count": 100,
     "metadata": {},
     "output_type": "execute_result"
    }
   ],
   "source": [
    "row_1= df_im[0:4]  # Retrieve first 4 rows\n",
    "row_2 = df_im[-4:-1]  # Retrieve last 3 rows\n",
    "result = pd.concat([row_1, row_2], axis=0) # Concatenate rows\n",
    "result"
   ]
  },
  {
   "cell_type": "markdown",
   "metadata": {},
   "source": [
    "### Saving a Dataframe as CSV\n",
    "\n",
    "You can simply save a dataframe as CSV by the following code.  The following code performs a shuffle and then saves a new copy."
   ]
  },
  {
   "cell_type": "code",
   "execution_count": 101,
   "metadata": {},
   "outputs": [],
   "source": [
    "filename=\"myfile.csv\"\n",
    "df_im.to_csv(filename, index=False) # index = False not writing row numbers"
   ]
  },
  {
   "cell_type": "markdown",
   "metadata": {},
   "source": [
    "## Shuffling, Grouping and Sorting"
   ]
  },
  {
   "cell_type": "markdown",
   "metadata": {},
   "source": [
    "**Shuffling Dataset**\n",
    "\n",
    "An example of shuffling is playing the game of cards. All the cards are collected at the end of each round of play, shuffled to ensure that cards are distributed randomly and each player receives cards based on chance. In Machine Learning, the data set should be split into training and validation datasets. So, shuffling is very important to avoid any element of bias/patterns in the split datasets.\n",
    "\n",
    "If consistent shuffling of the data set is required for several times of running the code, a random seed can be used. See code below."
   ]
  },
  {
   "cell_type": "code",
   "execution_count": 102,
   "metadata": {},
   "outputs": [
    {
     "data": {
      "text/html": [
       "<div>\n",
       "<style scoped>\n",
       "    .dataframe tbody tr th:only-of-type {\n",
       "        vertical-align: middle;\n",
       "    }\n",
       "\n",
       "    .dataframe tbody tr th {\n",
       "        vertical-align: top;\n",
       "    }\n",
       "\n",
       "    .dataframe thead th {\n",
       "        text-align: right;\n",
       "    }\n",
       "</style>\n",
       "<table border=\"1\" class=\"dataframe\">\n",
       "  <thead>\n",
       "    <tr style=\"text-align: right;\">\n",
       "      <th></th>\n",
       "      <th>X Coordinate</th>\n",
       "      <th>Y Coordinate</th>\n",
       "      <th>Measured Depth (m)</th>\n",
       "      <th>Deviation (True/False)</th>\n",
       "      <th>Surface-Casing Weight (kg/m)</th>\n",
       "      <th>Production-Casing Size (mm)</th>\n",
       "      <th>Production-Casing Weight (kg/m)</th>\n",
       "      <th>Bore. Temp. (degC)</th>\n",
       "      <th>Prod. Formation</th>\n",
       "      <th>Porosity (fraction)</th>\n",
       "      <th>Permeability (Darcy)</th>\n",
       "      <th>OIL Prod. (e3m3/month)</th>\n",
       "    </tr>\n",
       "  </thead>\n",
       "  <tbody>\n",
       "    <tr>\n",
       "      <th>0</th>\n",
       "      <td>590.6</td>\n",
       "      <td>595</td>\n",
       "      <td>615.0</td>\n",
       "      <td>True</td>\n",
       "      <td>48.1</td>\n",
       "      <td>177.8</td>\n",
       "      <td>25.3</td>\n",
       "      <td>10.0</td>\n",
       "      <td>Shale-Sand</td>\n",
       "      <td>0.150</td>\n",
       "      <td>3.95</td>\n",
       "      <td>21.82</td>\n",
       "    </tr>\n",
       "    <tr>\n",
       "      <th>1</th>\n",
       "      <td>578.6</td>\n",
       "      <td>388</td>\n",
       "      <td>898.6</td>\n",
       "      <td>False</td>\n",
       "      <td>35.7</td>\n",
       "      <td>114.3</td>\n",
       "      <td>20.8</td>\n",
       "      <td>34.0</td>\n",
       "      <td>Shale</td>\n",
       "      <td>0.143</td>\n",
       "      <td>3.67</td>\n",
       "      <td>0.00</td>\n",
       "    </tr>\n",
       "    <tr>\n",
       "      <th>2</th>\n",
       "      <td>124.8</td>\n",
       "      <td>1093</td>\n",
       "      <td>1720.9</td>\n",
       "      <td>False</td>\n",
       "      <td>35.7</td>\n",
       "      <td>177.8</td>\n",
       "      <td>20.8</td>\n",
       "      <td>73.0</td>\n",
       "      <td>Shale-Sand</td>\n",
       "      <td>0.159</td>\n",
       "      <td>1.48</td>\n",
       "      <td>5.85</td>\n",
       "    </tr>\n",
       "    <tr>\n",
       "      <th>3</th>\n",
       "      <td>613.6</td>\n",
       "      <td>458</td>\n",
       "      <td>875.5</td>\n",
       "      <td>True</td>\n",
       "      <td>35.7</td>\n",
       "      <td>139.7</td>\n",
       "      <td>20.8</td>\n",
       "      <td>29.0</td>\n",
       "      <td>Shale</td>\n",
       "      <td>0.020</td>\n",
       "      <td>0.53</td>\n",
       "      <td>0.00</td>\n",
       "    </tr>\n",
       "    <tr>\n",
       "      <th>4</th>\n",
       "      <td>100.4</td>\n",
       "      <td>1075</td>\n",
       "      <td>1925.0</td>\n",
       "      <td>True</td>\n",
       "      <td>53.6</td>\n",
       "      <td>139.7</td>\n",
       "      <td>20.8</td>\n",
       "      <td>65.0</td>\n",
       "      <td>Sand</td>\n",
       "      <td>0.245</td>\n",
       "      <td>47.24</td>\n",
       "      <td>434.80</td>\n",
       "    </tr>\n",
       "  </tbody>\n",
       "</table>\n",
       "</div>"
      ],
      "text/plain": [
       "   X Coordinate  Y Coordinate  Measured Depth (m)  Deviation (True/False)  \\\n",
       "0         590.6           595               615.0                    True   \n",
       "1         578.6           388               898.6                   False   \n",
       "2         124.8          1093              1720.9                   False   \n",
       "3         613.6           458               875.5                    True   \n",
       "4         100.4          1075              1925.0                    True   \n",
       "\n",
       "   Surface-Casing Weight (kg/m)  Production-Casing Size (mm)  \\\n",
       "0                          48.1                        177.8   \n",
       "1                          35.7                        114.3   \n",
       "2                          35.7                        177.8   \n",
       "3                          35.7                        139.7   \n",
       "4                          53.6                        139.7   \n",
       "\n",
       "   Production-Casing Weight (kg/m)  Bore. Temp. (degC) Prod. Formation  \\\n",
       "0                             25.3                10.0      Shale-Sand   \n",
       "1                             20.8                34.0           Shale   \n",
       "2                             20.8                73.0      Shale-Sand   \n",
       "3                             20.8                29.0           Shale   \n",
       "4                             20.8                65.0            Sand   \n",
       "\n",
       "   Porosity (fraction)  Permeability (Darcy)  OIL Prod. (e3m3/month)  \n",
       "0                0.150                  3.95                   21.82  \n",
       "1                0.143                  3.67                    0.00  \n",
       "2                0.159                  1.48                    5.85  \n",
       "3                0.020                  0.53                    0.00  \n",
       "4                0.245                 47.24                  434.80  "
      ]
     },
     "execution_count": 102,
     "metadata": {},
     "output_type": "execute_result"
    }
   ],
   "source": [
    "import numpy as np\n",
    "\n",
    "#np.random.seed(82) \n",
    "df_shfl = df_im.reindex(np.random.permutation(df.index)) \n",
    "df_shfl.reset_index(inplace=True, drop=True) # Reset index\n",
    "df_shfl[0:5]"
   ]
  },
  {
   "cell_type": "markdown",
   "metadata": {},
   "source": [
    "**Grouping Data Set**\n",
    "\n",
    "Grouping is applied to summarize data. The following codes performs grouping; generating the mean and sum of\n",
    "each category for feature 'Prod. Formation' in target variable 'OIL Prod. (e3m3/month)'. "
   ]
  },
  {
   "cell_type": "code",
   "execution_count": 103,
   "metadata": {},
   "outputs": [
    {
     "data": {
      "text/plain": [
       "Prod. Formation\n",
       "Sand          64.015467\n",
       "Shale         59.502943\n",
       "Shale-Sand    54.482824\n",
       "Name: OIL Prod. (e3m3/month), dtype: float64"
      ]
     },
     "execution_count": 103,
     "metadata": {},
     "output_type": "execute_result"
    }
   ],
   "source": [
    "gb_mean=df_im.groupby('Prod. Formation')['OIL Prod. (e3m3/month)'].mean()\n",
    "gb_mean"
   ]
  },
  {
   "cell_type": "code",
   "execution_count": 104,
   "metadata": {},
   "outputs": [
    {
     "data": {
      "text/plain": [
       "Prod. Formation\n",
       "Sand          19204.64\n",
       "Shale         31536.56\n",
       "Shale-Sand     9262.08\n",
       "Name: OIL Prod. (e3m3/month), dtype: float64"
      ]
     },
     "execution_count": 104,
     "metadata": {},
     "output_type": "execute_result"
    }
   ],
   "source": [
    "gb_sum=df_im.groupby('Prod. Formation')['OIL Prod. (e3m3/month)'].sum()\n",
    "gb_sum"
   ]
  },
  {
   "cell_type": "markdown",
   "metadata": {},
   "source": [
    "**Sorting Data Set**"
   ]
  },
  {
   "cell_type": "code",
   "execution_count": 105,
   "metadata": {},
   "outputs": [
    {
     "data": {
      "text/html": [
       "<div>\n",
       "<style scoped>\n",
       "    .dataframe tbody tr th:only-of-type {\n",
       "        vertical-align: middle;\n",
       "    }\n",
       "\n",
       "    .dataframe tbody tr th {\n",
       "        vertical-align: top;\n",
       "    }\n",
       "\n",
       "    .dataframe thead th {\n",
       "        text-align: right;\n",
       "    }\n",
       "</style>\n",
       "<table border=\"1\" class=\"dataframe\">\n",
       "  <thead>\n",
       "    <tr style=\"text-align: right;\">\n",
       "      <th></th>\n",
       "      <th>X Coordinate</th>\n",
       "      <th>Y Coordinate</th>\n",
       "      <th>Measured Depth (m)</th>\n",
       "      <th>Deviation (True/False)</th>\n",
       "      <th>Surface-Casing Weight (kg/m)</th>\n",
       "      <th>Production-Casing Size (mm)</th>\n",
       "      <th>Production-Casing Weight (kg/m)</th>\n",
       "      <th>Bore. Temp. (degC)</th>\n",
       "      <th>Prod. Formation</th>\n",
       "      <th>Porosity (fraction)</th>\n",
       "      <th>Permeability (Darcy)</th>\n",
       "      <th>OIL Prod. (e3m3/month)</th>\n",
       "    </tr>\n",
       "  </thead>\n",
       "  <tbody>\n",
       "    <tr>\n",
       "      <th>90</th>\n",
       "      <td>132.0</td>\n",
       "      <td>1104</td>\n",
       "      <td>276.0</td>\n",
       "      <td>False</td>\n",
       "      <td>25.3</td>\n",
       "      <td>114.3</td>\n",
       "      <td>14.1</td>\n",
       "      <td>25.0</td>\n",
       "      <td>Shale</td>\n",
       "      <td>0.142</td>\n",
       "      <td>1.16</td>\n",
       "      <td>0.00</td>\n",
       "    </tr>\n",
       "    <tr>\n",
       "      <th>537</th>\n",
       "      <td>72.9</td>\n",
       "      <td>784</td>\n",
       "      <td>295.5</td>\n",
       "      <td>False</td>\n",
       "      <td>25.3</td>\n",
       "      <td>114.3</td>\n",
       "      <td>14.1</td>\n",
       "      <td>22.0</td>\n",
       "      <td>Shale</td>\n",
       "      <td>0.000</td>\n",
       "      <td>0.66</td>\n",
       "      <td>0.00</td>\n",
       "    </tr>\n",
       "    <tr>\n",
       "      <th>403</th>\n",
       "      <td>591.3</td>\n",
       "      <td>791</td>\n",
       "      <td>297.0</td>\n",
       "      <td>False</td>\n",
       "      <td>25.3</td>\n",
       "      <td>114.3</td>\n",
       "      <td>14.1</td>\n",
       "      <td>26.0</td>\n",
       "      <td>Shale</td>\n",
       "      <td>0.142</td>\n",
       "      <td>13.37</td>\n",
       "      <td>72.26</td>\n",
       "    </tr>\n",
       "    <tr>\n",
       "      <th>507</th>\n",
       "      <td>621.7</td>\n",
       "      <td>593</td>\n",
       "      <td>321.0</td>\n",
       "      <td>True</td>\n",
       "      <td>53.6</td>\n",
       "      <td>177.8</td>\n",
       "      <td>34.2</td>\n",
       "      <td>33.0</td>\n",
       "      <td>Shale</td>\n",
       "      <td>0.091</td>\n",
       "      <td>1.72</td>\n",
       "      <td>0.00</td>\n",
       "    </tr>\n",
       "    <tr>\n",
       "      <th>105</th>\n",
       "      <td>631.2</td>\n",
       "      <td>583</td>\n",
       "      <td>343.2</td>\n",
       "      <td>False</td>\n",
       "      <td>56.5</td>\n",
       "      <td>139.7</td>\n",
       "      <td>20.8</td>\n",
       "      <td>33.0</td>\n",
       "      <td>Sand</td>\n",
       "      <td>0.168</td>\n",
       "      <td>3.19</td>\n",
       "      <td>19.23</td>\n",
       "    </tr>\n",
       "    <tr>\n",
       "      <th>...</th>\n",
       "      <td>...</td>\n",
       "      <td>...</td>\n",
       "      <td>...</td>\n",
       "      <td>...</td>\n",
       "      <td>...</td>\n",
       "      <td>...</td>\n",
       "      <td>...</td>\n",
       "      <td>...</td>\n",
       "      <td>...</td>\n",
       "      <td>...</td>\n",
       "      <td>...</td>\n",
       "      <td>...</td>\n",
       "    </tr>\n",
       "    <tr>\n",
       "      <th>273</th>\n",
       "      <td>179.8</td>\n",
       "      <td>628</td>\n",
       "      <td>5066.0</td>\n",
       "      <td>True</td>\n",
       "      <td>53.6</td>\n",
       "      <td>139.7</td>\n",
       "      <td>20.8</td>\n",
       "      <td>33.0</td>\n",
       "      <td>Shale</td>\n",
       "      <td>0.114</td>\n",
       "      <td>3.23</td>\n",
       "      <td>0.00</td>\n",
       "    </tr>\n",
       "    <tr>\n",
       "      <th>331</th>\n",
       "      <td>110.2</td>\n",
       "      <td>677</td>\n",
       "      <td>5116.0</td>\n",
       "      <td>True</td>\n",
       "      <td>35.7</td>\n",
       "      <td>139.7</td>\n",
       "      <td>25.3</td>\n",
       "      <td>33.0</td>\n",
       "      <td>Sand</td>\n",
       "      <td>0.000</td>\n",
       "      <td>0.13</td>\n",
       "      <td>0.00</td>\n",
       "    </tr>\n",
       "    <tr>\n",
       "      <th>951</th>\n",
       "      <td>48.6</td>\n",
       "      <td>718</td>\n",
       "      <td>5226.0</td>\n",
       "      <td>True</td>\n",
       "      <td>59.5</td>\n",
       "      <td>139.7</td>\n",
       "      <td>20.8</td>\n",
       "      <td>33.0</td>\n",
       "      <td>Shale</td>\n",
       "      <td>0.249</td>\n",
       "      <td>8.97</td>\n",
       "      <td>83.09</td>\n",
       "    </tr>\n",
       "    <tr>\n",
       "      <th>754</th>\n",
       "      <td>188.4</td>\n",
       "      <td>619</td>\n",
       "      <td>5790.0</td>\n",
       "      <td>True</td>\n",
       "      <td>53.6</td>\n",
       "      <td>114.3</td>\n",
       "      <td>22.5</td>\n",
       "      <td>33.0</td>\n",
       "      <td>Shale</td>\n",
       "      <td>0.194</td>\n",
       "      <td>4.03</td>\n",
       "      <td>0.39</td>\n",
       "    </tr>\n",
       "    <tr>\n",
       "      <th>570</th>\n",
       "      <td>343.2</td>\n",
       "      <td>383</td>\n",
       "      <td>6363.0</td>\n",
       "      <td>True</td>\n",
       "      <td>60.3</td>\n",
       "      <td>139.7</td>\n",
       "      <td>38.7</td>\n",
       "      <td>33.0</td>\n",
       "      <td>Sand</td>\n",
       "      <td>0.239</td>\n",
       "      <td>3.19</td>\n",
       "      <td>12.26</td>\n",
       "    </tr>\n",
       "  </tbody>\n",
       "</table>\n",
       "<p>1000 rows × 12 columns</p>\n",
       "</div>"
      ],
      "text/plain": [
       "     X Coordinate  Y Coordinate  Measured Depth (m)  Deviation (True/False)  \\\n",
       "90          132.0          1104               276.0                   False   \n",
       "537          72.9           784               295.5                   False   \n",
       "403         591.3           791               297.0                   False   \n",
       "507         621.7           593               321.0                    True   \n",
       "105         631.2           583               343.2                   False   \n",
       "..            ...           ...                 ...                     ...   \n",
       "273         179.8           628              5066.0                    True   \n",
       "331         110.2           677              5116.0                    True   \n",
       "951          48.6           718              5226.0                    True   \n",
       "754         188.4           619              5790.0                    True   \n",
       "570         343.2           383              6363.0                    True   \n",
       "\n",
       "     Surface-Casing Weight (kg/m)  Production-Casing Size (mm)  \\\n",
       "90                           25.3                        114.3   \n",
       "537                          25.3                        114.3   \n",
       "403                          25.3                        114.3   \n",
       "507                          53.6                        177.8   \n",
       "105                          56.5                        139.7   \n",
       "..                            ...                          ...   \n",
       "273                          53.6                        139.7   \n",
       "331                          35.7                        139.7   \n",
       "951                          59.5                        139.7   \n",
       "754                          53.6                        114.3   \n",
       "570                          60.3                        139.7   \n",
       "\n",
       "     Production-Casing Weight (kg/m)  Bore. Temp. (degC) Prod. Formation  \\\n",
       "90                              14.1                25.0           Shale   \n",
       "537                             14.1                22.0           Shale   \n",
       "403                             14.1                26.0           Shale   \n",
       "507                             34.2                33.0           Shale   \n",
       "105                             20.8                33.0            Sand   \n",
       "..                               ...                 ...             ...   \n",
       "273                             20.8                33.0           Shale   \n",
       "331                             25.3                33.0            Sand   \n",
       "951                             20.8                33.0           Shale   \n",
       "754                             22.5                33.0           Shale   \n",
       "570                             38.7                33.0            Sand   \n",
       "\n",
       "     Porosity (fraction)  Permeability (Darcy)  OIL Prod. (e3m3/month)  \n",
       "90                 0.142                  1.16                    0.00  \n",
       "537                0.000                  0.66                    0.00  \n",
       "403                0.142                 13.37                   72.26  \n",
       "507                0.091                  1.72                    0.00  \n",
       "105                0.168                  3.19                   19.23  \n",
       "..                   ...                   ...                     ...  \n",
       "273                0.114                  3.23                    0.00  \n",
       "331                0.000                  0.13                    0.00  \n",
       "951                0.249                  8.97                   83.09  \n",
       "754                0.194                  4.03                    0.39  \n",
       "570                0.239                  3.19                   12.26  \n",
       "\n",
       "[1000 rows x 12 columns]"
      ]
     },
     "execution_count": 105,
     "metadata": {},
     "output_type": "execute_result"
    }
   ],
   "source": [
    "df_sort = df_im.sort_values(by='Measured Depth (m)', ascending=True)\n",
    "#df_sort.reset_index(inplace=True, drop=True) # Reset index\n",
    "df_sort"
   ]
  },
  {
   "cell_type": "markdown",
   "metadata": {},
   "source": [
    "## Feature Engineering\n",
    "\n",
    "Feature engineering is the process of extracting new feature from raw data via data mining techniques. The new features can be used to enhance the performance of machine learning algorithms. New features could also be calculated from the other fields. For the data set WPD.csv, we can add \"Surface-Casing Weight (kg/m)\" and \"Production-Casing Weight (kg/m)\" as a new data set."
   ]
  },
  {
   "cell_type": "code",
   "execution_count": 106,
   "metadata": {},
   "outputs": [
    {
     "data": {
      "text/html": [
       "<div>\n",
       "<style scoped>\n",
       "    .dataframe tbody tr th:only-of-type {\n",
       "        vertical-align: middle;\n",
       "    }\n",
       "\n",
       "    .dataframe tbody tr th {\n",
       "        vertical-align: top;\n",
       "    }\n",
       "\n",
       "    .dataframe thead th {\n",
       "        text-align: right;\n",
       "    }\n",
       "</style>\n",
       "<table border=\"1\" class=\"dataframe\">\n",
       "  <thead>\n",
       "    <tr style=\"text-align: right;\">\n",
       "      <th></th>\n",
       "      <th>X Coordinate</th>\n",
       "      <th>New Column</th>\n",
       "      <th>Y Coordinate</th>\n",
       "      <th>Measured Depth (m)</th>\n",
       "      <th>Deviation (True/False)</th>\n",
       "      <th>Surface-Casing Weight (kg/m)</th>\n",
       "      <th>Production-Casing Size (mm)</th>\n",
       "      <th>Production-Casing Weight (kg/m)</th>\n",
       "      <th>Bore. Temp. (degC)</th>\n",
       "      <th>Prod. Formation</th>\n",
       "      <th>Porosity (fraction)</th>\n",
       "      <th>Permeability (Darcy)</th>\n",
       "      <th>OIL Prod. (e3m3/month)</th>\n",
       "    </tr>\n",
       "  </thead>\n",
       "  <tbody>\n",
       "    <tr>\n",
       "      <th>0</th>\n",
       "      <td>352.6</td>\n",
       "      <td>742</td>\n",
       "      <td>372</td>\n",
       "      <td>2145.8</td>\n",
       "      <td>False</td>\n",
       "      <td>35.7</td>\n",
       "      <td>114.3</td>\n",
       "      <td>20.8</td>\n",
       "      <td>53.0</td>\n",
       "      <td>Shale-Sand</td>\n",
       "      <td>0.224</td>\n",
       "      <td>12.25</td>\n",
       "      <td>108.75</td>\n",
       "    </tr>\n",
       "    <tr>\n",
       "      <th>1</th>\n",
       "      <td>435.7</td>\n",
       "      <td>437</td>\n",
       "      <td>551</td>\n",
       "      <td>1638.0</td>\n",
       "      <td>True</td>\n",
       "      <td>25.3</td>\n",
       "      <td>114.3</td>\n",
       "      <td>17.3</td>\n",
       "      <td>33.0</td>\n",
       "      <td>Sand</td>\n",
       "      <td>0.118</td>\n",
       "      <td>4.11</td>\n",
       "      <td>0.33</td>\n",
       "    </tr>\n",
       "    <tr>\n",
       "      <th>2</th>\n",
       "      <td>37.7</td>\n",
       "      <td>803</td>\n",
       "      <td>788</td>\n",
       "      <td>3984.0</td>\n",
       "      <td>True</td>\n",
       "      <td>35.7</td>\n",
       "      <td>114.3</td>\n",
       "      <td>22.5</td>\n",
       "      <td>33.0</td>\n",
       "      <td>Shale</td>\n",
       "      <td>0.121</td>\n",
       "      <td>1.99</td>\n",
       "      <td>21.87</td>\n",
       "    </tr>\n",
       "    <tr>\n",
       "      <th>3</th>\n",
       "      <td>346.7</td>\n",
       "      <td>721</td>\n",
       "      <td>311</td>\n",
       "      <td>3809.0</td>\n",
       "      <td>True</td>\n",
       "      <td>41.7</td>\n",
       "      <td>114.3</td>\n",
       "      <td>17.3</td>\n",
       "      <td>33.0</td>\n",
       "      <td>Sand</td>\n",
       "      <td>0.170</td>\n",
       "      <td>5.84</td>\n",
       "      <td>46.30</td>\n",
       "    </tr>\n",
       "    <tr>\n",
       "      <th>4</th>\n",
       "      <td>254.6</td>\n",
       "      <td>1114</td>\n",
       "      <td>727</td>\n",
       "      <td>2335.0</td>\n",
       "      <td>True</td>\n",
       "      <td>53.6</td>\n",
       "      <td>139.7</td>\n",
       "      <td>20.8</td>\n",
       "      <td>32.0</td>\n",
       "      <td>Sand</td>\n",
       "      <td>0.158</td>\n",
       "      <td>5.25</td>\n",
       "      <td>17.53</td>\n",
       "    </tr>\n",
       "    <tr>\n",
       "      <th>...</th>\n",
       "      <td>...</td>\n",
       "      <td>...</td>\n",
       "      <td>...</td>\n",
       "      <td>...</td>\n",
       "      <td>...</td>\n",
       "      <td>...</td>\n",
       "      <td>...</td>\n",
       "      <td>...</td>\n",
       "      <td>...</td>\n",
       "      <td>...</td>\n",
       "      <td>...</td>\n",
       "      <td>...</td>\n",
       "      <td>...</td>\n",
       "    </tr>\n",
       "    <tr>\n",
       "      <th>995</th>\n",
       "      <td>92.5</td>\n",
       "      <td>742</td>\n",
       "      <td>767</td>\n",
       "      <td>1466.0</td>\n",
       "      <td>False</td>\n",
       "      <td>35.7</td>\n",
       "      <td>139.7</td>\n",
       "      <td>20.8</td>\n",
       "      <td>51.0</td>\n",
       "      <td>Sand</td>\n",
       "      <td>0.230</td>\n",
       "      <td>6.26</td>\n",
       "      <td>8.74</td>\n",
       "    </tr>\n",
       "    <tr>\n",
       "      <th>996</th>\n",
       "      <td>548.3</td>\n",
       "      <td>742</td>\n",
       "      <td>475</td>\n",
       "      <td>749.8</td>\n",
       "      <td>False</td>\n",
       "      <td>35.7</td>\n",
       "      <td>114.3</td>\n",
       "      <td>20.8</td>\n",
       "      <td>28.0</td>\n",
       "      <td>Shale</td>\n",
       "      <td>0.017</td>\n",
       "      <td>0.48</td>\n",
       "      <td>0.00</td>\n",
       "    </tr>\n",
       "    <tr>\n",
       "      <th>997</th>\n",
       "      <td>593.4</td>\n",
       "      <td>742</td>\n",
       "      <td>456</td>\n",
       "      <td>683.7</td>\n",
       "      <td>False</td>\n",
       "      <td>35.7</td>\n",
       "      <td>177.8</td>\n",
       "      <td>20.8</td>\n",
       "      <td>26.0</td>\n",
       "      <td>Shale-Sand</td>\n",
       "      <td>0.332</td>\n",
       "      <td>49.75</td>\n",
       "      <td>832.45</td>\n",
       "    </tr>\n",
       "    <tr>\n",
       "      <th>998</th>\n",
       "      <td>540.9</td>\n",
       "      <td>356</td>\n",
       "      <td>328</td>\n",
       "      <td>1346.0</td>\n",
       "      <td>True</td>\n",
       "      <td>25.3</td>\n",
       "      <td>114.3</td>\n",
       "      <td>14.1</td>\n",
       "      <td>33.0</td>\n",
       "      <td>Shale</td>\n",
       "      <td>0.111</td>\n",
       "      <td>0.59</td>\n",
       "      <td>0.00</td>\n",
       "    </tr>\n",
       "    <tr>\n",
       "      <th>999</th>\n",
       "      <td>617.8</td>\n",
       "      <td>742</td>\n",
       "      <td>377</td>\n",
       "      <td>844.0</td>\n",
       "      <td>False</td>\n",
       "      <td>35.7</td>\n",
       "      <td>139.7</td>\n",
       "      <td>20.8</td>\n",
       "      <td>27.0</td>\n",
       "      <td>Shale-Sand</td>\n",
       "      <td>0.292</td>\n",
       "      <td>9.95</td>\n",
       "      <td>153.43</td>\n",
       "    </tr>\n",
       "  </tbody>\n",
       "</table>\n",
       "<p>1000 rows × 13 columns</p>\n",
       "</div>"
      ],
      "text/plain": [
       "     X Coordinate  New Column  Y Coordinate  Measured Depth (m)  \\\n",
       "0           352.6         742           372              2145.8   \n",
       "1           435.7         437           551              1638.0   \n",
       "2            37.7         803           788              3984.0   \n",
       "3           346.7         721           311              3809.0   \n",
       "4           254.6        1114           727              2335.0   \n",
       "..            ...         ...           ...                 ...   \n",
       "995          92.5         742           767              1466.0   \n",
       "996         548.3         742           475               749.8   \n",
       "997         593.4         742           456               683.7   \n",
       "998         540.9         356           328              1346.0   \n",
       "999         617.8         742           377               844.0   \n",
       "\n",
       "     Deviation (True/False)  Surface-Casing Weight (kg/m)  \\\n",
       "0                     False                          35.7   \n",
       "1                      True                          25.3   \n",
       "2                      True                          35.7   \n",
       "3                      True                          41.7   \n",
       "4                      True                          53.6   \n",
       "..                      ...                           ...   \n",
       "995                   False                          35.7   \n",
       "996                   False                          35.7   \n",
       "997                   False                          35.7   \n",
       "998                    True                          25.3   \n",
       "999                   False                          35.7   \n",
       "\n",
       "     Production-Casing Size (mm)  Production-Casing Weight (kg/m)  \\\n",
       "0                          114.3                             20.8   \n",
       "1                          114.3                             17.3   \n",
       "2                          114.3                             22.5   \n",
       "3                          114.3                             17.3   \n",
       "4                          139.7                             20.8   \n",
       "..                           ...                              ...   \n",
       "995                        139.7                             20.8   \n",
       "996                        114.3                             20.8   \n",
       "997                        177.8                             20.8   \n",
       "998                        114.3                             14.1   \n",
       "999                        139.7                             20.8   \n",
       "\n",
       "     Bore. Temp. (degC) Prod. Formation  Porosity (fraction)  \\\n",
       "0                  53.0      Shale-Sand                0.224   \n",
       "1                  33.0            Sand                0.118   \n",
       "2                  33.0           Shale                0.121   \n",
       "3                  33.0            Sand                0.170   \n",
       "4                  32.0            Sand                0.158   \n",
       "..                  ...             ...                  ...   \n",
       "995                51.0            Sand                0.230   \n",
       "996                28.0           Shale                0.017   \n",
       "997                26.0      Shale-Sand                0.332   \n",
       "998                33.0           Shale                0.111   \n",
       "999                27.0      Shale-Sand                0.292   \n",
       "\n",
       "     Permeability (Darcy)  OIL Prod. (e3m3/month)  \n",
       "0                   12.25                  108.75  \n",
       "1                    4.11                    0.33  \n",
       "2                    1.99                   21.87  \n",
       "3                    5.84                   46.30  \n",
       "4                    5.25                   17.53  \n",
       "..                    ...                     ...  \n",
       "995                  6.26                    8.74  \n",
       "996                  0.48                    0.00  \n",
       "997                 49.75                  832.45  \n",
       "998                  0.59                    0.00  \n",
       "999                  9.95                  153.43  \n",
       "\n",
       "[1000 rows x 13 columns]"
      ]
     },
     "execution_count": 106,
     "metadata": {},
     "output_type": "execute_result"
    }
   ],
   "source": [
    "df_im_c=df_im.copy()\n",
    "df_im.insert(1, 'New Column', (df_im['Surface-Casing Weight (kg/m)']*df_im['Production-Casing Weight (kg/m)']).astype(int))\n",
    "df_im"
   ]
  },
  {
   "cell_type": "markdown",
   "metadata": {},
   "source": [
    "## Standardize (Normalize) Values\n",
    "\n",
    "Most Machine Learning algorithms require to standardize the input to have a reliable comparison between two values of different variables. For example, if you have variable one with a range of 3 to 1000 and variable two with range 1 to 3; we cannot have a good comparison since the highest value of variable two (3) is the lowest value in variable two. This inconsistency in data values leads to low performance in Machine Learning algorithms. So, it is highly recommended to standardize (normalize) your data to have the same the mean($\\mu$) and the standard deviation ($\\sigma$) before feeding Machine Learning algorithms. One very common Machine learning standardization (normalization) is the Z-Score:\n",
    "\n",
    "$\\Large z = \\frac{x - \\mu}{\\sigma} $ \n",
    "\n",
    "where $ \\mu = \\frac{1}{n} \\sum_{i=1}^n x_i$, $\\sigma = \\sqrt{\\frac{1}{n} \\sum_{i=1}^n (x_i - \\mu)^2}$, $n$ is number of data. This ensures that each variable have $\\mu=0$ and $\\sigma=1$\n",
    "\n",
    "This standardization should be applied for all features **except the target (label)**. For WPD.csv data set, the target is \"OIL Prod. (e3m3/month)\" that should not be changed. \n",
    "\n",
    "The following Python code replaces the 'Measured Depth (m)' with a z-score. This can be done for all variables."
   ]
  },
  {
   "cell_type": "code",
   "execution_count": 107,
   "metadata": {},
   "outputs": [
    {
     "name": "stdout",
     "output_type": "stream",
     "text": [
      "Before standardization: Mean=  1364 , variance=  732108\n",
      "After standardization: Mean=  0 , variance=  1\n"
     ]
    }
   ],
   "source": [
    "from scipy.stats import zscore\n",
    "\n",
    "mean=df_im['Measured Depth (m)'].mean()\n",
    "variance=df_im['Measured Depth (m)'].var()\n",
    "print(\"Before standardization: Mean= \",int(mean), \", variance= \",int(variance))\n",
    "\n",
    "df_im['Measured Depth (m)'] = zscore(df_im['Measured Depth (m)'])\n",
    "\n",
    "mean=df_im['Measured Depth (m)'].mean()\n",
    "variance=df_im['Measured Depth (m)'].var()\n",
    "print(\"After standardization: Mean= \",int(mean), \", variance= \",int(variance))"
   ]
  },
  {
   "cell_type": "code",
   "execution_count": 108,
   "metadata": {
    "scrolled": true
   },
   "outputs": [
    {
     "data": {
      "text/html": [
       "<div>\n",
       "<style scoped>\n",
       "    .dataframe tbody tr th:only-of-type {\n",
       "        vertical-align: middle;\n",
       "    }\n",
       "\n",
       "    .dataframe tbody tr th {\n",
       "        vertical-align: top;\n",
       "    }\n",
       "\n",
       "    .dataframe thead th {\n",
       "        text-align: right;\n",
       "    }\n",
       "</style>\n",
       "<table border=\"1\" class=\"dataframe\">\n",
       "  <thead>\n",
       "    <tr style=\"text-align: right;\">\n",
       "      <th></th>\n",
       "      <th>X Coordinate</th>\n",
       "      <th>New Column</th>\n",
       "      <th>Y Coordinate</th>\n",
       "      <th>Measured Depth (m)</th>\n",
       "      <th>Deviation (True/False)</th>\n",
       "      <th>Surface-Casing Weight (kg/m)</th>\n",
       "      <th>Production-Casing Size (mm)</th>\n",
       "      <th>Production-Casing Weight (kg/m)</th>\n",
       "      <th>Bore. Temp. (degC)</th>\n",
       "      <th>Prod. Formation</th>\n",
       "      <th>Porosity (fraction)</th>\n",
       "      <th>Permeability (Darcy)</th>\n",
       "      <th>OIL Prod. (e3m3/month)</th>\n",
       "    </tr>\n",
       "  </thead>\n",
       "  <tbody>\n",
       "    <tr>\n",
       "      <th>0</th>\n",
       "      <td>352.6</td>\n",
       "      <td>742</td>\n",
       "      <td>372</td>\n",
       "      <td>0.913723</td>\n",
       "      <td>False</td>\n",
       "      <td>35.7</td>\n",
       "      <td>114.3</td>\n",
       "      <td>20.8</td>\n",
       "      <td>53.0</td>\n",
       "      <td>Shale-Sand</td>\n",
       "      <td>0.224</td>\n",
       "      <td>12.25</td>\n",
       "      <td>108.75</td>\n",
       "    </tr>\n",
       "    <tr>\n",
       "      <th>1</th>\n",
       "      <td>435.7</td>\n",
       "      <td>437</td>\n",
       "      <td>551</td>\n",
       "      <td>0.319947</td>\n",
       "      <td>True</td>\n",
       "      <td>25.3</td>\n",
       "      <td>114.3</td>\n",
       "      <td>17.3</td>\n",
       "      <td>33.0</td>\n",
       "      <td>Sand</td>\n",
       "      <td>0.118</td>\n",
       "      <td>4.11</td>\n",
       "      <td>0.33</td>\n",
       "    </tr>\n",
       "    <tr>\n",
       "      <th>2</th>\n",
       "      <td>37.7</td>\n",
       "      <td>803</td>\n",
       "      <td>788</td>\n",
       "      <td>3.063147</td>\n",
       "      <td>True</td>\n",
       "      <td>35.7</td>\n",
       "      <td>114.3</td>\n",
       "      <td>22.5</td>\n",
       "      <td>33.0</td>\n",
       "      <td>Shale</td>\n",
       "      <td>0.121</td>\n",
       "      <td>1.99</td>\n",
       "      <td>21.87</td>\n",
       "    </tr>\n",
       "    <tr>\n",
       "      <th>3</th>\n",
       "      <td>346.7</td>\n",
       "      <td>721</td>\n",
       "      <td>311</td>\n",
       "      <td>2.858518</td>\n",
       "      <td>True</td>\n",
       "      <td>41.7</td>\n",
       "      <td>114.3</td>\n",
       "      <td>17.3</td>\n",
       "      <td>33.0</td>\n",
       "      <td>Sand</td>\n",
       "      <td>0.170</td>\n",
       "      <td>5.84</td>\n",
       "      <td>46.30</td>\n",
       "    </tr>\n",
       "    <tr>\n",
       "      <th>4</th>\n",
       "      <td>254.6</td>\n",
       "      <td>1114</td>\n",
       "      <td>727</td>\n",
       "      <td>1.134956</td>\n",
       "      <td>True</td>\n",
       "      <td>53.6</td>\n",
       "      <td>139.7</td>\n",
       "      <td>20.8</td>\n",
       "      <td>32.0</td>\n",
       "      <td>Sand</td>\n",
       "      <td>0.158</td>\n",
       "      <td>5.25</td>\n",
       "      <td>17.53</td>\n",
       "    </tr>\n",
       "  </tbody>\n",
       "</table>\n",
       "</div>"
      ],
      "text/plain": [
       "   X Coordinate  New Column  Y Coordinate  Measured Depth (m)  \\\n",
       "0         352.6         742           372            0.913723   \n",
       "1         435.7         437           551            0.319947   \n",
       "2          37.7         803           788            3.063147   \n",
       "3         346.7         721           311            2.858518   \n",
       "4         254.6        1114           727            1.134956   \n",
       "\n",
       "   Deviation (True/False)  Surface-Casing Weight (kg/m)  \\\n",
       "0                   False                          35.7   \n",
       "1                    True                          25.3   \n",
       "2                    True                          35.7   \n",
       "3                    True                          41.7   \n",
       "4                    True                          53.6   \n",
       "\n",
       "   Production-Casing Size (mm)  Production-Casing Weight (kg/m)  \\\n",
       "0                        114.3                             20.8   \n",
       "1                        114.3                             17.3   \n",
       "2                        114.3                             22.5   \n",
       "3                        114.3                             17.3   \n",
       "4                        139.7                             20.8   \n",
       "\n",
       "   Bore. Temp. (degC) Prod. Formation  Porosity (fraction)  \\\n",
       "0                53.0      Shale-Sand                0.224   \n",
       "1                33.0            Sand                0.118   \n",
       "2                33.0           Shale                0.121   \n",
       "3                33.0            Sand                0.170   \n",
       "4                32.0            Sand                0.158   \n",
       "\n",
       "   Permeability (Darcy)  OIL Prod. (e3m3/month)  \n",
       "0                 12.25                  108.75  \n",
       "1                  4.11                    0.33  \n",
       "2                  1.99                   21.87  \n",
       "3                  5.84                   46.30  \n",
       "4                  5.25                   17.53  "
      ]
     },
     "execution_count": 108,
     "metadata": {},
     "output_type": "execute_result"
    }
   ],
   "source": [
    "df_im[0:5]"
   ]
  },
  {
   "cell_type": "markdown",
   "metadata": {},
   "source": [
    "## Categorical Values\n",
    "\n",
    "The input data for Machine Learning should be completely numeric which means any text should be converted to number. In the data set **WPD.csv**, the columns 'Deviation (True/False)' and 'Prod. Formation' have categorical values. Use **value_counts()** function to find out what categories exist and how many data belong to each category."
   ]
  },
  {
   "cell_type": "code",
   "execution_count": 109,
   "metadata": {},
   "outputs": [
    {
     "data": {
      "text/plain": [
       "False    652\n",
       "True     348\n",
       "Name: Deviation (True/False), dtype: int64"
      ]
     },
     "execution_count": 109,
     "metadata": {},
     "output_type": "execute_result"
    }
   ],
   "source": [
    "df_c=df_im.copy()\n",
    "df_c['Deviation (True/False)'].value_counts()"
   ]
  },
  {
   "cell_type": "code",
   "execution_count": 110,
   "metadata": {},
   "outputs": [
    {
     "data": {
      "text/plain": [
       "Shale         530\n",
       "Sand          300\n",
       "Shale-Sand    170\n",
       "Name: Prod. Formation, dtype: int64"
      ]
     },
     "execution_count": 110,
     "metadata": {},
     "output_type": "execute_result"
    }
   ],
   "source": [
    "df_c['Prod. Formation'].value_counts()"
   ]
  },
  {
   "cell_type": "markdown",
   "metadata": {},
   "source": [
    "We can replace each test with numbers starting from 0"
   ]
  },
  {
   "cell_type": "code",
   "execution_count": 111,
   "metadata": {},
   "outputs": [
    {
     "data": {
      "text/html": [
       "<div>\n",
       "<style scoped>\n",
       "    .dataframe tbody tr th:only-of-type {\n",
       "        vertical-align: middle;\n",
       "    }\n",
       "\n",
       "    .dataframe tbody tr th {\n",
       "        vertical-align: top;\n",
       "    }\n",
       "\n",
       "    .dataframe thead th {\n",
       "        text-align: right;\n",
       "    }\n",
       "</style>\n",
       "<table border=\"1\" class=\"dataframe\">\n",
       "  <thead>\n",
       "    <tr style=\"text-align: right;\">\n",
       "      <th></th>\n",
       "      <th>X Coordinate</th>\n",
       "      <th>New Column</th>\n",
       "      <th>Y Coordinate</th>\n",
       "      <th>Measured Depth (m)</th>\n",
       "      <th>Deviation (True/False)</th>\n",
       "      <th>Surface-Casing Weight (kg/m)</th>\n",
       "      <th>Production-Casing Size (mm)</th>\n",
       "      <th>Production-Casing Weight (kg/m)</th>\n",
       "      <th>Bore. Temp. (degC)</th>\n",
       "      <th>Prod. Formation</th>\n",
       "      <th>Porosity (fraction)</th>\n",
       "      <th>Permeability (Darcy)</th>\n",
       "      <th>OIL Prod. (e3m3/month)</th>\n",
       "    </tr>\n",
       "  </thead>\n",
       "  <tbody>\n",
       "    <tr>\n",
       "      <th>0</th>\n",
       "      <td>352.6</td>\n",
       "      <td>742</td>\n",
       "      <td>372</td>\n",
       "      <td>0.913723</td>\n",
       "      <td>0.0</td>\n",
       "      <td>35.7</td>\n",
       "      <td>114.3</td>\n",
       "      <td>20.8</td>\n",
       "      <td>53.0</td>\n",
       "      <td>Shale-Sand</td>\n",
       "      <td>0.224</td>\n",
       "      <td>12.25</td>\n",
       "      <td>108.75</td>\n",
       "    </tr>\n",
       "    <tr>\n",
       "      <th>1</th>\n",
       "      <td>435.7</td>\n",
       "      <td>437</td>\n",
       "      <td>551</td>\n",
       "      <td>0.319947</td>\n",
       "      <td>1.0</td>\n",
       "      <td>25.3</td>\n",
       "      <td>114.3</td>\n",
       "      <td>17.3</td>\n",
       "      <td>33.0</td>\n",
       "      <td>Sand</td>\n",
       "      <td>0.118</td>\n",
       "      <td>4.11</td>\n",
       "      <td>0.33</td>\n",
       "    </tr>\n",
       "    <tr>\n",
       "      <th>2</th>\n",
       "      <td>37.7</td>\n",
       "      <td>803</td>\n",
       "      <td>788</td>\n",
       "      <td>3.063147</td>\n",
       "      <td>1.0</td>\n",
       "      <td>35.7</td>\n",
       "      <td>114.3</td>\n",
       "      <td>22.5</td>\n",
       "      <td>33.0</td>\n",
       "      <td>Shale</td>\n",
       "      <td>0.121</td>\n",
       "      <td>1.99</td>\n",
       "      <td>21.87</td>\n",
       "    </tr>\n",
       "    <tr>\n",
       "      <th>3</th>\n",
       "      <td>346.7</td>\n",
       "      <td>721</td>\n",
       "      <td>311</td>\n",
       "      <td>2.858518</td>\n",
       "      <td>1.0</td>\n",
       "      <td>41.7</td>\n",
       "      <td>114.3</td>\n",
       "      <td>17.3</td>\n",
       "      <td>33.0</td>\n",
       "      <td>Sand</td>\n",
       "      <td>0.170</td>\n",
       "      <td>5.84</td>\n",
       "      <td>46.30</td>\n",
       "    </tr>\n",
       "    <tr>\n",
       "      <th>4</th>\n",
       "      <td>254.6</td>\n",
       "      <td>1114</td>\n",
       "      <td>727</td>\n",
       "      <td>1.134956</td>\n",
       "      <td>1.0</td>\n",
       "      <td>53.6</td>\n",
       "      <td>139.7</td>\n",
       "      <td>20.8</td>\n",
       "      <td>32.0</td>\n",
       "      <td>Sand</td>\n",
       "      <td>0.158</td>\n",
       "      <td>5.25</td>\n",
       "      <td>17.53</td>\n",
       "    </tr>\n",
       "  </tbody>\n",
       "</table>\n",
       "</div>"
      ],
      "text/plain": [
       "   X Coordinate  New Column  Y Coordinate  Measured Depth (m)  \\\n",
       "0         352.6         742           372            0.913723   \n",
       "1         435.7         437           551            0.319947   \n",
       "2          37.7         803           788            3.063147   \n",
       "3         346.7         721           311            2.858518   \n",
       "4         254.6        1114           727            1.134956   \n",
       "\n",
       "   Deviation (True/False)  Surface-Casing Weight (kg/m)  \\\n",
       "0                     0.0                          35.7   \n",
       "1                     1.0                          25.3   \n",
       "2                     1.0                          35.7   \n",
       "3                     1.0                          41.7   \n",
       "4                     1.0                          53.6   \n",
       "\n",
       "   Production-Casing Size (mm)  Production-Casing Weight (kg/m)  \\\n",
       "0                        114.3                             20.8   \n",
       "1                        114.3                             17.3   \n",
       "2                        114.3                             22.5   \n",
       "3                        114.3                             17.3   \n",
       "4                        139.7                             20.8   \n",
       "\n",
       "   Bore. Temp. (degC) Prod. Formation  Porosity (fraction)  \\\n",
       "0                53.0      Shale-Sand                0.224   \n",
       "1                33.0            Sand                0.118   \n",
       "2                33.0           Shale                0.121   \n",
       "3                33.0            Sand                0.170   \n",
       "4                32.0            Sand                0.158   \n",
       "\n",
       "   Permeability (Darcy)  OIL Prod. (e3m3/month)  \n",
       "0                 12.25                  108.75  \n",
       "1                  4.11                    0.33  \n",
       "2                  1.99                   21.87  \n",
       "3                  5.84                   46.30  \n",
       "4                  5.25                   17.53  "
      ]
     },
     "execution_count": 111,
     "metadata": {},
     "output_type": "execute_result"
    }
   ],
   "source": [
    "df_c['Deviation (True/False)']=df_c['Deviation (True/False)'].replace(False, 0) # Replace False with 0\n",
    "df_c['Deviation (True/False)']=df_c['Deviation (True/False)'].replace(True, 1)  # Replace True with 1\n",
    "df_c[0:5]"
   ]
  },
  {
   "cell_type": "code",
   "execution_count": 112,
   "metadata": {},
   "outputs": [
    {
     "data": {
      "text/html": [
       "<div>\n",
       "<style scoped>\n",
       "    .dataframe tbody tr th:only-of-type {\n",
       "        vertical-align: middle;\n",
       "    }\n",
       "\n",
       "    .dataframe tbody tr th {\n",
       "        vertical-align: top;\n",
       "    }\n",
       "\n",
       "    .dataframe thead th {\n",
       "        text-align: right;\n",
       "    }\n",
       "</style>\n",
       "<table border=\"1\" class=\"dataframe\">\n",
       "  <thead>\n",
       "    <tr style=\"text-align: right;\">\n",
       "      <th></th>\n",
       "      <th>X Coordinate</th>\n",
       "      <th>New Column</th>\n",
       "      <th>Y Coordinate</th>\n",
       "      <th>Measured Depth (m)</th>\n",
       "      <th>Deviation (True/False)</th>\n",
       "      <th>Surface-Casing Weight (kg/m)</th>\n",
       "      <th>Production-Casing Size (mm)</th>\n",
       "      <th>Production-Casing Weight (kg/m)</th>\n",
       "      <th>Bore. Temp. (degC)</th>\n",
       "      <th>Prod. Formation</th>\n",
       "      <th>Porosity (fraction)</th>\n",
       "      <th>Permeability (Darcy)</th>\n",
       "      <th>OIL Prod. (e3m3/month)</th>\n",
       "    </tr>\n",
       "  </thead>\n",
       "  <tbody>\n",
       "    <tr>\n",
       "      <th>0</th>\n",
       "      <td>352.6</td>\n",
       "      <td>742</td>\n",
       "      <td>372</td>\n",
       "      <td>0.913723</td>\n",
       "      <td>0.0</td>\n",
       "      <td>35.7</td>\n",
       "      <td>114.3</td>\n",
       "      <td>20.8</td>\n",
       "      <td>53.0</td>\n",
       "      <td>2</td>\n",
       "      <td>0.224</td>\n",
       "      <td>12.25</td>\n",
       "      <td>108.75</td>\n",
       "    </tr>\n",
       "    <tr>\n",
       "      <th>1</th>\n",
       "      <td>435.7</td>\n",
       "      <td>437</td>\n",
       "      <td>551</td>\n",
       "      <td>0.319947</td>\n",
       "      <td>1.0</td>\n",
       "      <td>25.3</td>\n",
       "      <td>114.3</td>\n",
       "      <td>17.3</td>\n",
       "      <td>33.0</td>\n",
       "      <td>1</td>\n",
       "      <td>0.118</td>\n",
       "      <td>4.11</td>\n",
       "      <td>0.33</td>\n",
       "    </tr>\n",
       "    <tr>\n",
       "      <th>2</th>\n",
       "      <td>37.7</td>\n",
       "      <td>803</td>\n",
       "      <td>788</td>\n",
       "      <td>3.063147</td>\n",
       "      <td>1.0</td>\n",
       "      <td>35.7</td>\n",
       "      <td>114.3</td>\n",
       "      <td>22.5</td>\n",
       "      <td>33.0</td>\n",
       "      <td>0</td>\n",
       "      <td>0.121</td>\n",
       "      <td>1.99</td>\n",
       "      <td>21.87</td>\n",
       "    </tr>\n",
       "    <tr>\n",
       "      <th>3</th>\n",
       "      <td>346.7</td>\n",
       "      <td>721</td>\n",
       "      <td>311</td>\n",
       "      <td>2.858518</td>\n",
       "      <td>1.0</td>\n",
       "      <td>41.7</td>\n",
       "      <td>114.3</td>\n",
       "      <td>17.3</td>\n",
       "      <td>33.0</td>\n",
       "      <td>1</td>\n",
       "      <td>0.170</td>\n",
       "      <td>5.84</td>\n",
       "      <td>46.30</td>\n",
       "    </tr>\n",
       "    <tr>\n",
       "      <th>4</th>\n",
       "      <td>254.6</td>\n",
       "      <td>1114</td>\n",
       "      <td>727</td>\n",
       "      <td>1.134956</td>\n",
       "      <td>1.0</td>\n",
       "      <td>53.6</td>\n",
       "      <td>139.7</td>\n",
       "      <td>20.8</td>\n",
       "      <td>32.0</td>\n",
       "      <td>1</td>\n",
       "      <td>0.158</td>\n",
       "      <td>5.25</td>\n",
       "      <td>17.53</td>\n",
       "    </tr>\n",
       "  </tbody>\n",
       "</table>\n",
       "</div>"
      ],
      "text/plain": [
       "   X Coordinate  New Column  Y Coordinate  Measured Depth (m)  \\\n",
       "0         352.6         742           372            0.913723   \n",
       "1         435.7         437           551            0.319947   \n",
       "2          37.7         803           788            3.063147   \n",
       "3         346.7         721           311            2.858518   \n",
       "4         254.6        1114           727            1.134956   \n",
       "\n",
       "   Deviation (True/False)  Surface-Casing Weight (kg/m)  \\\n",
       "0                     0.0                          35.7   \n",
       "1                     1.0                          25.3   \n",
       "2                     1.0                          35.7   \n",
       "3                     1.0                          41.7   \n",
       "4                     1.0                          53.6   \n",
       "\n",
       "   Production-Casing Size (mm)  Production-Casing Weight (kg/m)  \\\n",
       "0                        114.3                             20.8   \n",
       "1                        114.3                             17.3   \n",
       "2                        114.3                             22.5   \n",
       "3                        114.3                             17.3   \n",
       "4                        139.7                             20.8   \n",
       "\n",
       "   Bore. Temp. (degC)  Prod. Formation  Porosity (fraction)  \\\n",
       "0                53.0                2                0.224   \n",
       "1                33.0                1                0.118   \n",
       "2                33.0                0                0.121   \n",
       "3                33.0                1                0.170   \n",
       "4                32.0                1                0.158   \n",
       "\n",
       "   Permeability (Darcy)  OIL Prod. (e3m3/month)  \n",
       "0                 12.25                  108.75  \n",
       "1                  4.11                    0.33  \n",
       "2                  1.99                   21.87  \n",
       "3                  5.84                   46.30  \n",
       "4                  5.25                   17.53  "
      ]
     },
     "execution_count": 112,
     "metadata": {},
     "output_type": "execute_result"
    }
   ],
   "source": [
    "df_c['Prod. Formation']=df_c['Prod. Formation'].replace('Shale', 0)       # Replace Shale with 0\n",
    "df_c['Prod. Formation']=df_c['Prod. Formation'].replace('Sand', 1)        # Replace Sand with 1\n",
    "df_c['Prod. Formation']=df_c['Prod. Formation'].replace('Shale-Sand', 2)  # Replace Shale-Sand with 2\n",
    "df_c[0:5]"
   ]
  },
  {
   "cell_type": "markdown",
   "metadata": {},
   "source": [
    "One challenge with this representation is that Machine Learning algorithms consider two nearby values are more similar than two distant values. This may be fine for some cases (order of categories “bad”, “average”, “good”), but this is not always true. A common solution is to have one binary attribute per category. This is called **one-hot encoding**, because we only  have one attribute equal to 1 (hot), while the others are 0 (cold). "
   ]
  },
  {
   "cell_type": "code",
   "execution_count": 113,
   "metadata": {},
   "outputs": [
    {
     "name": "stdout",
     "output_type": "stream",
     "text": [
      "   Deviation_a  Deviation_b\n",
      "0            1            0\n",
      "1            0            1\n"
     ]
    }
   ],
   "source": [
    "One_hot = pd.get_dummies(['a','b'],prefix='Deviation')\n",
    "print(One_hot)"
   ]
  },
  {
   "cell_type": "markdown",
   "metadata": {},
   "source": [
    "These dummies should be merged back into the data frame.  "
   ]
  },
  {
   "cell_type": "code",
   "execution_count": 114,
   "metadata": {},
   "outputs": [
    {
     "name": "stdout",
     "output_type": "stream",
     "text": [
      "   Deviation_False  Deviation_True\n",
      "0                1               0\n",
      "1                0               1\n",
      "2                0               1\n",
      "3                0               1\n",
      "4                0               1\n",
      "5                1               0\n",
      "6                0               1\n",
      "7                1               0\n",
      "8                1               0\n",
      "9                0               1\n"
     ]
    }
   ],
   "source": [
    "One_hot = pd.get_dummies(df_im['Deviation (True/False)'],prefix='Deviation')\n",
    "print(One_hot[0:10]) # Just show the first 10"
   ]
  },
  {
   "cell_type": "code",
   "execution_count": 115,
   "metadata": {},
   "outputs": [
    {
     "data": {
      "text/html": [
       "<div>\n",
       "<style scoped>\n",
       "    .dataframe tbody tr th:only-of-type {\n",
       "        vertical-align: middle;\n",
       "    }\n",
       "\n",
       "    .dataframe tbody tr th {\n",
       "        vertical-align: top;\n",
       "    }\n",
       "\n",
       "    .dataframe thead th {\n",
       "        text-align: right;\n",
       "    }\n",
       "</style>\n",
       "<table border=\"1\" class=\"dataframe\">\n",
       "  <thead>\n",
       "    <tr style=\"text-align: right;\">\n",
       "      <th></th>\n",
       "      <th>X Coordinate</th>\n",
       "      <th>New Column</th>\n",
       "      <th>Y Coordinate</th>\n",
       "      <th>Measured Depth (m)</th>\n",
       "      <th>Deviation (True/False)</th>\n",
       "      <th>Surface-Casing Weight (kg/m)</th>\n",
       "      <th>Production-Casing Size (mm)</th>\n",
       "      <th>Production-Casing Weight (kg/m)</th>\n",
       "      <th>Bore. Temp. (degC)</th>\n",
       "      <th>Prod. Formation</th>\n",
       "      <th>Porosity (fraction)</th>\n",
       "      <th>Permeability (Darcy)</th>\n",
       "      <th>OIL Prod. (e3m3/month)</th>\n",
       "      <th>Deviation_False</th>\n",
       "      <th>Deviation_True</th>\n",
       "    </tr>\n",
       "  </thead>\n",
       "  <tbody>\n",
       "    <tr>\n",
       "      <th>0</th>\n",
       "      <td>352.6</td>\n",
       "      <td>742</td>\n",
       "      <td>372</td>\n",
       "      <td>0.913723</td>\n",
       "      <td>False</td>\n",
       "      <td>35.7</td>\n",
       "      <td>114.3</td>\n",
       "      <td>20.8</td>\n",
       "      <td>53.0</td>\n",
       "      <td>Shale-Sand</td>\n",
       "      <td>0.224</td>\n",
       "      <td>12.25</td>\n",
       "      <td>108.75</td>\n",
       "      <td>1</td>\n",
       "      <td>0</td>\n",
       "    </tr>\n",
       "    <tr>\n",
       "      <th>1</th>\n",
       "      <td>435.7</td>\n",
       "      <td>437</td>\n",
       "      <td>551</td>\n",
       "      <td>0.319947</td>\n",
       "      <td>True</td>\n",
       "      <td>25.3</td>\n",
       "      <td>114.3</td>\n",
       "      <td>17.3</td>\n",
       "      <td>33.0</td>\n",
       "      <td>Sand</td>\n",
       "      <td>0.118</td>\n",
       "      <td>4.11</td>\n",
       "      <td>0.33</td>\n",
       "      <td>0</td>\n",
       "      <td>1</td>\n",
       "    </tr>\n",
       "    <tr>\n",
       "      <th>2</th>\n",
       "      <td>37.7</td>\n",
       "      <td>803</td>\n",
       "      <td>788</td>\n",
       "      <td>3.063147</td>\n",
       "      <td>True</td>\n",
       "      <td>35.7</td>\n",
       "      <td>114.3</td>\n",
       "      <td>22.5</td>\n",
       "      <td>33.0</td>\n",
       "      <td>Shale</td>\n",
       "      <td>0.121</td>\n",
       "      <td>1.99</td>\n",
       "      <td>21.87</td>\n",
       "      <td>0</td>\n",
       "      <td>1</td>\n",
       "    </tr>\n",
       "    <tr>\n",
       "      <th>3</th>\n",
       "      <td>346.7</td>\n",
       "      <td>721</td>\n",
       "      <td>311</td>\n",
       "      <td>2.858518</td>\n",
       "      <td>True</td>\n",
       "      <td>41.7</td>\n",
       "      <td>114.3</td>\n",
       "      <td>17.3</td>\n",
       "      <td>33.0</td>\n",
       "      <td>Sand</td>\n",
       "      <td>0.170</td>\n",
       "      <td>5.84</td>\n",
       "      <td>46.30</td>\n",
       "      <td>0</td>\n",
       "      <td>1</td>\n",
       "    </tr>\n",
       "    <tr>\n",
       "      <th>4</th>\n",
       "      <td>254.6</td>\n",
       "      <td>1114</td>\n",
       "      <td>727</td>\n",
       "      <td>1.134956</td>\n",
       "      <td>True</td>\n",
       "      <td>53.6</td>\n",
       "      <td>139.7</td>\n",
       "      <td>20.8</td>\n",
       "      <td>32.0</td>\n",
       "      <td>Sand</td>\n",
       "      <td>0.158</td>\n",
       "      <td>5.25</td>\n",
       "      <td>17.53</td>\n",
       "      <td>0</td>\n",
       "      <td>1</td>\n",
       "    </tr>\n",
       "  </tbody>\n",
       "</table>\n",
       "</div>"
      ],
      "text/plain": [
       "   X Coordinate  New Column  Y Coordinate  Measured Depth (m)  \\\n",
       "0         352.6         742           372            0.913723   \n",
       "1         435.7         437           551            0.319947   \n",
       "2          37.7         803           788            3.063147   \n",
       "3         346.7         721           311            2.858518   \n",
       "4         254.6        1114           727            1.134956   \n",
       "\n",
       "   Deviation (True/False)  Surface-Casing Weight (kg/m)  \\\n",
       "0                   False                          35.7   \n",
       "1                    True                          25.3   \n",
       "2                    True                          35.7   \n",
       "3                    True                          41.7   \n",
       "4                    True                          53.6   \n",
       "\n",
       "   Production-Casing Size (mm)  Production-Casing Weight (kg/m)  \\\n",
       "0                        114.3                             20.8   \n",
       "1                        114.3                             17.3   \n",
       "2                        114.3                             22.5   \n",
       "3                        114.3                             17.3   \n",
       "4                        139.7                             20.8   \n",
       "\n",
       "   Bore. Temp. (degC) Prod. Formation  Porosity (fraction)  \\\n",
       "0                53.0      Shale-Sand                0.224   \n",
       "1                33.0            Sand                0.118   \n",
       "2                33.0           Shale                0.121   \n",
       "3                33.0            Sand                0.170   \n",
       "4                32.0            Sand                0.158   \n",
       "\n",
       "   Permeability (Darcy)  OIL Prod. (e3m3/month)  Deviation_False  \\\n",
       "0                 12.25                  108.75                1   \n",
       "1                  4.11                    0.33                0   \n",
       "2                  1.99                   21.87                0   \n",
       "3                  5.84                   46.30                0   \n",
       "4                  5.25                   17.53                0   \n",
       "\n",
       "   Deviation_True  \n",
       "0               0  \n",
       "1               1  \n",
       "2               1  \n",
       "3               1  \n",
       "4               1  "
      ]
     },
     "execution_count": 115,
     "metadata": {},
     "output_type": "execute_result"
    }
   ],
   "source": [
    "df_one_hot = pd.concat([df_im,One_hot],axis=1)\n",
    "df_one_hot[0:5]"
   ]
  },
  {
   "cell_type": "markdown",
   "metadata": {},
   "source": [
    "This should be done for 'Prod. Formation' column."
   ]
  },
  {
   "cell_type": "code",
   "execution_count": 116,
   "metadata": {},
   "outputs": [
    {
     "data": {
      "text/html": [
       "<div>\n",
       "<style scoped>\n",
       "    .dataframe tbody tr th:only-of-type {\n",
       "        vertical-align: middle;\n",
       "    }\n",
       "\n",
       "    .dataframe tbody tr th {\n",
       "        vertical-align: top;\n",
       "    }\n",
       "\n",
       "    .dataframe thead th {\n",
       "        text-align: right;\n",
       "    }\n",
       "</style>\n",
       "<table border=\"1\" class=\"dataframe\">\n",
       "  <thead>\n",
       "    <tr style=\"text-align: right;\">\n",
       "      <th></th>\n",
       "      <th>X Coordinate</th>\n",
       "      <th>New Column</th>\n",
       "      <th>Y Coordinate</th>\n",
       "      <th>Measured Depth (m)</th>\n",
       "      <th>Deviation (True/False)</th>\n",
       "      <th>Surface-Casing Weight (kg/m)</th>\n",
       "      <th>Production-Casing Size (mm)</th>\n",
       "      <th>Production-Casing Weight (kg/m)</th>\n",
       "      <th>Bore. Temp. (degC)</th>\n",
       "      <th>Prod. Formation</th>\n",
       "      <th>Porosity (fraction)</th>\n",
       "      <th>Permeability (Darcy)</th>\n",
       "      <th>OIL Prod. (e3m3/month)</th>\n",
       "      <th>Deviation_False</th>\n",
       "      <th>Deviation_True</th>\n",
       "      <th>Formation_Sand</th>\n",
       "      <th>Formation_Shale</th>\n",
       "      <th>Formation_Shale-Sand</th>\n",
       "    </tr>\n",
       "  </thead>\n",
       "  <tbody>\n",
       "    <tr>\n",
       "      <th>0</th>\n",
       "      <td>352.6</td>\n",
       "      <td>742</td>\n",
       "      <td>372</td>\n",
       "      <td>0.913723</td>\n",
       "      <td>False</td>\n",
       "      <td>35.7</td>\n",
       "      <td>114.3</td>\n",
       "      <td>20.8</td>\n",
       "      <td>53.0</td>\n",
       "      <td>Shale-Sand</td>\n",
       "      <td>0.224</td>\n",
       "      <td>12.25</td>\n",
       "      <td>108.75</td>\n",
       "      <td>1</td>\n",
       "      <td>0</td>\n",
       "      <td>0</td>\n",
       "      <td>0</td>\n",
       "      <td>1</td>\n",
       "    </tr>\n",
       "    <tr>\n",
       "      <th>1</th>\n",
       "      <td>435.7</td>\n",
       "      <td>437</td>\n",
       "      <td>551</td>\n",
       "      <td>0.319947</td>\n",
       "      <td>True</td>\n",
       "      <td>25.3</td>\n",
       "      <td>114.3</td>\n",
       "      <td>17.3</td>\n",
       "      <td>33.0</td>\n",
       "      <td>Sand</td>\n",
       "      <td>0.118</td>\n",
       "      <td>4.11</td>\n",
       "      <td>0.33</td>\n",
       "      <td>0</td>\n",
       "      <td>1</td>\n",
       "      <td>1</td>\n",
       "      <td>0</td>\n",
       "      <td>0</td>\n",
       "    </tr>\n",
       "    <tr>\n",
       "      <th>2</th>\n",
       "      <td>37.7</td>\n",
       "      <td>803</td>\n",
       "      <td>788</td>\n",
       "      <td>3.063147</td>\n",
       "      <td>True</td>\n",
       "      <td>35.7</td>\n",
       "      <td>114.3</td>\n",
       "      <td>22.5</td>\n",
       "      <td>33.0</td>\n",
       "      <td>Shale</td>\n",
       "      <td>0.121</td>\n",
       "      <td>1.99</td>\n",
       "      <td>21.87</td>\n",
       "      <td>0</td>\n",
       "      <td>1</td>\n",
       "      <td>0</td>\n",
       "      <td>1</td>\n",
       "      <td>0</td>\n",
       "    </tr>\n",
       "    <tr>\n",
       "      <th>3</th>\n",
       "      <td>346.7</td>\n",
       "      <td>721</td>\n",
       "      <td>311</td>\n",
       "      <td>2.858518</td>\n",
       "      <td>True</td>\n",
       "      <td>41.7</td>\n",
       "      <td>114.3</td>\n",
       "      <td>17.3</td>\n",
       "      <td>33.0</td>\n",
       "      <td>Sand</td>\n",
       "      <td>0.170</td>\n",
       "      <td>5.84</td>\n",
       "      <td>46.30</td>\n",
       "      <td>0</td>\n",
       "      <td>1</td>\n",
       "      <td>1</td>\n",
       "      <td>0</td>\n",
       "      <td>0</td>\n",
       "    </tr>\n",
       "    <tr>\n",
       "      <th>4</th>\n",
       "      <td>254.6</td>\n",
       "      <td>1114</td>\n",
       "      <td>727</td>\n",
       "      <td>1.134956</td>\n",
       "      <td>True</td>\n",
       "      <td>53.6</td>\n",
       "      <td>139.7</td>\n",
       "      <td>20.8</td>\n",
       "      <td>32.0</td>\n",
       "      <td>Sand</td>\n",
       "      <td>0.158</td>\n",
       "      <td>5.25</td>\n",
       "      <td>17.53</td>\n",
       "      <td>0</td>\n",
       "      <td>1</td>\n",
       "      <td>1</td>\n",
       "      <td>0</td>\n",
       "      <td>0</td>\n",
       "    </tr>\n",
       "  </tbody>\n",
       "</table>\n",
       "</div>"
      ],
      "text/plain": [
       "   X Coordinate  New Column  Y Coordinate  Measured Depth (m)  \\\n",
       "0         352.6         742           372            0.913723   \n",
       "1         435.7         437           551            0.319947   \n",
       "2          37.7         803           788            3.063147   \n",
       "3         346.7         721           311            2.858518   \n",
       "4         254.6        1114           727            1.134956   \n",
       "\n",
       "   Deviation (True/False)  Surface-Casing Weight (kg/m)  \\\n",
       "0                   False                          35.7   \n",
       "1                    True                          25.3   \n",
       "2                    True                          35.7   \n",
       "3                    True                          41.7   \n",
       "4                    True                          53.6   \n",
       "\n",
       "   Production-Casing Size (mm)  Production-Casing Weight (kg/m)  \\\n",
       "0                        114.3                             20.8   \n",
       "1                        114.3                             17.3   \n",
       "2                        114.3                             22.5   \n",
       "3                        114.3                             17.3   \n",
       "4                        139.7                             20.8   \n",
       "\n",
       "   Bore. Temp. (degC) Prod. Formation  Porosity (fraction)  \\\n",
       "0                53.0      Shale-Sand                0.224   \n",
       "1                33.0            Sand                0.118   \n",
       "2                33.0           Shale                0.121   \n",
       "3                33.0            Sand                0.170   \n",
       "4                32.0            Sand                0.158   \n",
       "\n",
       "   Permeability (Darcy)  OIL Prod. (e3m3/month)  Deviation_False  \\\n",
       "0                 12.25                  108.75                1   \n",
       "1                  4.11                    0.33                0   \n",
       "2                  1.99                   21.87                0   \n",
       "3                  5.84                   46.30                0   \n",
       "4                  5.25                   17.53                0   \n",
       "\n",
       "   Deviation_True  Formation_Sand  Formation_Shale  Formation_Shale-Sand  \n",
       "0               0               0                0                     1  \n",
       "1               1               1                0                     0  \n",
       "2               1               0                1                     0  \n",
       "3               1               1                0                     0  \n",
       "4               1               1                0                     0  "
      ]
     },
     "execution_count": 116,
     "metadata": {},
     "output_type": "execute_result"
    }
   ],
   "source": [
    "One_hot = pd.get_dummies(df_im['Prod. Formation'],prefix='Formation')\n",
    "df_one_hot = pd.concat([df_one_hot,One_hot],axis=1)\n",
    "df_one_hot[0:5]"
   ]
  },
  {
   "cell_type": "markdown",
   "metadata": {},
   "source": [
    "Finally, the original columns 'Deviation (True/False)' and 'Prod. Formation' should be removed. "
   ]
  },
  {
   "cell_type": "code",
   "execution_count": 117,
   "metadata": {},
   "outputs": [],
   "source": [
    "df_one_hot.drop(['Deviation (True/False)','Prod. Formation'], axis=1, inplace=True)\n",
    "#df_one_hot"
   ]
  },
  {
   "cell_type": "markdown",
   "metadata": {},
   "source": [
    "## Split Data to Training and Validation "
   ]
  },
  {
   "cell_type": "markdown",
   "metadata": {},
   "source": [
    "Machine Learning models should be evaluated based on prediction for never-before-seen data set. The models usually have high performance for the data that are trained by. However, the main aim of training is to have high performance on completely new data set. So, data are split into training and validation set. The machine learning models learn from the training data, but based on the validation data are evaluated: the data should be divided into training and validation set according to some ratio. The common ratios are 80% training and 20% validation. \n",
    "The image below shows how a model is trained on 80% of the data and then validated against the remaining 20%. Based on feedback performance on evaluation set, Machine learning algorithms are modified. This process is repeated until the model's performance is satisfied. This repetition also could lead to **information leak**. The model could perform well on the validation set but not on a new data set. So, sometimes, a portion of data are hold-out for testing. We will talk about this on the next lectures\n",
    "\n",
    "<p>&nbsp;</p>\n",
    "<img src=\"https://raw.githubusercontent.com/MehdiRezvandehy/Machine-Learning-Course-University-of-Calgary/master/Images/Fig4-1.png\" alt=\"drawing\" width=\"900\"/>\n",
    "<p>&nbsp;</p>\n",
    "\n",
    "The following code splits the data into 80% training and 20% validation set.\n"
   ]
  },
  {
   "cell_type": "code",
   "execution_count": 118,
   "metadata": {
    "scrolled": true
   },
   "outputs": [
    {
     "name": "stdout",
     "output_type": "stream",
     "text": [
      "Number of Training: 790\n",
      "Number of Validation: 210\n"
     ]
    }
   ],
   "source": [
    "import numpy as np\n",
    "\n",
    "df = df.reindex(np.random.permutation(df.index)) #  Shuffle the data\n",
    "df.reset_index(inplace=True, drop=True) # Reset index\n",
    "MASK = np.random.rand(len(df)) < 0.8    \n",
    "df_train = pd.DataFrame(df[MASK])\n",
    "df_validation = pd.DataFrame(df[~MASK])\n",
    "\n",
    "print(\"Number of Training: \"+ str(len(df_train)))\n",
    "print(\"Number of Validation: \"+  str(len(df_validation)))"
   ]
  },
  {
   "cell_type": "code",
   "execution_count": null,
   "metadata": {},
   "outputs": [],
   "source": []
  }
 ],
 "metadata": {
  "kernelspec": {
   "display_name": "Python 3",
   "language": "python",
   "name": "python3"
  },
  "language_info": {
   "codemirror_mode": {
    "name": "ipython",
    "version": 3
   },
   "file_extension": ".py",
   "mimetype": "text/x-python",
   "name": "python",
   "nbconvert_exporter": "python",
   "pygments_lexer": "ipython3",
   "version": "3.8.3"
  },
  "toc": {
   "base_numbering": 1,
   "nav_menu": {},
   "number_sections": true,
   "sideBar": true,
   "skip_h1_title": false,
   "title_cell": "Table of Contents",
   "title_sidebar": "Contents",
   "toc_cell": true,
   "toc_position": {
    "height": "calc(100% - 180px)",
    "left": "10px",
    "top": "150px",
    "width": "248px"
   },
   "toc_section_display": true,
   "toc_window_display": true
  }
 },
 "nbformat": 4,
 "nbformat_minor": 4
}
